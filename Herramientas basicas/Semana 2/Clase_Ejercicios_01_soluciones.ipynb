{
 "cells": [
  {
   "cell_type": "markdown",
   "metadata": {},
   "source": [
    "# Herramientas básicas para el Análisis de Datos (IMA602)\n",
    "\n",
    "## Soluciones (ejercicios sobre variables numéricas)"
   ]
  },
  {
   "cell_type": "markdown",
   "metadata": {},
   "source": [
    "## Ejercicio 1: \n",
    "\n",
    "Escribir una función que no recibe argumentos e implementa el siguiente procedimiento:\n",
    "\n",
    "1- Genera un número aleatorio entre 0 y 100 (incluidos).\n",
    "\n",
    "2- Solicita al usuario que adivine el número generado.\n",
    "\n",
    "3- Entrega la respuesta (muy alto, muy bajo o correcto)\n",
    "\n",
    "4- Si es correcto termina, sino vuelve al paso 2.\n",
    "\n",
    "Obs: El programa termina solo con la respuesta correcta!"
   ]
  },
  {
   "cell_type": "markdown",
   "metadata": {},
   "source": [
    "### Solución\n"
   ]
  },
  {
   "cell_type": "code",
   "execution_count": 8,
   "metadata": {},
   "outputs": [
    {
     "name": "stdout",
     "output_type": "stream",
     "text": [
      "8\n",
      "Hello, Walter\n"
     ]
    }
   ],
   "source": [
    "## Interactuando con stdin\n",
    "import random \n",
    "\n",
    "number=random.randint(1,100)\n",
    "print(number)\n",
    "\n",
    "name=input('Enter your name: ')\n",
    "print(f'Hello, {name}')"
   ]
  },
  {
   "cell_type": "code",
   "execution_count": 1,
   "metadata": {},
   "outputs": [
    {
     "name": "stdout",
     "output_type": "stream",
     "text": [
      "Hola, Walter____ _____Gomez\n",
      "x*2= 200, and y.capitalize() is Abc\n"
     ]
    }
   ],
   "source": [
    "## Probando las opciones de salida\n",
    "\n",
    "name='world'\n",
    "first='Walter'\n",
    "last='Gomez'\n",
    "print(f'Hola, {first:_<10} {last:_>10}')\n",
    "\n",
    "x=100\n",
    "y='abc'\n",
    "print(f'x*2= {x*2}, and y.capitalize() is {y.capitalize()}')"
   ]
  },
  {
   "cell_type": "code",
   "execution_count": 4,
   "metadata": {},
   "outputs": [
    {
     "name": "stdout",
     "output_type": "stream",
     "text": [
      "60 es muy alto\n",
      "50 es muy alto\n",
      "0 es muy bajo\n",
      "4 es muy bajo\n",
      "30 es correcto!\n"
     ]
    }
   ],
   "source": [
    "def adivinando_nr():\n",
    "    numero=random.randint(0,100)\n",
    "    while True:\n",
    "        intento=int(input('Escriba su intento: '))\n",
    "        if intento == numero:\n",
    "            print(f'{intento} es correcto!')\n",
    "            break\n",
    "        if intento < numero:\n",
    "            print(f'{intento} es muy bajo')\n",
    "        else:\n",
    "            print(f'{intento} es muy alto')\n",
    "        \n",
    "adivinando_nr()"
   ]
  },
  {
   "cell_type": "markdown",
   "metadata": {},
   "source": [
    "## Ejercicio 2: \n",
    "\n",
    "Escribir una función que sume una secuencia de números, pero en vez de recibir una secuencia de números como único parámetro, debe recibir  una secuencia arbitariamente larga de parámetros numéricos que debe sumar.\n",
    "\n",
    "\n",
    "Obs: No utilizar la función sum()."
   ]
  },
  {
   "cell_type": "code",
   "execution_count": 1,
   "metadata": {},
   "outputs": [
    {
     "name": "stdout",
     "output_type": "stream",
     "text": [
      "6\n"
     ]
    }
   ],
   "source": [
    "## A modo de comparación\n",
    "print(sum([1,2,3]))\n",
    "#print(sum(1,2,3))\n"
   ]
  },
  {
   "cell_type": "code",
   "execution_count": 2,
   "metadata": {},
   "outputs": [
    {
     "name": "stdout",
     "output_type": "stream",
     "text": [
      "6\n",
      "6\n"
     ]
    }
   ],
   "source": [
    "## Solución\n",
    "\n",
    "def mysum(*numbers):\n",
    "    total=0\n",
    "    for nr in numbers:\n",
    "        total+=nr\n",
    "    return total\n",
    "\n",
    "print(mysum(1,2,3))\n",
    "print(mysum(*[1,2,3]))\n"
   ]
  },
  {
   "cell_type": "markdown",
   "metadata": {},
   "source": [
    "## Ejercicio 3: \n",
    "\n",
    "Escribir una función que pregunte por el tiempo requerido el usuario para recorrer 10km.\n",
    "\n",
    "* La función debe preguntar sucesivamente hasta recibir un Enter\n",
    "\n",
    "* Al recibir el Enter, la función debe  imprimir el valor promedio de los tiempos ingredsados y terminar. "
   ]
  },
  {
   "cell_type": "code",
   "execution_count": 30,
   "metadata": {},
   "outputs": [
    {
     "name": "stdout",
     "output_type": "stream",
     "text": [
      "No se ingresó un número válido\n"
     ]
    }
   ],
   "source": [
    "## Al solicitar valores flotantes es mejor utilizar captura de errores\n",
    "\n",
    "try: \n",
    "    n=float(input('Ingrese un número: '))\n",
    "    print(f'n= {n}')\n",
    "except ValueError as e:\n",
    "    print('No se ingresó un número válido')"
   ]
  },
  {
   "cell_type": "code",
   "execution_count": 32,
   "metadata": {},
   "outputs": [
    {
     "name": "stdout",
     "output_type": "stream",
     "text": [
      "0.7999999999999999\n",
      "0.80\n"
     ]
    }
   ],
   "source": [
    "## Devolviendo valores numéricos reales\n",
    "\n",
    "s=0.1+0.7\n",
    "print(s)\n",
    "print(f'{s:.2f}')\n"
   ]
  },
  {
   "cell_type": "code",
   "execution_count": 41,
   "metadata": {},
   "outputs": [
    {
     "name": "stdout",
     "output_type": "stream",
     "text": [
      "No se ingresó un número válido\n",
      "No se ingresó un número válido\n",
      "No se ingresó un número válido\n",
      "Tiempo promedio 8483.000, en 1 corridas\n"
     ]
    }
   ],
   "source": [
    "## Solución\n",
    "\n",
    "def tiempo_promedio():\n",
    "    numero_de_corridas=0\n",
    "    tiempo_total=0\n",
    "    \n",
    "    while True:\n",
    "        una_corrida=input('Ingrese el tiempo para 10km: ')\n",
    "        if not una_corrida:\n",
    "            break\n",
    "        # una_corrida='', se interpreta como 0 (False)\n",
    "        try:\n",
    "            nr_una_corrida= float(una_corrida)\n",
    "            numero_de_corridas += 1\n",
    "            tiempo_total += float(una_corrida)\n",
    "        except ValueError as e:\n",
    "            print(f'No se ingresó un número válido')\n",
    "            \n",
    "    if numero_de_corridas>0:\n",
    "        tiempo_promedio= tiempo_total/numero_de_corridas\n",
    "        print(f'Tiempo promedio {tiempo_promedio:.3f}, en {numero_de_corridas} corridas')\n",
    "    else:\n",
    "        print(f'No se ingresaron tiempos de corridas!')\n",
    "\n",
    "tiempo_promedio()"
   ]
  },
  {
   "cell_type": "markdown",
   "metadata": {},
   "source": [
    "## Ejercicio 4: \n",
    "\n",
    "Implemente una función *hex_salida()* que solicita un número hexadecimal (en base 16) al usuario  y entrega el decimal equivalente (base 10). Por ejemplo: *hex_salida(21)--> 33* (No utilizar la función hex o el prefijo 0x)\n"
   ]
  },
  {
   "cell_type": "code",
   "execution_count": 1,
   "metadata": {},
   "outputs": [
    {
     "name": "stdout",
     "output_type": "stream",
     "text": [
      "0: U\n",
      "1: F\n",
      "2: R\n",
      "3: O\n",
      "0: O\n",
      "1: R\n",
      "2: F\n",
      "3: U\n"
     ]
    }
   ],
   "source": [
    "# La funcionalidad enumerate y reverse\n",
    "\n",
    "for indice, una_letra in enumerate('UFRO'):\n",
    "    print(f'{indice}: {una_letra}')\n",
    "\n",
    "for indice, una_letra in enumerate(reversed('UFRO')):\n",
    "    print(f'{indice}: {una_letra}')"
   ]
  },
  {
   "cell_type": "code",
   "execution_count": 4,
   "metadata": {},
   "outputs": [
    {
     "name": "stdout",
     "output_type": "stream",
     "text": [
      "655807\n"
     ]
    }
   ],
   "source": [
    "def hex_salida():\n",
    "    dec_nr=0\n",
    "    hex_nr=input('Ingrese el número hex que desea convertir a decimal: ')\n",
    "    for potencia, digito in enumerate(reversed(hex_nr)):\n",
    "        dec_nr += int(digito,16) * (16 ** potencia)\n",
    "    print((dec_nr))\n",
    "\n",
    "hex_salida()\n"
   ]
  }
 ],
 "metadata": {
  "kernelspec": {
   "display_name": "Python 3.6.5 ('base')",
   "language": "python",
   "name": "python3"
  },
  "language_info": {
   "codemirror_mode": {
    "name": "ipython",
    "version": 3
   },
   "file_extension": ".py",
   "mimetype": "text/x-python",
   "name": "python",
   "nbconvert_exporter": "python",
   "pygments_lexer": "ipython3",
   "version": "3.9.0"
  },
  "vscode": {
   "interpreter": {
    "hash": "e4cce46d6be9934fbd27f9ca0432556941ea5bdf741d4f4d64c6cd7f8dfa8fba"
   }
  }
 },
 "nbformat": 4,
 "nbformat_minor": 4
}
