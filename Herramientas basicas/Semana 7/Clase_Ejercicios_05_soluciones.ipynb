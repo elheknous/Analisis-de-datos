{
 "cells": [
  {
   "cell_type": "markdown",
   "metadata": {},
   "source": [
    "# Herramientas básicas para el Análisis de Datos (IMA602)\n",
    "\n",
    "## Ejercicios sobre trabajo con funciones.\n"
   ]
  },
  {
   "cell_type": "markdown",
   "metadata": {},
   "source": [
    "## Ejercicio 1: \n",
    "\n",
    "Escribe una función *mi_xml()*  que genera un string de salida tipo xml. La función debe recibir al menos un argumento string que es el tipo tag. El segundo argumento (opcional) es el texto dentro del tag, que debe quedar ubicado entre la apertura y el cierre del tag. Los restantes argumentos (opcionales) son los atributos del tag que se ubican en la apertura del tag.\n",
    "\n",
    "Ejemplos:  \n",
    "mi_xml('tag1') --> \\<tag1>\\</tag1>  \n",
    "mi_xml('tag1','texto') --> \\<tag1>texto\\</tag1>  \n",
    "mi_xml('tag1','texto', atrib_1=1, atrib_2=2, atrib_3=3) --> \\<tag1 atrib_1=\"1\" atrib_2=\"2\" atrib_3=\"3\">texto\\</tag1>"
   ]
  },
  {
   "cell_type": "code",
   "execution_count": 1,
   "metadata": {},
   "outputs": [
    {
     "data": {
      "text/plain": [
       "'<title atr1=\"1\" atr2=\"2\">Titulo de la página</title>'"
      ]
     },
     "execution_count": 1,
     "metadata": {},
     "output_type": "execute_result"
    }
   ],
   "source": [
    "# Solución:\n",
    "\n",
    "def mi_xml(nombre_del_tag, contenido='',**atrib_dicc):\n",
    "    atrib_string=''.join([f' {clave}=\"{valor}\"' for clave, valor in atrib_dicc.items()])\n",
    "    return f'<{nombre_del_tag}{atrib_string}>{contenido}</{nombre_del_tag}>'\n",
    "\n",
    "mi_xml('title','Titulo de la página', atr1=1, atr2=2)"
   ]
  },
  {
   "cell_type": "markdown",
   "metadata": {},
   "source": [
    "## Ejercicio 2\n",
    "\n",
    "Escriba una función *calc()* que haga las operaciones elementales, a saber: suma, resta, multiplicación, división (/), modulo (%) y potencia(**). Las operación se declara en un string que contiene primero la operación y luego los dos números enteros separados por espacio en blanco:\n",
    "\n",
    "Ejemplos:  \n",
    "calc('+ 4 3') --> 7  \n",
    "calc('- 4 3') --> 1  \n",
    "calc('* 4 3') --> 12  \n",
    "calc('/ 4 3') --> 1.333  \n",
    "calc('% 4 3') --> 1  \n",
    "calc('** 4 3') --> 64"
   ]
  },
  {
   "cell_type": "code",
   "execution_count": 2,
   "metadata": {},
   "outputs": [
    {
     "data": {
      "text/plain": [
       "64"
      ]
     },
     "execution_count": 2,
     "metadata": {},
     "output_type": "execute_result"
    }
   ],
   "source": [
    "# Solución 1\n",
    "\n",
    "def suma(a,b):\n",
    "    return a+b\n",
    "\n",
    "def resta(a,b):\n",
    "    return a-b\n",
    "\n",
    "def mult(a,b):\n",
    "    return a*b\n",
    "\n",
    "def divis(a,b):\n",
    "    return a/b\n",
    "\n",
    "def modulo(a,b):\n",
    "    return a%b\n",
    "\n",
    "def potencia(a,b):\n",
    "    return a**b\n",
    "\n",
    "def calc(to_solve):\n",
    "    operations= {'+':suma, '-':resta, '*':mult, '/':divis, '%':modulo, '**':potencia}\n",
    "    op, first_s, second_s = to_solve.split()\n",
    "    first=int(first_s)\n",
    "    second=int(second_s)\n",
    "    return operations[op](first, second)\n",
    "\n",
    "\n",
    "calc('** 4 3')"
   ]
  },
  {
   "cell_type": "code",
   "execution_count": 2,
   "metadata": {},
   "outputs": [
    {
     "ename": "TypeError",
     "evalue": "add expected 2 arguments, got 3",
     "output_type": "error",
     "traceback": [
      "\u001b[1;31m---------------------------------------------------------------------------\u001b[0m",
      "\u001b[1;31mTypeError\u001b[0m                                 Traceback (most recent call last)",
      "Cell \u001b[1;32mIn[2], line 4\u001b[0m\n\u001b[0;32m      1\u001b[0m \u001b[38;5;66;03m#Hint \u001b[39;00m\n\u001b[0;32m      2\u001b[0m \u001b[38;5;28;01mimport\u001b[39;00m \u001b[38;5;21;01moperator\u001b[39;00m\n\u001b[1;32m----> 4\u001b[0m \u001b[38;5;28mprint\u001b[39m(\u001b[43moperator\u001b[49m\u001b[38;5;241;43m.\u001b[39;49m\u001b[43madd\u001b[49m\u001b[43m(\u001b[49m\u001b[38;5;241;43m4\u001b[39;49m\u001b[43m,\u001b[49m\u001b[38;5;241;43m3\u001b[39;49m\u001b[43m,\u001b[49m\u001b[38;5;241;43m4\u001b[39;49m\u001b[43m)\u001b[49m)\n\u001b[0;32m      5\u001b[0m \u001b[38;5;28mprint\u001b[39m(operator\u001b[38;5;241m.\u001b[39msub(\u001b[38;5;241m4\u001b[39m,\u001b[38;5;241m3\u001b[39m))\n\u001b[0;32m      6\u001b[0m \u001b[38;5;28mprint\u001b[39m(operator\u001b[38;5;241m.\u001b[39mmul(\u001b[38;5;241m4\u001b[39m,\u001b[38;5;241m3\u001b[39m))\n",
      "\u001b[1;31mTypeError\u001b[0m: add expected 2 arguments, got 3"
     ]
    }
   ],
   "source": [
    "#Hint \n",
    "import operator\n",
    "\n",
    "print(operator.add(4,3))\n",
    "print(operator.sub(4,3))\n",
    "print(operator.mul(4,3))\n",
    "print(operator.truediv(4,3))\n",
    "print(operator.mod(4,3))\n",
    "print(operator.pow(4,3))"
   ]
  },
  {
   "cell_type": "code",
   "execution_count": null,
   "metadata": {},
   "outputs": [],
   "source": [
    "# Solución 2\n",
    "\n",
    "import operator\n",
    "\n",
    "def calc(to_solve):\n",
    "    operations= {'+':operator.add,\n",
    "                '-':operator.sub,\n",
    "                '*':operator.mul,\n",
    "                '/':operator.truediv,\n",
    "                '%':operator.mod,\n",
    "                '**':operator.pow}\n",
    "    \n",
    "    op, first_s, second_s = to_solve.split()\n",
    "    first=int(first_s)\n",
    "    second=int(second_s)\n",
    "    return operations[op](first, second)\n",
    "\n",
    "calc('- 4 3')"
   ]
  },
  {
   "cell_type": "markdown",
   "metadata": {},
   "source": [
    "##  Ejercicio 3\n",
    "\n",
    "Escribir una función *crea_generador_passwords()* que cree funciones generadoras de passwords. La función debe recibir un string  y crear otra función. La función creada debe recibir un entero y entregar una password del largo del entero utilizando los caracteres del string.\n",
    "\n",
    "Ejemplos:  \n",
    "\n",
    "password_letras=crea_generador_passwords('abcdef')  \n",
    "password_simbolos=crea_generador_passwords('!@#$/%')  \n",
    "\n",
    "password_letras(5) --> 'affcd'  \n",
    "password_simbolos(4) --> '/#@#'"
   ]
  },
  {
   "cell_type": "code",
   "execution_count": null,
   "metadata": {},
   "outputs": [],
   "source": [
    "import random\n",
    "\n",
    "print(random.choice('!@#$/%'))\n",
    "print(random.choice('!@#$/%'))\n",
    "print(random.choice('!@#$/%'))\n",
    "print(random.choice('!@#$/%'))\n"
   ]
  },
  {
   "cell_type": "code",
   "execution_count": 1,
   "metadata": {},
   "outputs": [
    {
     "name": "stdout",
     "output_type": "stream",
     "text": [
      "ccfcff\n",
      "%#%/%#\n"
     ]
    }
   ],
   "source": [
    "import random\n",
    "\n",
    "def crea_generador_passwords(caracteres):\n",
    "    def crea_password(largo):\n",
    "        salida=[]\n",
    "        for i in range(largo):\n",
    "            salida.append(random.choice(caracteres))\n",
    "        return ''.join(salida)\n",
    "    return crea_password\n",
    "\n",
    "\n",
    "password_letras=crea_generador_passwords('abcdef')\n",
    "password_simbolos=crea_generador_passwords('!@#$/%')\n",
    "password_letras_y_simbolos=crea_generador_passwords('abcdef!@#$/%')\n",
    "\n",
    "print(password_letras(6))\n",
    "print(password_simbolos(6))"
   ]
  },
  {
   "cell_type": "code",
   "execution_count": 2,
   "metadata": {},
   "outputs": [
    {
     "data": {
      "text/plain": [
       "'abcdefghijklmnopqrstuvwxyzABCDEFGHIJKLMNOPQRSTUVWXYZ!@#$/%'"
      ]
     },
     "execution_count": 2,
     "metadata": {},
     "output_type": "execute_result"
    }
   ],
   "source": [
    "import string\n",
    "letras_y_simbolos=string.ascii_lowercase + string.ascii_uppercase + '!@#$/%'\n",
    "letras_y_simbolos\n"
   ]
  },
  {
   "cell_type": "code",
   "execution_count": 3,
   "metadata": {},
   "outputs": [
    {
     "name": "stdout",
     "output_type": "stream",
     "text": [
      "Z#nYEHqW\n"
     ]
    }
   ],
   "source": [
    "password_letras_y_simbolos=crea_generador_passwords(letras_y_simbolos)\n",
    "\n",
    "print(password_letras_y_simbolos(8))"
   ]
  }
 ],
 "metadata": {
  "kernelspec": {
   "display_name": "Python 3.6.5 ('base')",
   "language": "python",
   "name": "python3"
  },
  "language_info": {
   "codemirror_mode": {
    "name": "ipython",
    "version": 3
   },
   "file_extension": ".py",
   "mimetype": "text/x-python",
   "name": "python",
   "nbconvert_exporter": "python",
   "pygments_lexer": "ipython3",
   "version": "3.10.12"
  },
  "vscode": {
   "interpreter": {
    "hash": "e4cce46d6be9934fbd27f9ca0432556941ea5bdf741d4f4d64c6cd7f8dfa8fba"
   }
  }
 },
 "nbformat": 4,
 "nbformat_minor": 4
}
