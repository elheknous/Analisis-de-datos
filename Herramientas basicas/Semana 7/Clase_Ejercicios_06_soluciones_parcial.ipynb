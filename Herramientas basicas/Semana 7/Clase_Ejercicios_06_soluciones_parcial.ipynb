{
 "cells": [
  {
   "cell_type": "markdown",
   "metadata": {},
   "source": [
    "# Herramientas básicas para el Análisis de Datos (IMA602)\n",
    "\n",
    "# Ejercicios sobre programación funcional\n"
   ]
  },
  {
   "cell_type": "markdown",
   "metadata": {},
   "source": [
    "## Ejercicio 1:  \n",
    "\n",
    "Escribe una función *junta_numeros()*  que recibe un *range* de enteros y entrega un string formado por todos los numeros separados por coma.\n",
    "\n",
    "Ejemplos:  \n",
    "junta_numeros(range(5)) --> '0,1,2,3,4'\n"
   ]
  },
  {
   "cell_type": "code",
   "execution_count": null,
   "metadata": {},
   "outputs": [],
   "source": [
    "# Solución\n",
    " \n",
    "def junta_numeros(numeros):\n",
    "    return ','.join(str(numero) \n",
    "                    for numero in numeros)\n",
    "\n",
    "junta_numeros(range(5))"
   ]
  },
  {
   "cell_type": "markdown",
   "metadata": {},
   "source": [
    "## Ejercicio 2:  \n",
    "\n",
    "Escriba una función que *suma_numeros()* que recibe un string y devuelve la suma de todas las palabras del string que pueden ser consideradas como enteros.\n",
    "\n",
    "Ejemplos:  \n",
    "suma_numeros('10 ry 20 tt10 30 56rr 40') --> 100\n"
   ]
  },
  {
   "cell_type": "code",
   "execution_count": null,
   "metadata": {},
   "outputs": [],
   "source": [
    "# Solución\n",
    "\n",
    "#Hint \n",
    "def suma_numeros(cadena):\n",
    "    return sum(int(numero) \n",
    "               for numero in cadena.split()\n",
    "               if numero.isdigit())\n",
    "\n",
    "suma_numeros('10 ry 20 tt10 30 56rr 40')"
   ]
  },
  {
   "cell_type": "markdown",
   "metadata": {},
   "source": [
    "## Ejercicio 3: \n",
    "\n",
    "Crear una función  *flatten()* recibe una lista de listas y devuelve una única lista postponiendo los elementos.  La función debe crear la lista por compresión.\n",
    "\n",
    "Ejemplos:  \n",
    "\n",
    "flatten([[1,2],[3,4]]) --> [1,2,3,4]"
   ]
  },
  {
   "cell_type": "code",
   "execution_count": null,
   "metadata": {},
   "outputs": [],
   "source": [
    "# Solución\n",
    "\n",
    "def flatten(lista_de_listas):\n",
    "    return [un_elemento \n",
    "            for una_lista in lista_de_listas \n",
    "            for un_elemento in una_lista]\n",
    "\n",
    "flatten([[2,3,4],[3,2],[8,4,5,6,7]])"
   ]
  },
  {
   "cell_type": "markdown",
   "metadata": {},
   "source": [
    "## Ejercicio 4:  \n",
    "\n",
    "Escribir una función que recibe el nombre de un archivo como argumento y devuelve un string con el contenido del archivo traducido a inglés secreto (Clase de ejercicios 2 - Ejercicio 1). No es necesario que la función considere de manera especial las puntuaciones, las palabras capitalizadas o los cambios de linea.\n"
   ]
  },
  {
   "cell_type": "code",
   "execution_count": null,
   "metadata": {},
   "outputs": [],
   "source": [
    "# Solución\n",
    "\n",
    "def ingles_secreto(palabra):\n",
    "    if palabra[0] in 'aeiouAEIOU':\n",
    "        return palabra + 'way'\n",
    "    return palabra[1:] + palabra[0] + 'ay'\n",
    "\n",
    "def traduce_archivo(nombre_archivo):\n",
    "    return ' '.join(ingles_secreto(una_palabra)\n",
    "                    for una_linea in open(nombre_archivo)\n",
    "                     for una_palabra in una_linea.split())\n",
    "\n",
    "traduce_archivo('Datos_Clase_Ejercicios_06/archivo_en_ingles.txt')"
   ]
  },
  {
   "cell_type": "markdown",
   "metadata": {},
   "source": [
    "## Ejercicio 5: \n",
    "\n",
    "Crea un diccionario de longitud arbitraria donde las claves son únicas y los valores también son únicos.  \n",
    "Use ahora una lista por compresión para crear un diccionario invertido donde los valores y claves cambien de rol.\n",
    "\n",
    "\n",
    "Por ejemplo:\n",
    "diccionario= {'a':1,'b':2,'c':3}\n",
    "El resultado para diccionario debiera ser\n",
    "{1:'a', 2:'b', 3:'c'}"
   ]
  },
  {
   "cell_type": "code",
   "execution_count": null,
   "metadata": {},
   "outputs": [],
   "source": [
    "def invierte_dict(diccionario):\n",
    "    return { valor : clave \n",
    "            for clave, valor in diccionario.items()}\n",
    "\n",
    "invierte_dict({'a':1,'b':2,'c':3})"
   ]
  },
  {
   "cell_type": "markdown",
   "metadata": {},
   "source": [
    "## Ejercicio 6:  \n",
    "\n",
    "Cree una función *transforma_valores()* que reciba dos argumentos: una función (que recibe un solo argumento) y un diccionario. La función *transforma_valores()* debe devolver \n",
    "un diccionario con las mismas claves que el recibido, pero los valores deben ser el resultado de aplicar la función recibida al valor original.\n",
    "\n",
    "\n",
    "Por ejemplo:  \n",
    "diccionario= {'a':1,'b':2,'c':3}  \n",
    "transforma_valores(lambda x: x**x,diccionario)-->{'a':1, 'b':4, 'c':9}\n"
   ]
  },
  {
   "cell_type": "code",
   "execution_count": null,
   "metadata": {},
   "outputs": [],
   "source": [
    "# Solución\n",
    "\n",
    "def transforma_valores(funcion, diccionario):\n",
    "    return {clave: funcion(valor) for clave, valor in diccionario.items()}"
   ]
  },
  {
   "cell_type": "code",
   "execution_count": null,
   "metadata": {},
   "outputs": [],
   "source": [
    "diccionario= {'a':1,'b':2,'c':3}  \n",
    "transforma_valores(lambda x: x*x,diccionario)"
   ]
  },
  {
   "cell_type": "markdown",
   "metadata": {},
   "source": [
    "## Ejercicio 7:  \n",
    "\n",
    "Escriba una función que recibe como único argumento el nombre de un archivo que tiene una palabra por linea. La función debe devolver un conjunto que contenga todas las palabras del archivo que son casi super vocálicas (incluye todas las vocales). (Hint: Utilizar compresión para generar el conjunto de salida y la operación \"<\" entre conjuntos)."
   ]
  },
  {
   "cell_type": "code",
   "execution_count": null,
   "metadata": {},
   "outputs": [],
   "source": [
    "# Solución 1 (sin detectar acentos)\n",
    "\n",
    "def extrae_super_vocalicas(nombre_de_archivo):\n",
    "    vocales={'a','e','i','o','u'}\n",
    "    return {palabra.strip()\n",
    "            for palabra in open(nombre_de_archivo)\n",
    "            if vocales < set(palabra.lower())}\n",
    "\n",
    "print(len(extrae_super_vocalicas('Datos_Clase_Ejercicios_06/archivo_en_castellano_long.txt')))\n",
    "extrae_super_vocalicas('Datos_Clase_Ejercicios_06/archivo_en_castellano_long.txt')"
   ]
  },
  {
   "cell_type": "code",
   "execution_count": null,
   "metadata": {},
   "outputs": [],
   "source": [
    "# Solución 2 (incorporando acentos)\n",
    "dict_acentos={'á' : 'a', 'é' : 'e', 'í' : 'i', 'ó' : 'o', 'ú': 'u'}\n",
    "\n",
    "palabra='mamábebépipípopópupú'\n",
    "def elimina_tildes(palabra):\n",
    "    new_palabra=''\n",
    "    for letra in palabra:\n",
    "        if letra in dict_acentos:\n",
    "            new_palabra += dict_acentos[letra]\n",
    "        else:\n",
    "            new_palabra += letra\n",
    "    return new_palabra\n",
    "\n",
    "elimina_tildes(palabra)\n"
   ]
  },
  {
   "cell_type": "code",
   "execution_count": null,
   "metadata": {},
   "outputs": [],
   "source": [
    "\n",
    "def extrae_super_vocalicas(nombre_de_archivo):\n",
    "    vocales={'a','e','i','o','u'}\n",
    "    return {palabra.strip()\n",
    "            for palabra in open(nombre_de_archivo)\n",
    "            if vocales < set(elimina_tildes(palabra.lower()))}\n",
    "\n",
    "print(len(extrae_super_vocalicas('Datos_Clase_Ejercicios_06/archivo_en_castellano_long.txt')))\n",
    "extrae_super_vocalicas('Datos_Clase_Ejercicios_06/archivo_en_castellano_long.txt')"
   ]
  }
 ],
 "metadata": {
  "kernelspec": {
   "display_name": "Python 3.6.5 ('base')",
   "language": "python",
   "name": "python3"
  },
  "language_info": {
   "codemirror_mode": {
    "name": "ipython",
    "version": 3
   },
   "file_extension": ".py",
   "mimetype": "text/x-python",
   "name": "python",
   "nbconvert_exporter": "python",
   "pygments_lexer": "ipython3",
   "version": "3.9.19"
  },
  "vscode": {
   "interpreter": {
    "hash": "e4cce46d6be9934fbd27f9ca0432556941ea5bdf741d4f4d64c6cd7f8dfa8fba"
   }
  }
 },
 "nbformat": 4,
 "nbformat_minor": 4
}
