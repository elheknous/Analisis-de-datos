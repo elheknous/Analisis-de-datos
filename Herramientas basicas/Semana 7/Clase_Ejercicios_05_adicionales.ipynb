{
 "cells": [
  {
   "cell_type": "markdown",
   "metadata": {},
   "source": [
    "# Herramientas básicas para el Análisis de Datos (IMA602)\n",
    "\n",
    "## Ejercicios adicionales sobre funciones"
   ]
  },
  {
   "cell_type": "markdown",
   "metadata": {},
   "source": [
    "1. Escriba una función *copia_archivos()* que recibe un argumento obligatorio (el nombre de un archivo de entrada) y una cantidad indeterminada de argumentos adicionales (nombres de los archivos hacia los cuales el archivo de entrada debe ser copiado).  \n",
    "\n",
    "    Ejemplo:  \n",
    "    copia_archivos('mi_archivo.txt', 'copia1.txt', 'copia2.txt')   \n",
    "    creará dos copias de 'mi_archivo.txt' llamadas 'copia1.txt' y 'copia2.txt'\n",
    "\n",
    "2. Cree una función *factorial()* que recibe una cantidad arbitraria de números y devuelva su multiplicación.  \n",
    "\n",
    "    Ejemplo:  \n",
    "    factorial(2,4,5) --> 40\n",
    "\n",
    "\n",
    "3. Expanda la función *calc()* para que pueda operar con cualquier cantidad de enteros (ejecutando secuencialmente de izquierda a derecha).  \n",
    "\n",
    "    Ejemplo:  \n",
    "    calc('+ 3 5 7') --> 15  \n",
    "    calc('/ 100 5 5') --> 4\n",
    "\n",
    "\n",
    "4. Cree una función *aplica_a_cada()* que recibe dos argumentos: una función que recibe un único argumento, y un iterable. La función *aplica_a_cada()* debe devolver una lista cuyos valores son el resultado de aplicar la función del primer argumento a cada elemento del iterable. \n",
    "\n",
    "    Ejemplo:  \n",
    "    def mitad(x):  \n",
    "    &nbsp;&nbsp;&nbsp;&nbsp;&nbsp; return x/2  \n",
    "    calc(mitad, [4,6,8]) --> [2,3,4]  \n",
    "\n",
    "\n",
    "5. Cree una función *transforma_lineas()* que recibe tres argumentos:  una función que recibe un único argumento, el nombre de un archivo de entrada y el nombre de un archivo de salida. La función *transforma_lineas()* debe ejecutar la función del primer argumento sobre cada linea del archivo de entrada y escribir el resultado en las lineas archivo de salida.\n",
    "\n",
    "\n",
    "6. Escriba  una función *crea_chequeador_passwords()* que cree funciones chequeadoras de los requerimientos de password. La función debe recibir cuatro parámetros enteros: min_mayusculas, min_minusculas, min_puntuacion, min_digitos. La función creada debe recibir un \n",
    "string y entregar una valor booleano indicando si el string es un password aceptable.  \n",
    "\n",
    "    Ejemplos:  \n",
    "    check_1=crea_generador_passwords(3,0,2,1)  \n",
    "    check_1=crea_generador_passwords(0,1,2,3)  \n",
    "      \n",
    "    check_1('abc!.4')--> True  \n",
    "    check_1('ab!.4')--> False  \n",
    "      \n",
    "    check_2('abc!.4')--> False  \n",
    "    check_1('aA!.456')--> True\n",
    "\n",
    "7. Escriba una función *combina()* que recibe dos funciones como argumentos $f_1$ y $f_2$ y retorna una única función $g$. Al llamar a $g(x)$ el resultado debe ser $f_2(f_1(x))$.  \n",
    "\n",
    "    Ejemplo:  \n",
    "\n",
    "    def mitad(x):  \n",
    "    &nbsp;&nbsp;&nbsp;&nbsp;&nbsp; return x/2  \n",
    "      \n",
    "    def cuarto(x):  \n",
    "    &nbsp;&nbsp;&nbsp;&nbsp;&nbsp; return x/4  \n",
    "\n",
    "    octavo=combina(mitad,cuarto)  \n",
    "    octavo(8) --> 1"
   ]
  },
  {
   "cell_type": "markdown",
   "metadata": {},
   "source": [
    "1. Escriba una función *copia_archivos()* que recibe un argumento obligatorio (el nombre de un archivo de entrada) y una cantidad indeterminada de argumentos adicionales (nombres de los archivos hacia los cuales el archivo de entrada debe ser copiado).  \n",
    "\n",
    "    Ejemplo:  \n",
    "    copia_archivos('mi_archivo.txt', 'copia1.txt', 'copia2.txt')   \n",
    "    creará dos copias de 'mi_archivo.txt' llamadas 'copia1.txt' y 'copia2.txt'"
   ]
  },
  {
   "cell_type": "code",
   "execution_count": 34,
   "metadata": {},
   "outputs": [],
   "source": [
    "def escribir(nomber,texto):\n",
    "    with open(nomber, 'w') as archivo:\n",
    "        archivo.write(texto)\n",
    "    \n",
    "\n",
    "\n",
    "def copia_archivo(arc, *n):\n",
    "    with open(arc, 'r') as archivo:\n",
    "        contenido = archivo.read()\n",
    "    for i in n:\n",
    "        escribir(i,contenido)\n",
    "    \n",
    "\n",
    "copia_archivo('lala.txt', 'copia1.txt', 'copia2.txt',\"dds\") "
   ]
  },
  {
   "cell_type": "markdown",
   "metadata": {},
   "source": [
    "2. Cree una función *factorial()* que recibe una cantidad arbitraria de números y devuelva su multiplicación.  \n",
    "\n",
    "    Ejemplo:  \n",
    "    factorial(2,4,5) --> 40"
   ]
  },
  {
   "cell_type": "code",
   "execution_count": 8,
   "metadata": {},
   "outputs": [
    {
     "name": "stdout",
     "output_type": "stream",
     "text": [
      "40\n"
     ]
    }
   ],
   "source": [
    "def factorial(*n):\n",
    "    producto = 1\n",
    "    for i in n:\n",
    "        producto = producto * i\n",
    "    return producto\n",
    "\n",
    "print(factorial(2*4*5))"
   ]
  },
  {
   "cell_type": "markdown",
   "metadata": {},
   "source": [
    "3. Expanda la función *calc()* para que pueda operar con cualquier cantidad de enteros (ejecutando secuencialmente de izquierda a derecha).  \n",
    "\n",
    "    Ejemplo:  \n",
    "    calc('+ 3 5 7') --> 15  \n",
    "    calc('/ 100 5 5') --> 4"
   ]
  },
  {
   "cell_type": "code",
   "execution_count": null,
   "metadata": {},
   "outputs": [],
   "source": [
    "def suma(*n):\n",
    "    for i in n:\n",
    "        sum = sum\n",
    "    return a+b\n",
    "\n",
    "def resta(*n):\n",
    "    return a-b\n",
    "\n",
    "def mult(*n):\n",
    "    return a*b\n",
    "\n",
    "def divis(*n):\n",
    "    return a/b\n",
    "\n",
    "def modulo(*n):\n",
    "    return a%b\n",
    "\n",
    "def potencia(*n):\n",
    "    return a**b\n",
    "\n",
    "def calc(to_solve):\n",
    "    operations= {'+':suma, '-':resta, '*':mult, '/':divis, '%':modulo, '**':potencia}\n",
    "    op, first_s, second_s = to_solve.split()\n",
    "    first=int(first_s)\n",
    "    second=int(second_s)\n",
    "    return operations[op](first, second)\n",
    "\n",
    "\n",
    "calc('** 4 3')"
   ]
  },
  {
   "cell_type": "markdown",
   "metadata": {},
   "source": [
    "4. Cree una función *aplica_a_cada()* que recibe dos argumentos: una función que recibe un único argumento, y un iterable. La función *aplica_a_cada()* debe devolver una lista cuyos valores son el resultado de aplicar la función del primer argumento a cada elemento del iterable. \n",
    "\n",
    "    Ejemplo:  \n",
    "    def mitad(x):  \n",
    "    &nbsp;&nbsp;&nbsp;&nbsp;&nbsp; return x/2  \n",
    "    calc(mitad, [4,6,8]) --> [2,3,4]  "
   ]
  },
  {
   "cell_type": "code",
   "execution_count": 29,
   "metadata": {},
   "outputs": [
    {
     "data": {
      "text/plain": [
       "[2.0, 3.0, 4.0]"
      ]
     },
     "execution_count": 29,
     "metadata": {},
     "output_type": "execute_result"
    }
   ],
   "source": [
    "def aplica_cada(funcion,iterable):\n",
    "    n = []\n",
    "    for i in iterable:\n",
    "        n.append(funcion(i))\n",
    "    return n\n",
    "\n",
    "def mitad(n):\n",
    "    return n/2\n",
    "\n",
    "aplica_cada(mitad,[4,6,8])"
   ]
  },
  {
   "cell_type": "markdown",
   "metadata": {},
   "source": [
    "5. Cree una función *transforma_lineas()* que recibe tres argumentos:  una función que recibe un único argumento, el nombre de un archivo de entrada y el nombre de un archivo de salida. La función *transforma_lineas()* debe ejecutar la función del primer argumento sobre cada linea del archivo de entrada y escribir el resultado en las lineas archivo de salida."
   ]
  },
  {
   "cell_type": "code",
   "execution_count": 37,
   "metadata": {},
   "outputs": [
    {
     "name": "stdout",
     "output_type": "stream",
     "text": [
      "['LSDKJFASDLKJF\\nHOACA\\nCOMO\\nESATA\\nYO\\nBIEN\\nAA']\n"
     ]
    }
   ],
   "source": [
    "def transforma_lineas(funcion,entrada,salida):\n",
    "    with open(entrada, 'r') as archivo:\n",
    "        contenido = archivo.read()\n",
    "        lista = contenido.split(\" \")\n",
    "\n",
    "    newLista = []\n",
    "    for i in lista:\n",
    "        newLista.append(funcion(i))\n",
    "    print(newLista)\n",
    "\n",
    "    with open(salida, 'w') as archivo:\n",
    "        archivo.write(\" \".join(newLista))\n",
    "\n",
    "def mayus(palabra):\n",
    "    return palabra.upper()\n",
    "\n",
    "transforma_lineas(mayus,\"lala.txt\",\"salida\")\n",
    "    \n",
    "    \n",
    "        "
   ]
  },
  {
   "cell_type": "markdown",
   "metadata": {},
   "source": [
    "6. Escriba  una función *crea_chequeador_passwords()* que cree funciones chequeadoras de los requerimientos de password. La función debe recibir cuatro parámetros enteros: min_mayusculas, min_minusculas, min_puntuacion, min_digitos. La función creada debe recibir un \n",
    "string y entregar una valor booleano indicando si el string es un password aceptable.  \n",
    "\n",
    "    Ejemplos:  \n",
    "    check_1=crea_generador_passwords(3,0,2,1)  \n",
    "    check_1=crea_generador_passwords(0,1,2,3)  \n",
    "      \n",
    "    check_1('abc!.4')--> True  \n",
    "    check_1('ab!.4')--> False  \n",
    "      \n",
    "    check_2('abc!.4')--> False  \n",
    "    check_1('aA!.456')--> True"
   ]
  },
  {
   "cell_type": "code",
   "execution_count": 67,
   "metadata": {},
   "outputs": [
    {
     "name": "stdout",
     "output_type": "stream",
     "text": [
      "1\n",
      "11\n",
      "1\n",
      "2\n"
     ]
    },
    {
     "data": {
      "text/plain": [
       "True"
      ]
     },
     "execution_count": 67,
     "metadata": {},
     "output_type": "execute_result"
    }
   ],
   "source": [
    "def passwor(mayusculas,minusculas,puntuacion,digitos,clave):\n",
    "    \n",
    "    mayu = 0\n",
    "    minu = 0\n",
    "    pun = 0 \n",
    "    digi = 0\n",
    "\n",
    "    for i in clave:\n",
    "        if i.isupper():\n",
    "            mayu = mayu +1\n",
    "        else:\n",
    "            minu = minu + 1\n",
    "        if i == \".\":\n",
    "            pun = pun +1\n",
    "        try:\n",
    "            a = int(i)\n",
    "            if type(a) == int:\n",
    "                digi = digi + 1\n",
    "        except ValueError:\n",
    "            pass\n",
    "    \n",
    "    print(mayu)\n",
    "    print(minu)\n",
    "    print(pun)\n",
    "    print(digi)\n",
    "    \n",
    "    if (mayu >= mayusculas and\n",
    "        minu >= minusculas and\n",
    "        pun >= puntuacion and\n",
    "        digi >= digitos):\n",
    "\n",
    "        return True\n",
    "    else:\n",
    "        return False\n",
    "\n",
    "\n",
    "\n",
    "\n",
    "passwor(1,1,1,2,\"Legos87jose.\")\n",
    "\n",
    "\n",
    "\n",
    "    "
   ]
  },
  {
   "cell_type": "markdown",
   "metadata": {},
   "source": [
    "7. Escriba una función *combina()* que recibe dos funciones como argumentos $f_1$ y $f_2$ y retorna una única función $g$. Al llamar a $g(x)$ el resultado debe ser $f_2(f_1(x))$.  \n",
    "\n",
    "    Ejemplo:  \n",
    "\n",
    "    def mitad(x):  \n",
    "    &nbsp;&nbsp;&nbsp;&nbsp;&nbsp; return x/2  \n",
    "      \n",
    "    def cuarto(x):  \n",
    "    &nbsp;&nbsp;&nbsp;&nbsp;&nbsp; return x/4  \n",
    "\n",
    "    octavo=combina(mitad,cuarto)  \n",
    "    octavo(8) --> 1"
   ]
  },
  {
   "cell_type": "code",
   "execution_count": 72,
   "metadata": {},
   "outputs": [
    {
     "name": "stdout",
     "output_type": "stream",
     "text": [
      "1.0\n"
     ]
    }
   ],
   "source": [
    "def combina(f1,f2,n):\n",
    "    return(f2(f1(n)))\n",
    "\n",
    "def mitad(n):\n",
    "    return n/2\n",
    "\n",
    "def cuarto(n):\n",
    "    return n/4\n",
    "\n",
    "\n",
    "print(combina(mitad,cuarto,8))"
   ]
  }
 ],
 "metadata": {
  "kernelspec": {
   "display_name": "Python 3.6.5 ('base')",
   "language": "python",
   "name": "python3"
  },
  "language_info": {
   "codemirror_mode": {
    "name": "ipython",
    "version": 3
   },
   "file_extension": ".py",
   "mimetype": "text/x-python",
   "name": "python",
   "nbconvert_exporter": "python",
   "pygments_lexer": "ipython3",
   "version": "3.10.12"
  },
  "vscode": {
   "interpreter": {
    "hash": "e4cce46d6be9934fbd27f9ca0432556941ea5bdf741d4f4d64c6cd7f8dfa8fba"
   }
  }
 },
 "nbformat": 4,
 "nbformat_minor": 4
}
