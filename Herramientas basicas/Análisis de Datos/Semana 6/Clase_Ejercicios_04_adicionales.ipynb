{
 "cells": [
  {
   "cell_type": "markdown",
   "metadata": {},
   "source": [
    "# Herramientas básicas para el Análisis de Datos (IMA602)\n",
    "\n",
    "## Ejercicios sobre trabajo con archivos.\n"
   ]
  },
  {
   "cell_type": "markdown",
   "metadata": {},
   "source": [
    "1. Escriba una función que recibe el nombre de un archivo como argumento y recorre las lineas del mismo. La función identifica todas las palabras que contienen solo enteros, suma todos los números y entrega el resultado.\n",
    "\n",
    "2. Cree con un editor de texto un archivo de dos columnas separadas por tab, donde cada columna contiene un número. Escriba una función que lea el achivo creado. La función para cada linea debe multiplicar los números de las dos columnas,e imprimir  el resultado de sumar los cálculos de todas las lineas.  Si algna linea no tiene dos números debe ser ignorada.\n",
    "\n",
    "3. Implemente una función que lee un archivo de texto linea por linea. La función debe crear un diccionario que lleve la cuenta de cuántas veces cada vocal es utilizada en el archivo. Al terminar de recorrer el archivo debe imprimirse una tabla resumen del diccionario creado.\n",
    "\n",
    "4. Solicite al usuario que ingrese números enteros separados por espacios. A partir de esa entrada cree un diccionario que tenga como claves los factores de cada número y como valor de cada factor una lista de los enteros que son múltiplos de ese factor.\n",
    "\n",
    "5. Haga una función que reciba del usuario el nombre de un archivo y después un conjunto de palabras (separadas por espacio). La función debe estudiar la frecuencia con que ocurren esas palabras en el archivo. Cuente la frecuencia utilizando unn diccionario que tenga como claves las palabras ingresadas y como valores el conteo respectivo. Al final la función debe imprimir un resumen tabulado.\n",
    "\n",
    "6. Cree un diccionario en el que las claves son los nombres de archivos en su directorio y los valores su tamaño. (Utilice os.stat).\n",
    "\n",
    "7. Dado un directorio que contiene varios archivos texto cree una función que contabilice el uso de las letras en los archivos. La función deben contar la frecuencia de las letras en cada archivo (fuerce las letras a minúsculas e ignore los caracteres que no son letras). Use un diccionario para llevar la cuenta de la frecuencia de las letras. Al final la función debe imprimir las cinco letras mas utilizadas por todos los archivos en su conjunto y su frecuencia total. \n",
    "\n",
    "8. Escribe una función que recibe el nombre de un directorio y muestra los nombres de todos los archivos del directorio indicando el tiempo transcurrido desde su última modificación. (Hint: Utilizar os.stat y considerar la librería arrow)\n",
    "\n",
    "9. Crear una función que recibe un diccionario y lo escribe en un archivo csv. Cada linea del csv debe contener tres campos. (1) la clave (que se asume es un string), (2) el valor, y (3) del tipo del valor (string, entero, etc.)\n",
    "\n",
    "10. Genera un archivo csv que contiene en cada linea 10 enteros aleatorios entre 10 y 100. Ahora lee el archivo de vuelta e imprime la suma y el promedio de cada linea.\n",
    "\n",
    "11. Convertir el archivo de password *passwd_file.txt* desde el formato csv al formato json. Considere dos versiones de esa conversión utilizando cada una de las dos estructuras poara el archivo json resultante: con la siguiente estructura:\n",
    "\n",
    "    * El archivo json contiene el equivalente a una lista de tupla de python, donde cada tupla representa una linea del archivo *passwd_file.txt*. \n",
    "    * Cada linea del archivo *passwd_file.txt* se convertirá en un diccionario python. Para ello se le debe asignar un nombre clave (utilice alguno arbitrario) para cada campo, o columna, de las lineas del archivo *passwd_file.txt*.\n",
    "\n",
    "12. Implementar una primera función que recibe el nombre de un directorio y genera un archivo en formato json que contenga la siguiente información para cada archivo del directorio (obviar los subdirectorios):\n",
    "\n",
    "    * nombre del archivo\n",
    "    * tamaño del archivo (usar os.stat)\n",
    "    * el registro de tiempo de la última modificación del archivo\n",
    "\n",
    "    Crear una segunda función que lee el archivo json generado e imprime en pantalla la siguiente información: \n",
    "\n",
    "    * nombre del archivo que lleva más tiempo sin ser modificado (indicando cuanto tiempo ha transcurrido)\n",
    "    * nombre del archivo que lleva menos tiempo sin ser modificado (indicando cuanto tiempo ha transcurrido)\n",
    "    * nombre del archivo de mayor tamaño (indicando el tamaño)\n",
    "    * nombre del archivo de menor tamaño (indicando el tamaño)\n",
    "\n",
    "13. Escriba una función *encripta()* que recibe el nombre de un archivo de texto, convierte todos sus caracteres en su equivalente numérico (usando la función ord()) y escribe el resultado en otro archivo. Cree también una función *desencripta()* que recibe el archivo generado y regresa a los caracteres originales (usar la función chr()).\n",
    "\n",
    "14. Crear una función que recibe el nombre de un archivo de texto y genera otros dos archivos de texto. Cada uno de los dos nuevos archivos tendrá la misma cantidad de lineas que el archivo incicial. En uno de los archivos se escribirán todas vocales por cada linea y en el otro todas las consonantes (ignorando la puntuación y los espacios en blanco).\n"
   ]
  }
 ],
 "metadata": {
  "kernelspec": {
   "display_name": "Python 3",
   "language": "python",
   "name": "python3"
  },
  "language_info": {
   "codemirror_mode": {
    "name": "ipython",
    "version": 3
   },
   "file_extension": ".py",
   "mimetype": "text/x-python",
   "name": "python",
   "nbconvert_exporter": "python",
   "pygments_lexer": "ipython3",
   "version": "3.9.13"
  }
 },
 "nbformat": 4,
 "nbformat_minor": 4
}
