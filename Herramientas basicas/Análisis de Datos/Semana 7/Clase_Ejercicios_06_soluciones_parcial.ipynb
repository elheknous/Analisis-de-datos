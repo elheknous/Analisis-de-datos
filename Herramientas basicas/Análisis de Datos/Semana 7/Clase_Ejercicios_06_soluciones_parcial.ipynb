{
 "cells": [
  {
   "cell_type": "markdown",
   "metadata": {},
   "source": [
    "# Herramientas básicas para el Análisis de Datos (IMA602)\n",
    "\n",
    "# Ejercicios sobre programación funcional\n"
   ]
  },
  {
   "cell_type": "markdown",
   "metadata": {},
   "source": [
    "## Ejercicio 1:  \n",
    "\n",
    "Escribe una función *junta_numeros()*  que recibe un *range* de enteros y entrega un string formado por todos los numeros separados por coma.\n",
    "\n",
    "Ejemplos:  \n",
    "junta_numeros(range(5)) --> '0,1,2,3,4'\n"
   ]
  },
  {
   "cell_type": "code",
   "execution_count": 1,
   "metadata": {},
   "outputs": [
    {
     "data": {
      "text/plain": [
       "'0,1,2,3,4'"
      ]
     },
     "execution_count": 1,
     "metadata": {},
     "output_type": "execute_result"
    }
   ],
   "source": [
    "# Solución\n",
    " \n",
    "def junta_numeros(numeros):\n",
    "    return ','.join(str(numero) \n",
    "                    for numero in numeros)\n",
    "\n",
    "junta_numeros(range(5))"
   ]
  },
  {
   "cell_type": "markdown",
   "metadata": {},
   "source": [
    "## Ejercicio 2:  \n",
    "\n",
    "Escriba una función que *suma_numeros()* que recibe un string y devuelve la suma de todas las palabras del string que pueden ser consideradas como enteros.\n",
    "\n",
    "Ejemplos:  \n",
    "suma_numeros('10 ry 20 tt10 30 56rr 40') --> 100\n"
   ]
  },
  {
   "cell_type": "code",
   "execution_count": 4,
   "metadata": {},
   "outputs": [
    {
     "data": {
      "text/plain": [
       "100"
      ]
     },
     "execution_count": 4,
     "metadata": {},
     "output_type": "execute_result"
    }
   ],
   "source": [
    "# Solución\n",
    "\n",
    "#Hint \n",
    "def suma_numeros(cadena):\n",
    "    return sum(int(numero) \n",
    "               for numero in cadena.split()\n",
    "               if numero.isdigit())\n",
    "\n",
    "suma_numeros('10 ry 20 tt10 30 56rr 40')"
   ]
  },
  {
   "cell_type": "markdown",
   "metadata": {},
   "source": [
    "## Ejercicio 3: \n",
    "\n",
    "Crear una función  *flatten()* recibe una lista de listas y devuelve una única lista postponiendo los elementos.  La función debe crear la lista por compresión.\n",
    "\n",
    "Ejemplos:  \n",
    "\n",
    "flatten([[1,2],[3,4]]) --> [1,2,3,4]"
   ]
  },
  {
   "cell_type": "code",
   "execution_count": 5,
   "metadata": {},
   "outputs": [
    {
     "data": {
      "text/plain": [
       "[2, 3, 4, 3, 2, 8, 4, 5, 6, 7]"
      ]
     },
     "execution_count": 5,
     "metadata": {},
     "output_type": "execute_result"
    }
   ],
   "source": [
    "# Solución\n",
    "\n",
    "def flatten(lista_de_listas):\n",
    "    return [un_elemento \n",
    "            for una_lista in lista_de_listas \n",
    "            for un_elemento in una_lista]\n",
    "\n",
    "flatten([[2,3,4],[3,2],[8,4,5,6,7]])"
   ]
  },
  {
   "cell_type": "markdown",
   "metadata": {},
   "source": [
    "## Ejercicio 4:  \n",
    "\n",
    "Escribir una función que recibe el nombre de un archivo como argumento y devuelve un string con el contenido del archivo traducido a inglés secreto (Clase de ejercicios 2 - Ejercicio 1). No es necesario que la función considere de manera especial las puntuaciones, las palabras capitalizadas o los cambios de linea.\n"
   ]
  },
  {
   "cell_type": "code",
   "execution_count": 8,
   "metadata": {},
   "outputs": [
    {
     "name": "stdout",
     "output_type": "stream",
     "text": [
      "Einstein thought quantum mechanics was absurd.\n",
      "aaaaa\n",
      "\n",
      "aaaaa\n",
      "Viewers of Christopher Nolan’s Oscar-hoovering biopic about the physicist J Robert Oppenheimer \n",
      "aaaaa\n",
      "will have learned a lot about the race to build nuclear weapons, but not much about the hero’s \n",
      "aaaaa\n",
      "involvement in arguably a much more important debate: what science ought to be able to tell us \n",
      "aaaaa\n",
      "about reality. Oppenheimer has a walk-on part in Quantum Drama, Jim Baggott and John L Heilbron’s \n",
      "aaaaa\n",
      "account of that epic struggle. Here, he’s introduced as psychologically tender and quoted as \n",
      "aaaaa\n",
      "declaring that Albert Einstein impersonated in the movie by Tom Conti had no understanding of \n",
      "aaaaa\n",
      "or interest in modern physics.\n",
      "aaaaa\n",
      "\n",
      "aaaaa\n",
      "It was indeed once the popular history that by the time the Danish genius Niels Bohr and his comrades \n",
      "aaaaa\n",
      "had built the startling edifice of quantum mechanics Albert Einstein was already too old and set \n",
      "aaaaa\n",
      "in his ways to accept it, and spent the rest of his life kvetching impotently from the sidelines. \n",
      "aaaaa\n",
      "In fact, and as this hugely detailed narrative of the 20th-century battle for the meaning of physics \n",
      "aaaaa\n",
      "emphasises, Einstein’s challenges to the theory were tremendously powerful and inspired decades of \n",
      "aaaaa\n",
      "fruitful research into questions that still are not definitively settled.\n",
      "aaaaa\n",
      "\n",
      "aaaaa\n",
      "Niels Bohr’s base of theoretical operations lent its name to what became known as the Copenhagen \n",
      "aaaaa\n",
      "interpretation of quantum mechanics, according to which  to put it very crudely  subatomic particles \n",
      "aaaaa\n",
      "and maybe bigger things don’t exist anywhere in particular until you look at them. Bohr was unperturbed \n",
      "aaaaa\n",
      "by the implications, trusting in the equations. But Einstein would not accept a style of physics that, \n",
      "aaaaa\n",
      "as he saw it, abandoned its duty to describe the real world. Nor, completely, would his friend \n",
      "aaaaa\n",
      "Schrödinger, whose famous cat – which is somehow both alive and dead in its box until someone opens it \n",
      "aaaaa\n",
      "was intended as a reductio ad absurdum.\n",
      "aaaaa\n",
      "\n",
      "aaaaa\n",
      "This book is at the crunchily technical end of pop science, but also of its highest-quality peak. It \n",
      "aaaaa\n",
      "helps to be able to read an equation or three, but the style is humane and interesting, and also blessed \n",
      "aaaaa\n",
      "with a fantastically dry sense of humour. Among the story’s teeming cast we meet a cooperative \n",
      "aaaaa\n",
      "experimentalist who did indeed find the desired result and could have found any result desired, \n",
      "aaaaa\n",
      "for he faked his experiments, and a physics-curious English theologian, author of too many books.\n",
      "aaaaa\n",
      "\n",
      "aaaaa\n",
      "We can no longer stand on the hill where Heisenberg had an important insight, for the British blew it \n",
      "aaaaa\n",
      "up, not from opposition to quantum mechanics but because it capped a fortress the Germans had used \n",
      "aaaaa\n",
      "during World War II.\n",
      "aaaaa\n",
      "\n",
      "aaaaa\n",
      "The authors also trace how apparently hermetic notions leaked out into the wider culture, particularly \n",
      "aaaaa\n",
      "during the late 1960s and ‘70s when hippies, some scientists among them, sought to unify quantum \n",
      "aaaaa\n",
      "mechanics with Eastern philosophy, resulting in such bestselling if not altogether scientifically \n",
      "aaaaa\n",
      "reliable treatises as The Tao of Physics. The Austrian physicist Wolfgang Pauli, one of the strongest \n",
      "aaaaa\n",
      "of Einstein’s critics, had himself long been a fascinated adept of Jungian psychoanalysis. He acquired \n",
      "aaaaa\n",
      "more grievances to analyse when his wife, a former cabaret dancer, went off with a chemist, and not a \n",
      "aaaaa\n",
      "very good one.\n",
      "aaaaa\n",
      "\n",
      "aaaaa\n",
      "Following laboratory experiments of exquisitely sensitive design from the 1970s to the present, it now \n",
      "aaaaa\n",
      "seems that there can be no normal system of deterministic cause and effect, of the kind Einstein desired, \n",
      "aaaaa\n",
      "somehow underlying the mysteries of quantum observations. To measure a particle in front of you can \n",
      "aaaaa\n",
      "affect another particle light years away that is entangled with it. It might even be possible for \n",
      "aaaaa\n",
      "macroscopic objects  ones visible to the naked eye, such as a cat or a person  to exist in different \n",
      "aaaaa\n",
      "states simultaneously.\n",
      "aaaaa\n",
      "\n",
      "aaaaa\n",
      "But the struggle to understand what quantum mechanics tells us about the world we live in goes on.\n",
      "aaaaa\n",
      "As our authors relate wonderingly near the book’s end, it can seem to imply that objects do not even \n",
      "aaaaa\n",
      "exist until we look at them: modern physics has in some sense wiped the universe clean of things.\n",
      "aaaaa\n",
      "\n",
      "aaaaa\n",
      "There remains a tribe of heterodox hold-outs, however, cleaving to the conviction that science must \n",
      "aaaaa\n",
      "speak of a fundamental reality and that quantum theory must therefore as yet be incomplete. It remains \n",
      "aaaaa\n",
      "too soon to say, perhaps, that old Einstein was wrong.aaaaa\n"
     ]
    },
    {
     "data": {
      "text/plain": [
       "'Einsteinway houghttay uantumqay echanicsmay asway absurd.way iewersVay ofway hristopherCay olan’sNay Oscar-hooveringway iopicbay aboutway hetay hysicistpay Jay obertRay Oppenheimerway illway avehay earnedlay away otlay aboutway hetay aceray otay uildbay uclearnay eapons,way utbay otnay uchmay aboutway hetay ero’shay involvementway inway arguablyway away uchmay oremay importantway ebate:day hatway ciencesay oughtway otay ebay ableway otay elltay usway aboutway eality.ray Oppenheimerway ashay away alk-onway artpay inway uantumQay rama,Day imJay aggottBay andway ohnJay Lay eilbron’sHay accountway ofway hattay epicway truggle.say ere,Hay e’shay introducedway asway sychologicallypay endertay andway uotedqay asway eclaringday hattay Albertway Einsteinway impersonatedway inway hetay oviemay ybay omTay ontiCay adhay onay understandingway ofway orway interestway inway odernmay hysics.pay Itway asway indeedway onceway hetay opularpay istoryhay hattay ybay hetay imetay hetay anishDay eniusgay ielsNay ohrBay andway ishay omradescay adhay uiltbay hetay tartlingsay edificeway ofway uantumqay echanicsmay Albertway Einsteinway asway alreadyway ootay oldway andway etsay inway ishay aysway otay acceptway it,way andway pentsay hetay estray ofway ishay ifelay vetchingkay impotentlyway romfay hetay idelines.say Inway act,fay andway asway histay ugelyhay etailedday arrativenay ofway hetay 0th-century2ay attlebay orfay hetay eaningmay ofway hysicspay emphasises,way Einstein’sway hallengescay otay hetay heorytay ereway remendouslytay owerfulpay andway inspiredway ecadesday ofway ruitfulfay esearchray intoway uestionsqay hattay tillsay areway otnay efinitivelyday ettled.say ielsNay ohr’sBay asebay ofway heoreticaltay operationsway entlay itsway amenay otay hatway ecamebay nownkay asway hetay openhagenCay interpretationway ofway uantumqay echanics,may accordingway otay hichway otay utpay itway eryvay rudelycay ubatomicsay articlespay andway aybemay iggerbay hingstay on’tday existway anywhereway inway articularpay untilway ouyay ooklay atway hem.tay ohrBay asway unperturbedway ybay hetay implications,way rustingtay inway hetay equations.way utBay Einsteinway ouldway otnay acceptway away tylesay ofway hysicspay hat,tay asway ehay awsay it,way abandonedway itsway utyday otay escribeday hetay ealray orld.way or,Nay ompletely,cay ouldway ishay riendfay chrödinger,Say hoseway amousfay atcay –ay hichway isway omehowsay othbay aliveway andway eadday inway itsway oxbay untilway omeonesay opensway itway asway intendedway asway away eductioray adway absurdum.way hisTay ookbay isway atway hetay runchilycay echnicaltay endway ofway oppay cience,say utbay alsoway ofway itsway ighest-qualityhay eak.pay Itway elpshay otay ebay ableway otay eadray anway equationway orway hree,tay utbay hetay tylesay isway umanehay andway interesting,way andway alsoway lessedbay ithway away antasticallyfay ryday ensesay ofway umour.hay Amongway hetay tory’ssay eemingtay astcay eway eetmay away ooperativecay experimentalistway howay idday indeedway indfay hetay esiredday esultray andway ouldcay avehay oundfay anyway esultray esired,day orfay ehay akedfay ishay experiments,way andway away hysics-curiouspay Englishway heologian,tay authorway ofway ootay anymay ooks.bay eWay ancay onay ongerlay tandsay onway hetay illhay hereway eisenbergHay adhay anway importantway insight,way orfay hetay ritishBay lewbay itway up,way otnay romfay oppositionway otay uantumqay echanicsmay utbay ecausebay itway appedcay away ortressfay hetay ermansGay adhay usedway uringday orldWay arWay II.way heTay authorsway alsoway racetay owhay apparentlyway ermetichay otionsnay eakedlay outway intoway hetay iderway ulture,cay articularlypay uringday hetay atelay 960s1ay andway 70s‘ay henway ippies,hay omesay cientistssay amongway hem,tay oughtsay otay unifyway uantumqay echanicsmay ithway Easternway hilosophy,pay esultingray inway uchsay estsellingbay ifway otnay altogetherway cientificallysay eliableray reatisestay asway heTay aoTay ofway hysics.Pay heTay Austrianway hysicistpay olfgangWay auli,Pay oneway ofway hetay trongestsay ofway Einstein’sway ritics,cay adhay imselfhay onglay eenbay away ascinatedfay adeptway ofway ungianJay sychoanalysis.pay eHay acquiredway oremay rievancesgay otay analyseway henway ishay ife,way away ormerfay abaretcay ancer,day entway offway ithway away hemist,cay andway otnay away eryvay oodgay one.way ollowingFay aboratorylay experimentsway ofway exquisitelyway ensitivesay esignday romfay hetay 970s1ay otay hetay resent,pay itway ownay eemssay hattay heretay ancay ebay onay ormalnay ystemsay ofway eterministicday ausecay andway effect,way ofway hetay indkay Einsteinway esired,day omehowsay underlyingway hetay ysteriesmay ofway uantumqay observations.way oTay easuremay away articlepay inway rontfay ofway ouyay ancay affectway anotherway articlepay ightlay earsyay awayway hattay isway entangledway ithway it.way Itway ightmay evenway ebay ossiblepay orfay acroscopicmay objectsway onesway isiblevay otay hetay akednay eye,way uchsay asway away atcay orway away ersonpay otay existway inway ifferentday tatessay imultaneously.say utBay hetay trugglesay otay understandway hatway uantumqay echanicsmay ellstay usway aboutway hetay orldway eway ivelay inway oesgay on.way Asway ourway authorsway elateray onderinglyway earnay hetay ook’sbay end,way itway ancay eemsay otay implyway hattay objectsway oday otnay evenway existway untilway eway ooklay atway hem:tay odernmay hysicspay ashay inway omesay ensesay ipedway hetay universeway leancay ofway hings.tay hereTay emainsray away ribetay ofway eterodoxhay old-outs,hay owever,hay leavingcay otay hetay onvictioncay hattay ciencesay ustmay peaksay ofway away undamentalfay ealityray andway hattay uantumqay heorytay ustmay hereforetay asway etyay ebay incomplete.way Itway emainsray ootay oonsay otay ay,say erhaps,pay hattay oldway Einsteinway asway rong.way'"
      ]
     },
     "execution_count": 8,
     "metadata": {},
     "output_type": "execute_result"
    }
   ],
   "source": [
    "# Solución\n",
    "\n",
    "def ingles_secreto(palabra):\n",
    "    if palabra[0] in 'aeiouAEIOU':\n",
    "        return palabra + 'way'\n",
    "    return palabra[1:] + palabra[0] + 'ay'\n",
    "\n",
    "def traduce_archivo(nombre_archivo):\n",
    "    return ' '.join(ingles_secreto(una_palabra)\n",
    "                    for una_linea in open(nombre_archivo)\n",
    "                     for una_palabra in una_linea.split())\n",
    "\n",
    "for una_linea in open('Datos_Clase_Ejercicios_06/archivo_en_ingles.txt'):\n",
    "    print(una_linea + \"aaaaa\")\n",
    "\n",
    "traduce_archivo('Datos_Clase_Ejercicios_06/archivo_en_ingles.txt')"
   ]
  },
  {
   "cell_type": "markdown",
   "metadata": {},
   "source": [
    "## Ejercicio 5: \n",
    "\n",
    "Crea un diccionario de longitud arbitraria donde las claves son únicas y los valores también son únicos.  \n",
    "Use ahora una lista por compresión para crear un diccionario invertido donde los valores y claves cambien de rol.\n",
    "\n",
    "\n",
    "Por ejemplo:\n",
    "diccionario= {'a':1,'b':2,'c':3}\n",
    "El resultado para diccionario debiera ser\n",
    "{1:'a', 2:'b', 3:'c'}"
   ]
  },
  {
   "cell_type": "code",
   "execution_count": 9,
   "metadata": {},
   "outputs": [
    {
     "data": {
      "text/plain": [
       "{1: 'a', 2: 'b', 3: 'c'}"
      ]
     },
     "execution_count": 9,
     "metadata": {},
     "output_type": "execute_result"
    }
   ],
   "source": [
    "def invierte_dict(diccionario):\n",
    "    return { valor : clave \n",
    "            for clave, valor in diccionario.items()}\n",
    "\n",
    "invierte_dict({'a':1,'b':2,'c':3})"
   ]
  },
  {
   "cell_type": "markdown",
   "metadata": {},
   "source": [
    "## Ejercicio 6:  \n",
    "\n",
    "Cree una función *transforma_valores()* que reciba dos argumentos: una función (que recibe un solo argumento) y un diccionario. La función *transforma_valores()* debe devolver \n",
    "un diccionario con las mismas claves que el recibido, pero los valores deben ser el resultado de aplicar la función recibida al valor original.\n",
    "\n",
    "\n",
    "Por ejemplo:  \n",
    "diccionario= {'a':1,'b':2,'c':3}  \n",
    "transforma_valores(lambda x: x**x,diccionario)-->{'a':1, 'b':4, 'c':9}\n"
   ]
  },
  {
   "cell_type": "code",
   "execution_count": null,
   "metadata": {},
   "outputs": [],
   "source": [
    "# Solución\n",
    "\n",
    "def transforma_valores(funcion, diccionario):\n",
    "    return {clave: funcion(valor) for clave, valor in diccionario.items()}"
   ]
  },
  {
   "cell_type": "code",
   "execution_count": null,
   "metadata": {},
   "outputs": [],
   "source": [
    "diccionario= {'a':1,'b':2,'c':3}  \n",
    "transforma_valores(lambda x: x*x,diccionario)"
   ]
  },
  {
   "cell_type": "markdown",
   "metadata": {},
   "source": [
    "## Ejercicio 7:  \n",
    "\n",
    "Escriba una función que recibe como único argumento el nombre de un archivo que tiene una palabra por linea. La función debe devolver un conjunto que contenga todas las palabras del archivo que son casi super vocálicas (incluye todas las vocales). (Hint: Utilizar compresión para generar el conjunto de salida y la operación \"<\" entre conjuntos)."
   ]
  },
  {
   "cell_type": "code",
   "execution_count": null,
   "metadata": {},
   "outputs": [],
   "source": [
    "# Solución 1 (sin detectar acentos)\n",
    "\n",
    "def extrae_super_vocalicas(nombre_de_archivo):\n",
    "    vocales={'a','e','i','o','u'}\n",
    "    return {palabra.strip()\n",
    "            for palabra in open(nombre_de_archivo)\n",
    "            if vocales < set(palabra.lower())}\n",
    "\n",
    "print(len(extrae_super_vocalicas('Datos_Clase_Ejercicios_06/archivo_en_castellano_long.txt')))\n",
    "extrae_super_vocalicas('Datos_Clase_Ejercicios_06/archivo_en_castellano_long.txt')"
   ]
  },
  {
   "cell_type": "code",
   "execution_count": null,
   "metadata": {},
   "outputs": [],
   "source": [
    "# Solución 2 (incorporando acentos)\n",
    "dict_acentos={'á' : 'a', 'é' : 'e', 'í' : 'i', 'ó' : 'o', 'ú': 'u'}\n",
    "\n",
    "palabra='mamábebépipípopópupú'\n",
    "def elimina_tildes(palabra):\n",
    "    new_palabra=''\n",
    "    for letra in palabra:\n",
    "        if letra in dict_acentos:\n",
    "            new_palabra += dict_acentos[letra]\n",
    "        else:\n",
    "            new_palabra += letra\n",
    "    return new_palabra\n",
    "\n",
    "elimina_tildes(palabra)\n"
   ]
  },
  {
   "cell_type": "code",
   "execution_count": null,
   "metadata": {},
   "outputs": [],
   "source": [
    "\n",
    "def extrae_super_vocalicas(nombre_de_archivo):\n",
    "    vocales={'a','e','i','o','u'}\n",
    "    return {palabra.strip()\n",
    "            for palabra in open(nombre_de_archivo)\n",
    "            if vocales < set(elimina_tildes(palabra.lower()))}\n",
    "\n",
    "print(len(extrae_super_vocalicas('Datos_Clase_Ejercicios_06/archivo_en_castellano_long.txt')))\n",
    "extrae_super_vocalicas('Datos_Clase_Ejercicios_06/archivo_en_castellano_long.txt')"
   ]
  }
 ],
 "metadata": {
  "kernelspec": {
   "display_name": "Python 3.6.5 ('base')",
   "language": "python",
   "name": "python3"
  },
  "language_info": {
   "codemirror_mode": {
    "name": "ipython",
    "version": 3
   },
   "file_extension": ".py",
   "mimetype": "text/x-python",
   "name": "python",
   "nbconvert_exporter": "python",
   "pygments_lexer": "ipython3",
   "version": "3.10.12"
  },
  "vscode": {
   "interpreter": {
    "hash": "e4cce46d6be9934fbd27f9ca0432556941ea5bdf741d4f4d64c6cd7f8dfa8fba"
   }
  }
 },
 "nbformat": 4,
 "nbformat_minor": 4
}
