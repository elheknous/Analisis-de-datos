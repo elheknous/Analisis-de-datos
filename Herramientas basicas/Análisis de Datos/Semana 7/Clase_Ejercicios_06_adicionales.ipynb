{
 "cells": [
  {
   "cell_type": "markdown",
   "metadata": {},
   "source": [
    "# Ejercicios adicionales sobre programación funcional"
   ]
  },
  {
   "cell_type": "markdown",
   "metadata": {},
   "source": [
    "1. Escribe una función *invierte_lineas()*  que invierte el orden  de las palabras de un archivo texto.\n",
    "\n",
    "    Ejemplo:  \n",
    "    Si el archivo texto contiene\n",
    "\n",
    "    abc def  \n",
    "    ghi jkl\n",
    "\n",
    "    Entonces el resultado de la función debe ser ['def abc','jkl ghi']\n",
    "\n",
    "\n",
    "2. Cree una función *muestra_lineas()* que recibe un archivo texto, y devuelve una lista que contiene como elementos las lineas que contienen al menos una vocal y mas de 20 caracteres\n",
    "\n",
    "\n",
    "3. Defina un diccionario que describa los hijos y nietos de la familia, indicando además la edad de los nietos.\n",
    "\n",
    "    Por ejemplo:  \n",
    "    diccionario= {'Carmen':[{'nombre':'Nico', 'edad': 9}, {'nombre':'Lola', 'edad': 2}],               'Veronica':[{'nombre':'Pablo', 'edad': 19}],'Rodrigo':[{'nombre':'Rodrigo', 'edad': 22},{'nombre':'Camila', 'edad': 17},{'nombre':'Pamela', 'edad': 12},{'nombre':'Mauricio', 'edad': 7}]}\n",
    "\n",
    "    Use ahora una lista por compresión para crear una lista de todos los nombres de los nietos ordenados desde los mayores a los más jovenes.  \n",
    "\n",
    "    Ejemplo:  \n",
    "    El resultado para diccionario debe ser:  \n",
    "    ['Rodrigo', 'Pablo', 'Camila', 'Pamela', 'Nico', 'Mauricio', 'Lola']\n",
    "\n",
    "\n",
    "4. Cree una función que recibe una lista de diccionarios. Cada diccionario de la lista contiene como claves nombres de personas y como valores una lista de los hobbies de la persona correspondiente.   La función debe devolver el hobbie más popular entre todas las personas mencionadas en los diccionarios:\n",
    "\n",
    "    Por ejemplo:  \n",
    "    dic1={'Jorge':['futbol', 'ver series', 'ajedez'], 'Cata':['padel', 'cine', 'cocinar']}\n",
    "    dic2={'Fernanda':['viajar', 'ver series', 'baile'], 'Rodrigo': ['futbol', 'padel', 'ver series']}\n",
    "    dic3={'Benjamin': ['cocinar', 'leer', 'videojuegos']}  \n",
    "\n",
    "    Debe devolver: 'ver series'\n",
    "\n",
    "5. Cree una función *cuenta_vocales()* que recibe una cadena que contiene varias palabras separadas por espacio. La función debe devolver un diccionario donde las claves son las palabras y el valor el número de vocales en la clave.  \n",
    "\n",
    "    Ejemplo:  \n",
    "    cuenta_vocales('Es demasiado divertido') --> {'Es': 1, 'demasiado': 5, 'divertido':4}\n",
    "\n",
    "6. Escribir una función que recibe el nombre de un directorio (como string) y entrega un diccionario. El diccionario debe tener como claves los nombres de los archivos en el directorio y los valores deben ser el tamaño de los archivos. (Hint: Utilice os.listdir (o glob.glob) para obtener los archivos filtrando solo los archivos regulares con métodos de os.path. Para determinar el tamaño de los archivos utilice os.stat)\n",
    "\n",
    "7. Crear una función que recibe el nombre de un archivo texto y entrega un conjunto con todas las longitudes de palabras existentes en el archivo.\n",
    "\n",
    "8. Crear una lista cuyos elementos sean strings de nombres (de las personas en su familia, o de sus amigos, etc.). Utilice la técnica de compresión de conjuntos (idealmente enlazada) para encontrar cuáles son las letras utilizadas en su lista de nombres.\n",
    "\n",
    "9. Escriba una función que lee un archivo un archivo de configuración (filas del tipo campo=valor) y entrega un diccionario correspondiente. Probar la función con el archivo *configuracion.txt*. Todos los valores del diccionario deben ser string. Crear otra función que genera un diccionario similar pero ahora todos los valores deben ser enteros (descartar las filas donde no se puede convertir el valor a entero!).\n",
    "\n",
    "10. Considere el archivo cities.json que contiene en formato jason una lista de las 1000 ciudades más grandes de USA. Implementar una función que lee el archivo y utiliza un un diccionario por compresión para convertir la información del archivo en un diccionario que contiene como claves los nombres de las ciudades y como valores la población correspondiente. Cuántas ciudades contiene el diccionario generado? Cree una nueva función similar a la anterior, pero con la diferencia que el diccionario generado tendrá como claves tuplas conteniendo el estado y la ciudad. Esta nueva fución genera ahora el total de 1000 ciudades?\n"
   ]
  },
  {
   "cell_type": "markdown",
   "metadata": {},
   "source": [
    "1. Escribe una función *invierte_lineas()*  que invierte el orden  de las palabras de un archivo texto.\n",
    "\n",
    "    Ejemplo:  \n",
    "    Si el archivo texto contiene\n",
    "\n",
    "    abc def  \n",
    "    ghi jkl\n",
    "\n",
    "    Entonces el resultado de la función debe ser ['def abc','jkl ghi']"
   ]
  },
  {
   "cell_type": "code",
   "execution_count": 17,
   "metadata": {},
   "outputs": [
    {
     "data": {
      "text/plain": [
       "['como hola', 'yo estas', 'lol larry', 'gato vaca']"
      ]
     },
     "execution_count": 17,
     "metadata": {},
     "output_type": "execute_result"
    }
   ],
   "source": [
    "def invierte_lineas(archi):\n",
    "    return [' '.join(frase.strip().split()[::-1]) for frase in open(archi)]\n",
    "invierte_lineas(\"lala.txt\")\n",
    "\n",
    "\n",
    "    "
   ]
  },
  {
   "cell_type": "markdown",
   "metadata": {},
   "source": [
    "2. Cree una función *muestra_lineas()* que recibe un archivo texto, y devuelve una lista que contiene como elementos las lineas que contienen al menos una vocal y mas de 20 caracteres\n"
   ]
  },
  {
   "cell_type": "code",
   "execution_count": 3,
   "metadata": {},
   "outputs": [
    {
     "data": {
      "text/plain": [
       "['hola comoe estas yo muy bien',\n",
       " 'aaaaaaaaaaaaaaaaaaaaaaaaaaaaaaaaaaaaaaaaaaaaaa aaaa']"
      ]
     },
     "execution_count": 3,
     "metadata": {},
     "output_type": "execute_result"
    }
   ],
   "source": [
    "def muestra_lineas(archi):\n",
    "    return [lineas.strip() for lineas in open(archi) if len(lineas) > 20 and (\"a\" in lineas or \"e\" in lineas or \"i\" in lineas or \"o\" in lineas or \"u\" in lineas)]\n",
    "\n",
    "muestra_lineas('ejer5.txt')\n"
   ]
  },
  {
   "cell_type": "markdown",
   "metadata": {},
   "source": [
    "3. Defina un diccionario que describa los hijos y nietos de la familia, indicando además la edad de los nietos.\n",
    "\n",
    "    Por ejemplo:  \n",
    "    diccionario= \n",
    "    \n",
    "    {'Carmen':[{'nombre':'Nico', 'edad': 9}, {'nombre':'Lola', 'edad': 2}],   \n",
    "\n",
    "    'Veronica':[{'nombre':'Pablo', 'edad': 19}],\n",
    "    \n",
    "    'Rodrigo':[{'nombre':'Rodrigo', 'edad': 22},{'nombre':'Camila', 'edad': 17},{'nombre':'Pamela', 'edad': 12},{'nombre':'Mauricio', 'edad': 7}]}\n",
    "\n",
    "    Use ahora una lista por compresión para crear una lista de todos los nombres de los nietos ordenados desde los mayores a los más jovenes.  \n",
    "\n",
    "    Ejemplo:  \n",
    "    El resultado para diccionario debe ser:  \n",
    "    ['Rodrigo', 'Pablo', 'Camila', 'Pamela', 'Nico', 'Mauricio', 'Lola']"
   ]
  },
  {
   "cell_type": "code",
   "execution_count": 98,
   "metadata": {},
   "outputs": [
    {
     "data": {
      "text/plain": [
       "['Rodrigo', 'Pablo', 'Camila', 'Pamela', 'Nico', 'Mauricio', 'Lola']"
      ]
     },
     "execution_count": 98,
     "metadata": {},
     "output_type": "execute_result"
    }
   ],
   "source": [
    "def nietos(dicci):\n",
    "    li =  [nombres for clave, value in dicci.items()\n",
    "            for nombres in dicci[clave]]\n",
    "    \n",
    "    a = []\n",
    "    for i in li:\n",
    "        for key,value in i.items():\n",
    "            a.append({i[key] : i[\"edad\"]})\n",
    "    \n",
    "    li = [d for d in a if not all(key == value for key, value in d.items())]\n",
    "    lista = sorted(li, key=lambda d: list(d.values())[0], reverse=True)\n",
    "    return [nomb for i in lista for nomb in i.keys()]\n",
    "\n",
    "\n",
    "\n",
    "d = diccionario= {'Carmen':[{'nombre':'Nico', 'edad': 9}, {'nombre':'Lola', 'edad': 2}],   \n",
    "                 'Veronica':[{'nombre':'Pablo', 'edad': 19}],\n",
    "                'Rodrigo':[{'nombre':'Rodrigo', 'edad': 22},{'nombre':'Camila', 'edad': 17},{'nombre':'Pamela', 'edad': 12},{'nombre':'Mauricio', 'edad': 7}]}\n",
    "\n",
    "nietos(d)\n"
   ]
  },
  {
   "cell_type": "markdown",
   "metadata": {},
   "source": [
    "4. Cree una función que recibe una lista de diccionarios. Cada diccionario de la lista contiene como claves nombres de personas y como valores una lista de los hobbies de la persona correspondiente.   La función debe devolver el hobbie más popular entre todas las personas mencionadas en los diccionarios:\n",
    "\n",
    "    Por ejemplo:  \n",
    "    dic1={'Jorge':['futbol', 'ver series', 'ajedez'], 'Cata':['padel', 'cine', 'cocinar']}\n",
    "    dic2={'Fernanda':['viajar', 'ver series', 'baile'], 'Rodrigo': ['futbol', 'padel', 'ver series']}\n",
    "    dic3={'Benjamin': ['cocinar', 'leer', 'videojuegos']}  \n",
    "\n",
    "    Debe devolver: 'ver series'\n"
   ]
  },
  {
   "cell_type": "code",
   "execution_count": 99,
   "metadata": {},
   "outputs": [
    {
     "name": "stdout",
     "output_type": "stream",
     "text": [
      "El hobby más popular es: ver series\n"
     ]
    }
   ],
   "source": [
    "def hobbie_popular(lista_diccionarios):\n",
    "    hobbies=[hobbie for dic in lista_diccionarios for hobbies in dic.values() for hobbie in hobbies] #Primero itero por cada dicc, luego sobre los valor (lista hobbies), itero por cada hobbie en la lista de hobbies, y luego los agrego la lista hobbies\n",
    "    conteos={}#diccionario vacío para almacenar los conteos\n",
    "\n",
    "    for hobbie in hobbies: #Contamos la cantidad de hobbies en la lista\n",
    "        if hobbie in conteos: #Sumamos 1 ya esta\n",
    "            conteos[hobbie] += 1\n",
    "        else:\n",
    "            conteos[hobbie] = 1 #Si no esta lo agregamos al diccionanrio con valor 1\n",
    "\n",
    "    \n",
    "    maximo=max(conteos.values()) #Busca en valor maximo es los valores de dicc\n",
    "    hobbie_popular=[hobbie for hobbie, conteo in conteos.items() if conteo == maximo] #Almaceno los hobbies con la clave igual a la clave maxima encontrada \n",
    "\n",
    "    return hobbie_popular\n",
    "\n",
    "\n",
    "dic1={'Jorge':['futbol', 'ver series', 'futbol'], 'Cata':['padel', 'cine', 'cocinar']}\n",
    "dic2={'Fernanda':['viajar', 'ver series', 'baile'], 'Rodrigo': ['futbol', 'padel', 'ver series']}\n",
    "dic3={'Benjamin': ['cocinar', 'leer', 'videojuegos']}\n",
    "\n",
    "print(hobbie_popular([dic1, dic2, dic3]))  # Debe imprimir: 'ver series'"
   ]
  },
  {
   "cell_type": "markdown",
   "metadata": {},
   "source": [
    "5. Cree una función *cuenta_vocales()* que recibe una cadena que contiene varias palabras separadas por espacio. La función debe devolver un diccionario donde las claves son las palabras y el valor el número de vocales en la clave.  \n",
    "\n",
    "    Ejemplo:  \n",
    "    cuenta_vocales('Es demasiado divertido') --> {'Es': 1, 'demasiado': 5, 'divertido':4}"
   ]
  },
  {
   "cell_type": "code",
   "execution_count": 8,
   "metadata": {},
   "outputs": [
    {
     "name": "stdout",
     "output_type": "stream",
     "text": [
      "{'Es': 1, 'demasiado': 5, 'divertido': 4}\n"
     ]
    }
   ],
   "source": [
    "def cuenta_vocales(cadena):\n",
    "    palabras=cadena.split() #Divide la cadena en palabras\n",
    "    conteos={} #Diccionario vacío para almacenar los conteos\n",
    "    \n",
    "    for palabra in palabras:#Recorre cada palabra en la lista de palabras\n",
    "        conteo_vocales=0 #Inicializo el conteo\n",
    "        for letra in palabra: #Para cada letra en la palabra\n",
    "            if letra.lower() in 'aeiou':# Si la letra es una vocal\n",
    "                conteo_vocales += 1 #Voy sumando 1\n",
    "\n",
    "        conteos[palabra]=conteo_vocales #Agrego el conteo de vocales de la palabra al diccionario\n",
    "\n",
    "    return conteos\n",
    "\n",
    "print(cuenta_vocales('Es demasiado divertido')) "
   ]
  },
  {
   "cell_type": "markdown",
   "metadata": {},
   "source": [
    "6. Escribir una función que recibe el nombre de un directorio (como string) y entrega un diccionario. El diccionario debe tener como claves los nombres de los archivos en el directorio y los valores deben ser el tamaño de los archivos. (Hint: Utilice os.listdir (o glob.glob) para obtener los archivos filtrando solo los archivos regulares con métodos de os.path. Para determinar el tamaño de los archivos utilice os.stat)"
   ]
  },
  {
   "cell_type": "code",
   "execution_count": 7,
   "metadata": {},
   "outputs": [
    {
     "data": {
      "text/plain": [
       "{'archivo_en_castellano.txt': 2816,\n",
       " 'archivo_en_castellano_long.txt': 3109,\n",
       " 'archivo_en_ingles.txt': 4412,\n",
       " 'cities.json': 253215,\n",
       " 'configuracion.txt': 60}"
      ]
     },
     "execution_count": 7,
     "metadata": {},
     "output_type": "execute_result"
    }
   ],
   "source": [
    "import os\n",
    "def tamaños(archivo):\n",
    "    dicctionri={}\n",
    "    folder=os.listdir(archivo)\n",
    "    for i in folder :\n",
    "        size=os.stat(f'{archivo}/{i}')[6]\n",
    "        dicctionri[i]=size\n",
    "    return(dicctionri)\n",
    "tamaños(\"Datos_Clase_Ejercicios_06\")"
   ]
  },
  {
   "cell_type": "markdown",
   "metadata": {},
   "source": [
    "7. Crear una función que recibe el nombre de un archivo texto y entrega un conjunto con todas las longitudes de palabras existentes en el archivo."
   ]
  },
  {
   "cell_type": "code",
   "execution_count": null,
   "metadata": {},
   "outputs": [],
   "source": []
  },
  {
   "cell_type": "markdown",
   "metadata": {},
   "source": [
    "8. Crear una lista cuyos elementos sean strings de nombres (de las personas en su familia, o de sus amigos, etc.). Utilice la técnica de compresión de conjuntos (idealmente enlazada) para encontrar cuáles son las letras utilizadas en su lista de nombres."
   ]
  },
  {
   "cell_type": "code",
   "execution_count": null,
   "metadata": {},
   "outputs": [],
   "source": [
    "nombres = ['Maira', 'Karla', 'Karen', 'Monserrath', 'Dante']\n",
    "letras = {letra for nombre in nombres for letra in nombre} #Itera por cada nombre en la lista de nombres, luego por cada letra en el nombre y agrego la letra al conjunto\n",
    "print(letras)"
   ]
  },
  {
   "cell_type": "markdown",
   "metadata": {},
   "source": [
    "\n",
    "9. Escriba una función que lee un archivo un archivo de configuración (filas del tipo campo=valor) y entrega un diccionario correspondiente. Probar la función con el archivo *configuracion.txt*. Todos los valores del diccionario deben ser string. Crear otra función que genera un diccionario similar pero ahora todos los valores deben ser enteros (descartar las filas donde no se puede convertir el valor a entero!).\n"
   ]
  },
  {
   "cell_type": "code",
   "execution_count": null,
   "metadata": {},
   "outputs": [],
   "source": [
    "def leer_configuracion_string(nombre_archivo):\n",
    "    diccionario = {}\n",
    "    with open(nombre_archivo, 'r') as archivo:\n",
    "        for linea in archivo:\n",
    "            campo, valor = linea.strip().split('=')\n",
    "            diccionario[campo] = valor\n",
    "    return diccionario\n",
    "\n",
    "def leer_configuracion_entero(nombre_archivo):\n",
    "    diccionario = {}\n",
    "    with open(nombre_archivo, 'r') as archivo:\n",
    "        for linea in archivo:\n",
    "            campo, valor = linea.strip().split('=')\n",
    "            try:\n",
    "                diccionario[campo] = int(valor)\n",
    "            except ValueError:\n",
    "                pass\n",
    "    return diccionario\n",
    "\n",
    "print(leer_configuracion_string('Datos_Clase_Ejercicios_06/configuracion.txt'))\n",
    "print(leer_configuracion_entero('Datos_Clase_Ejercicios_06/configuracion.txt'))"
   ]
  },
  {
   "cell_type": "markdown",
   "metadata": {},
   "source": [
    "10. Considere el archivo cities.json que contiene en formato jason una lista de las 1000 ciudades más grandes de USA. Implementar una función que lee el archivo y utiliza un un diccionario por compresión para convertir la información del archivo en un diccionario que contiene como claves los nombres de las ciudades y como valores la población correspondiente. Cuántas ciudades contiene el diccionario generado? Cree una nueva función similar a la anterior, pero con la diferencia que el diccionario generado tendrá como claves tuplas conteniendo el estado y la ciudad. Esta nueva fución genera ahora el total de 1000 ciudades?\n"
   ]
  },
  {
   "cell_type": "code",
   "execution_count": null,
   "metadata": {},
   "outputs": [],
   "source": [
    "import json\n",
    "\n",
    "def ciudades_poblacion(nombre_archivo):\n",
    "    with open(nombre_archivo, 'r') as archivo:\n",
    "        ciudades=json.load(archivo)\n",
    "\n",
    "    diccionario={ciudad['city']: ciudad['population'] for ciudad in ciudades}\n",
    "\n",
    "    return diccionario\n",
    "\n",
    "def ciudades_estado_poblacion(nombre_archivo):\n",
    "    with open(nombre_archivo, 'r') as archivo:\n",
    "        ciudades=json.load(archivo)\n",
    "\n",
    "    diccionario={(ciudad['state'], ciudad['city']): ciudad['population'] for ciudad in ciudades}\n",
    "\n",
    "    return diccionario\n",
    "\n",
    "\n",
    "print(len(ciudades_poblacion('Datos_Clase_Ejercicios_06/cities.json')))  \n",
    "\n",
    "print(len(ciudades_estado_poblacion('Datos_Clase_Ejercicios_06/cities.json')))"
   ]
  }
 ],
 "metadata": {
  "kernelspec": {
   "display_name": "Python 3.6.5 ('base')",
   "language": "python",
   "name": "python3"
  },
  "language_info": {
   "codemirror_mode": {
    "name": "ipython",
    "version": 3
   },
   "file_extension": ".py",
   "mimetype": "text/x-python",
   "name": "python",
   "nbconvert_exporter": "python",
   "pygments_lexer": "ipython3",
   "version": "3.9.13"
  },
  "vscode": {
   "interpreter": {
    "hash": "e4cce46d6be9934fbd27f9ca0432556941ea5bdf741d4f4d64c6cd7f8dfa8fba"
   }
  }
 },
 "nbformat": 4,
 "nbformat_minor": 4
}
