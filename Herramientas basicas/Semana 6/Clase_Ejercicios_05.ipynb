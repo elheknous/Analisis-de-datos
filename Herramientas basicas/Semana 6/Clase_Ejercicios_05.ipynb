{
 "cells": [
  {
   "cell_type": "markdown",
   "metadata": {},
   "source": [
    "# Herramientas básicas para el Análisis de Datos (IMA602)\n",
    "\n",
    "## Ejercicios sobre trabajo con funciones.\n"
   ]
  },
  {
   "cell_type": "markdown",
   "metadata": {},
   "source": [
    "## Ejercicio 1: \n",
    "\n",
    "Escribe una función *mi_xml()*  que genera un string de salida tipo xml. La función debe recibir al menos un argumento string que es el tipo tag. El segundo argumento (opcional) es el texto dentro del tag, que debe quedar ubicado entre la apertura y el cierre del tag. Los restantes argumentos (opcionales) son los atributos del tag que se ubican en la apertura del tag.\n",
    "\n",
    "Ejemplos:  \n",
    "mi_xml('tag1') --> \\<tag1>\\</tag1>  \n",
    "mi_xml('tag1','texto') --> \\<tag1>texto\\</tag1>  \n",
    "mi_xml('tag1','texto', atrib_1=1, atrib_2=2, atrib_3=3) --> \\<tag1 atrib_1=\"1\" atrib_2=\"2\" atrib_3=\"3\">texto\\</tag1>"
   ]
  },
  {
   "cell_type": "code",
   "execution_count": null,
   "metadata": {},
   "outputs": [],
   "source": [
    "# Solución:\n",
    "\n",
    "def mi_xml():\n",
    "    "
   ]
  },
  {
   "cell_type": "markdown",
   "metadata": {},
   "source": [
    "## Ejercicio 2: \n",
    "\n",
    "Escriba una función *calc()* que haga las operaciones elementales, a saber: suma, resta, multiplicación, división (/), modulo (%) y potencia(**). Las operación se declara en un string que contiene primero la operación y luego los dos números enteros separados por espacio en blanco:\n",
    "\n",
    "Ejemplos:  \n",
    "calc('+ 4 3') --> 7  \n",
    "calc('- 4 3') --> 1  \n",
    "calc('* 4 3') --> 12  \n",
    "calc('/ 4 3') --> 1.333  \n",
    "calc('% 4 3') --> 1  \n",
    "calc('** 4 3') --> 64\n"
   ]
  },
  {
   "cell_type": "code",
   "execution_count": 2,
   "metadata": {},
   "outputs": [
    {
     "name": "stdout",
     "output_type": "stream",
     "text": [
      "7\n",
      "1\n",
      "12\n",
      "1.3333333333333333\n",
      "1\n",
      "64\n"
     ]
    }
   ],
   "source": [
    "# Solución\n",
    "\n",
    "#Hint \n",
    "import operator\n",
    "\n",
    "print(operator.add(4,3))\n",
    "print(operator.sub(4,3))\n",
    "print(operator.mul(4,3))\n",
    "print(operator.truediv(4,3))\n",
    "print(operator.mod(4,3))\n",
    "print(operator.pow(4,3))"
   ]
  },
  {
   "cell_type": "code",
   "execution_count": null,
   "metadata": {},
   "outputs": [],
   "source": []
  },
  {
   "cell_type": "markdown",
   "metadata": {},
   "source": [
    "## Ejercicio 3: \n",
    "\n",
    "Escribir una función *crea_generador_passwords()* que cree funciones generadoras de passwords. La función debe recibir un string  y crear otra función. La función creada debe recibir un entero y entregar una password del largo del entero utilizando los caracteres del string.\n",
    "\n",
    "Ejemplos:  \n",
    "\n",
    "password_letras=crea_generador_passwords('abcdef')  \n",
    "password_simbolos=crea_generador_passwords('!@#$/%')\n",
    "\n",
    "password_letras(5) --> 'affcd'  \n",
    "password_simbolos(4) --> '/#@#'\n"
   ]
  },
  {
   "cell_type": "code",
   "execution_count": 16,
   "metadata": {},
   "outputs": [
    {
     "ename": "IndentationError",
     "evalue": "expected an indented block (686334838.py, line 5)",
     "output_type": "error",
     "traceback": [
      "\u001b[1;36m  Cell \u001b[1;32mIn[16], line 5\u001b[1;36m\u001b[0m\n\u001b[1;33m    print(random.choice('!@#$/%'))\u001b[0m\n\u001b[1;37m    ^\u001b[0m\n\u001b[1;31mIndentationError\u001b[0m\u001b[1;31m:\u001b[0m expected an indented block\n"
     ]
    }
   ],
   "source": [
    "import random\n",
    "\n",
    "def crea_generador_passwords(n):\n",
    "    \n",
    "\n",
    "\n",
    "print(random.choice('!@#$/%'))\n",
    "print(random.choice('!@#$/%'))\n",
    "print(random.choice('!@#$/%'))\n",
    "print(random.choice('!@#$/%'))\n"
   ]
  },
  {
   "cell_type": "code",
   "execution_count": null,
   "metadata": {},
   "outputs": [],
   "source": [
    "# Solución\n",
    "\n"
   ]
  },
  {
   "cell_type": "code",
   "execution_count": 43,
   "metadata": {},
   "outputs": [
    {
     "name": "stdout",
     "output_type": "stream",
     "text": [
      "[4, 3, 1, 2]\n",
      "a: 4\n",
      "b: 3\n",
      "c: 1\n",
      "d: 2\n"
     ]
    }
   ],
   "source": [
    "import random\n",
    "\n",
    "mi_lista = [1, 2, 3, 4,]\n",
    "\n",
    "random.shuffle(mi_lista)\n",
    "\n",
    "print(mi_lista)\n",
    "\n",
    "print(\"a: \"+str(mi_lista[0]))\n",
    "print(\"b: \"+str(mi_lista[1]))\n",
    "print(\"c: \"+str(mi_lista[2]))\n",
    "print(\"d: \"+str(mi_lista[3]))\n",
    "\n"
   ]
  }
 ],
 "metadata": {
  "kernelspec": {
   "display_name": "Python 3.6.5 ('base')",
   "language": "python",
   "name": "python3"
  },
  "language_info": {
   "codemirror_mode": {
    "name": "ipython",
    "version": 3
   },
   "file_extension": ".py",
   "mimetype": "text/x-python",
   "name": "python",
   "nbconvert_exporter": "python",
   "pygments_lexer": "ipython3",
   "version": "3.9.13"
  },
  "vscode": {
   "interpreter": {
    "hash": "e4cce46d6be9934fbd27f9ca0432556941ea5bdf741d4f4d64c6cd7f8dfa8fba"
   }
  }
 },
 "nbformat": 4,
 "nbformat_minor": 4
}
