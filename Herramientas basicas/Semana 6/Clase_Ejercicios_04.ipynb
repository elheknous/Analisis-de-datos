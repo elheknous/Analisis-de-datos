{
 "cells": [
  {
   "cell_type": "markdown",
   "metadata": {},
   "source": [
    "# Herramientas básicas para el Análisis de Datos (IMA602)\n",
    "\n",
    "## Ejercicios sobre trabajo con archivos.\n"
   ]
  },
  {
   "cell_type": "markdown",
   "metadata": {},
   "source": [
    "## Ejercicio 1: \n",
    "\n",
    "Cree una función que extrae la última línea de un archivo. La función recibe el nombre del archivo como argumento y entrega la última linea en pantalla.\n",
    "\n"
   ]
  },
  {
   "cell_type": "code",
   "execution_count": null,
   "metadata": {},
   "outputs": [],
   "source": [
    "# LEER UN ARCHIVO\n",
    "\n",
    "nombre_archivo = './Datos_Clase_Ejercicios_04/archivo_texto.txt'\n",
    "lineas=[]\n",
    "with open(nombre_archivo) as archivo:\n",
    "        for linea in archivo:\n",
    "            lineas.append(linea)\n",
    "\n",
    "lineas"
   ]
  },
  {
   "cell_type": "code",
   "execution_count": null,
   "metadata": {},
   "outputs": [],
   "source": [
    "for linea in lineas:\n",
    "    #print(linea)\n",
    "    print(linea.replace('\\n',''))"
   ]
  },
  {
   "cell_type": "code",
   "execution_count": null,
   "metadata": {},
   "outputs": [],
   "source": [
    "# ESCRIBIR UN ARCHIVO\n",
    "\n",
    "with open('./Datos_Clase_Ejercicios_04/archivo_texto_de_vuelta.txt', 'w') as archivo_salida:\n",
    "    for linea in lineas:\n",
    "        archivo_salida.write(linea.replace('\\n',''))\n",
    "        #archivo_salida.write(linea)\n",
    "        #archivo_salida.write(linea+'\\n')"
   ]
  },
  {
   "cell_type": "code",
   "execution_count": null,
   "metadata": {},
   "outputs": [],
   "source": [
    "# Solución\n",
    " \n"
   ]
  },
  {
   "cell_type": "markdown",
   "metadata": {},
   "source": [
    "## Ejercicio 2: \n",
    "\n",
    "Crear una función que reciba un archivo de password de tipo unix (/etc/passwd) y entregue un diccionario cuyas claves sean los nombres de usuario y los valores los ID de los usuarios. La función debe crear el diccionario utilizando compresión. (Obs: En los archivos /etc/passwd los nombres de usuarios ocupan el primer campo, con índice 0 y el ID el tercer campo, con índice 2)."
   ]
  },
  {
   "cell_type": "code",
   "execution_count": null,
   "metadata": {},
   "outputs": [],
   "source": [
    "#Controlando el comienzo de una linea\n",
    "\n",
    "lineas_de_prueba=['& ESTA NO ME INTERESA','ESTA SI ME INTERESA', '! ESTA NO ME INTERESA']\n",
    "for linea in lineas_de_prueba:\n",
    "    if not linea.startswith(('&', '!')):\n",
    "        print(linea)"
   ]
  },
  {
   "cell_type": "code",
   "execution_count": null,
   "metadata": {},
   "outputs": [],
   "source": [
    "# Solución\n",
    " \n"
   ]
  },
  {
   "cell_type": "markdown",
   "metadata": {},
   "source": [
    "## Ejercicio 3: \n",
    "\n",
    "Cree una función resumen_de_archivo_texto() que recibe el nombre de un archivo de texto e imprime cuatro lineas, conteniendo la siguiente información:\n",
    "- Cantidad de caracteres (incluyendo espacios en blanco)\n",
    "- Cantidad de palabras (separadas por espacios en blanco)\n",
    "- Cantidad de lineas \n",
    "- Cantidad de palabras distintas (diferenciando mayúsculas, o sea 'No' es diferente de 'no')"
   ]
  },
  {
   "cell_type": "code",
   "execution_count": null,
   "metadata": {},
   "outputs": [],
   "source": [
    "# Solución\n"
   ]
  },
  {
   "cell_type": "markdown",
   "metadata": {},
   "source": [
    "## Ejercicio 4: \n",
    "\n",
    "Escriba dos funciones. La primera función *find_longest_word()* debe recibir como argumento el nombre de un archivo y retornar la palabra más larga del archivo. La segunda función *find_all_longest_words()* debe recibir el nombre de un directorio y retornar un dicionario, que tiene como claves los nombres de los archivos y como valores la palabras más larga del archivo."
   ]
  },
  {
   "cell_type": "code",
   "execution_count": null,
   "metadata": {},
   "outputs": [],
   "source": [
    "import os\n",
    "\n",
    "for file in os.listdir('Datos_Clase_Ejercicios_04\\Comentarios'):\n",
    "    str1= os.path.join('Datos_Clase_Ejercicios_04\\Comentarios', file)\n",
    "    str2= ' es un archivo.' if os.path.isfile(os.path.join('Datos_Clase_15\\Comentarios', file)) else ''\n",
    "    print(str1+str2)"
   ]
  },
  {
   "cell_type": "code",
   "execution_count": null,
   "metadata": {},
   "outputs": [],
   "source": [
    "# Solución\n",
    "\n"
   ]
  },
  {
   "cell_type": "markdown",
   "metadata": {},
   "source": [
    "## Ejercicio 5: \n",
    "\n",
    "Crear una función *passwd_2_csv()* que recibe dos nombres de archivos como argumentos. El primer archivo es de estilo passwords (para leer) y el segundo es el archivo para escribir la salida. El archivo de salida debe contener en cada linea el nombre del usuario (índice 0) y el ID (índice 2) separados por tab."
   ]
  },
  {
   "cell_type": "code",
   "execution_count": null,
   "metadata": {},
   "outputs": [],
   "source": [
    "# Escribir en un csv\n",
    "\n",
    "import csv \n",
    "\n",
    "with open('archivo.csv','w') as f:\n",
    "    o=csv.writer(f)\n",
    "    o.writerow(range(5))\n",
    "    o.writerow(['a','b','c'.'d'.'e'])\n",
    "    "
   ]
  },
  {
   "cell_type": "markdown",
   "metadata": {},
   "source": [
    "## Ejercicio 6: \n",
    "\n",
    "En un directorio llamado 'Datos_notas' se encuentran las notas de varios cursos en algunas materias. Para cada curso hay un archivo en formato json con las notas. Cree una función *imprime_resumen_notas()* que recibe el nombre del directorio e imprime un resumen de las notas de todos los cursos. Para cada curso se debe imprimir una primera linea con el nombre del archivo del curso, después para cada materia se debe imprimir una linea aparte que contenga los siguientes datos separados por tab: nota minima, nota máxima y promedio. (Hint: Utilizas las librerias glob y json)\n",
    "\n",
    "    Por ejemplo: \n",
    "\n",
    "        Datos_notas/8C.json\n",
    "            Matemática  min: 560    max: 973    prom: 780.5\n",
    "            Ciencias    min: 400    max: 753    prom: 543.8\n",
    "        Datos_notas/8E.json\n",
    "            Matemática  min: 610    max: 883    prom: 804.2\n",
    "            Ciencias    min: 502    max: 940    prom: 672.6"
   ]
  },
  {
   "cell_type": "code",
   "execution_count": 1,
   "metadata": {},
   "outputs": [
    {
     "name": "stdout",
     "output_type": "stream",
     "text": [
      "{'campo1': 80, 'campo2': 52, 'campo3': 84}\n",
      "campo1: 80\n",
      "campo2: 52\n",
      "campo3: 84\n",
      "{'campo1': 71, 'campo2': 70, 'campo3': 33}\n",
      "campo1: 71\n",
      "campo2: 70\n",
      "campo3: 33\n",
      "{'campo1': 88, 'campo2': 64, 'campo3': 35}\n",
      "campo1: 88\n",
      "campo2: 64\n",
      "campo3: 35\n",
      "{'campo1': 39, 'campo2': 64, 'campo3': 56}\n",
      "campo1: 39\n",
      "campo2: 64\n",
      "campo3: 56\n",
      "{'campo1': 39, 'campo2': 68, 'campo3': 71}\n",
      "campo1: 39\n",
      "campo2: 68\n",
      "campo3: 71\n",
      "{'campo1': 77, 'campo2': 89, 'campo3': 96}\n",
      "campo1: 77\n",
      "campo2: 89\n",
      "campo3: 96\n",
      "{'campo1': 64, 'campo2': 69, 'campo3': 29}\n",
      "campo1: 64\n",
      "campo2: 69\n",
      "campo3: 29\n",
      "{'campo1': 100, 'campo2': 81, 'campo3': 66}\n",
      "campo1: 100\n",
      "campo2: 81\n",
      "campo3: 66\n",
      "{'campo1': 25, 'campo2': 97, 'campo3': 54}\n",
      "campo1: 25\n",
      "campo2: 97\n",
      "campo3: 54\n",
      "{'campo1': 18, 'campo2': 56, 'campo3': 6}\n",
      "campo1: 18\n",
      "campo2: 56\n",
      "campo3: 6\n"
     ]
    }
   ],
   "source": [
    "# leer un archivo en formato json\n",
    "\n",
    "import json\n",
    "\n",
    "with open('Datos_Clase_Ejercicios_04/archivo_json_de_prueba.json') as archivo_json:\n",
    "            for linea in json.load(archivo_json):\n",
    "                print(linea)\n",
    "                for campo, valor in linea.items():\n",
    "                    print(f'{campo}: {valor}')\n"
   ]
  },
  {
   "cell_type": "markdown",
   "metadata": {},
   "source": [
    "## Ejercicio 7: \n",
    "\n",
    "Escriba una función que reciba el nombre de un archivo de entrada y de un archivo de salida. La función debe escribir en el archivo de salida cada linea del archivo de entrada invirtiendo el orden de las palabras y de las letras de cada palabra. Por ejemplo:\n",
    "\n",
    "Archivo de entrada:\n",
    "\n",
    "Me gusta el cine  \n",
    "Pero odio la tele\n",
    "\n",
    "Archivo de salida\n",
    "\n",
    "enic le atsug eM   \n",
    "elet al oido oreP\n",
    "\n"
   ]
  },
  {
   "cell_type": "code",
   "execution_count": 7,
   "metadata": {},
   "outputs": [
    {
     "name": "stdout",
     "output_type": "stream",
     "text": [
      "primera linea de archivo de prueba\n",
      "segunda linea de archivo de prueba\n",
      "tercera linea de archivo de prueba\n",
      "cuarta linea de archivo de prueba\n",
      "quinta y Ãºltima linea de archivo de prueba\n"
     ]
    },
    {
     "data": {
      "text/plain": [
       "['primera linea de archivo de prueba\\n',\n",
       " 'segunda linea de archivo de prueba\\n',\n",
       " 'tercera linea de archivo de prueba\\n',\n",
       " 'cuarta linea de archivo de prueba\\n',\n",
       " 'quinta y Ãºltima linea de archivo de prueba\\n']"
      ]
     },
     "execution_count": 7,
     "metadata": {},
     "output_type": "execute_result"
    }
   ],
   "source": [
    "lineas=[]\n",
    "with open('Datos_Clase_Ejercicios_04/archivo_de_prueba.txt') as archivo_in:\n",
    "    for linea in archivo_in:\n",
    "        print(linea.rstrip())\n",
    "        #print(linea)\n",
    "        lineas.append(linea.rstrip())\n",
    "\n",
    "lineas"
   ]
  },
  {
   "cell_type": "code",
   "execution_count": 3,
   "metadata": {},
   "outputs": [],
   "source": [
    "with open('archivo_de_prueba_nuevo.txt', 'w') as archivo_out:\n",
    "    for linea in lineas:\n",
    "        archivo_out.write(linea)\n",
    "        #archivo_out.write(linea+'\\n')\n"
   ]
  }
 ],
 "metadata": {
  "kernelspec": {
   "display_name": "Python 3.6.5 ('base')",
   "language": "python",
   "name": "python3"
  },
  "language_info": {
   "codemirror_mode": {
    "name": "ipython",
    "version": 3
   },
   "file_extension": ".py",
   "mimetype": "text/x-python",
   "name": "python",
   "nbconvert_exporter": "python",
   "pygments_lexer": "ipython3",
   "version": "3.10.0"
  },
  "vscode": {
   "interpreter": {
    "hash": "e4cce46d6be9934fbd27f9ca0432556941ea5bdf741d4f4d64c6cd7f8dfa8fba"
   }
  }
 },
 "nbformat": 4,
 "nbformat_minor": 4
}
