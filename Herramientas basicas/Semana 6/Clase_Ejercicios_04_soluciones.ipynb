{
 "cells": [
  {
   "cell_type": "markdown",
   "metadata": {},
   "source": [
    "# Herramientas básicas para el Análisis de Datos (IMA602)\n",
    "\n",
    "## Ejercicios sobre trabajo con archivos.\n"
   ]
  },
  {
   "cell_type": "markdown",
   "metadata": {},
   "source": [
    "## Ejercicio 1: \n",
    "\n",
    "Cree una función que extrae la última línea de un archivo. La función recibe el nombre del archivo como argumento y entrega la última linea en pantalla."
   ]
  },
  {
   "cell_type": "code",
   "execution_count": 1,
   "metadata": {},
   "outputs": [
    {
     "ename": "FileNotFoundError",
     "evalue": "[Errno 2] No such file or directory: 'archivo_de_prueba.txt'",
     "output_type": "error",
     "traceback": [
      "\u001b[1;31m---------------------------------------------------------------------------\u001b[0m",
      "\u001b[1;31mFileNotFoundError\u001b[0m                         Traceback (most recent call last)",
      "Cell \u001b[1;32mIn[1], line 10\u001b[0m\n\u001b[0;32m      7\u001b[0m         linea_final\u001b[38;5;241m=\u001b[39mlineal_actual\n\u001b[0;32m      8\u001b[0m     \u001b[38;5;28;01mreturn\u001b[39;00m linea_final\n\u001b[1;32m---> 10\u001b[0m \u001b[38;5;28mprint\u001b[39m(\u001b[43mextrae_ultima_linea\u001b[49m\u001b[43m(\u001b[49m\u001b[38;5;124;43m'\u001b[39;49m\u001b[38;5;124;43marchivo_de_prueba.txt\u001b[39;49m\u001b[38;5;124;43m'\u001b[39;49m\u001b[43m)\u001b[49m)\n",
      "Cell \u001b[1;32mIn[1], line 6\u001b[0m, in \u001b[0;36mextrae_ultima_linea\u001b[1;34m(archivo)\u001b[0m\n\u001b[0;32m      4\u001b[0m \u001b[38;5;28;01mdef\u001b[39;00m \u001b[38;5;21mextrae_ultima_linea\u001b[39m(archivo):\n\u001b[0;32m      5\u001b[0m     linea_final\u001b[38;5;241m=\u001b[39m\u001b[38;5;124m'\u001b[39m\u001b[38;5;124m'\u001b[39m\n\u001b[1;32m----> 6\u001b[0m     \u001b[38;5;28;01mfor\u001b[39;00m lineal_actual \u001b[38;5;129;01min\u001b[39;00m \u001b[38;5;28;43mopen\u001b[39;49m\u001b[43m(\u001b[49m\u001b[43marchivo\u001b[49m\u001b[43m)\u001b[49m:\n\u001b[0;32m      7\u001b[0m         linea_final\u001b[38;5;241m=\u001b[39mlineal_actual\n\u001b[0;32m      8\u001b[0m     \u001b[38;5;28;01mreturn\u001b[39;00m linea_final\n",
      "File \u001b[1;32mc:\\Users\\jose\\.julia\\conda\\3\\x86_64\\lib\\site-packages\\IPython\\core\\interactiveshell.py:324\u001b[0m, in \u001b[0;36m_modified_open\u001b[1;34m(file, *args, **kwargs)\u001b[0m\n\u001b[0;32m    317\u001b[0m \u001b[38;5;28;01mif\u001b[39;00m file \u001b[38;5;129;01min\u001b[39;00m {\u001b[38;5;241m0\u001b[39m, \u001b[38;5;241m1\u001b[39m, \u001b[38;5;241m2\u001b[39m}:\n\u001b[0;32m    318\u001b[0m     \u001b[38;5;28;01mraise\u001b[39;00m \u001b[38;5;167;01mValueError\u001b[39;00m(\n\u001b[0;32m    319\u001b[0m         \u001b[38;5;124mf\u001b[39m\u001b[38;5;124m\"\u001b[39m\u001b[38;5;124mIPython won\u001b[39m\u001b[38;5;124m'\u001b[39m\u001b[38;5;124mt let you open fd=\u001b[39m\u001b[38;5;132;01m{\u001b[39;00mfile\u001b[38;5;132;01m}\u001b[39;00m\u001b[38;5;124m by default \u001b[39m\u001b[38;5;124m\"\u001b[39m\n\u001b[0;32m    320\u001b[0m         \u001b[38;5;124m\"\u001b[39m\u001b[38;5;124mas it is likely to crash IPython. If you know what you are doing, \u001b[39m\u001b[38;5;124m\"\u001b[39m\n\u001b[0;32m    321\u001b[0m         \u001b[38;5;124m\"\u001b[39m\u001b[38;5;124myou can use builtins\u001b[39m\u001b[38;5;124m'\u001b[39m\u001b[38;5;124m open.\u001b[39m\u001b[38;5;124m\"\u001b[39m\n\u001b[0;32m    322\u001b[0m     )\n\u001b[1;32m--> 324\u001b[0m \u001b[38;5;28;01mreturn\u001b[39;00m io_open(file, \u001b[38;5;241m*\u001b[39margs, \u001b[38;5;241m*\u001b[39m\u001b[38;5;241m*\u001b[39mkwargs)\n",
      "\u001b[1;31mFileNotFoundError\u001b[0m: [Errno 2] No such file or directory: 'archivo_de_prueba.txt'"
     ]
    }
   ],
   "source": [
    "# Solución\n",
    " \n",
    "\n",
    "def extrae_ultima_linea(archivo):\n",
    "    linea_final=''\n",
    "    for lineal_actual in open(archivo):\n",
    "        linea_final=lineal_actual\n",
    "    return linea_final\n",
    "\n",
    "print(extrae_ultima_linea('archivo_de_prueba.txt'))\n"
   ]
  },
  {
   "cell_type": "markdown",
   "metadata": {},
   "source": [
    "## Ejercicio 2: \n",
    "\n",
    "Crear una función que reciba un archivo de password de tipo unix (/etc/passwd) y entregue un diccionario cuyas claves sean los nombres de usuario y los valores los ID de los usuarios. La fución debe crear el diccionario utilizando compresión. (Obs: En los archivos /etc/passwd los nombres de usuarios ocupan el primer campo, con índice 0 y el ID el tercer campo, con índice 2)."
   ]
  },
  {
   "cell_type": "code",
   "execution_count": null,
   "metadata": {},
   "outputs": [],
   "source": [
    "# Solución\n",
    " \n",
    "def passwd_2_dict(nombre_archivo):\n",
    "    usuarios={}\n",
    "    with open(nombre_archivo) as passwd:\n",
    "        for linea in passwd:\n",
    "            if not line.startswith(('#', '\\n')):\n",
    "                inf_usuario = linea.split(':')\n",
    "                usuarios[inf_usuario[0]] = int(inf_usuario[2])\n",
    "    return usuarios\n",
    "\n",
    "print(passwd_2_dict('Datos_Clase_Ejercicios_04/passwd_file.txt'))"
   ]
  },
  {
   "cell_type": "markdown",
   "metadata": {},
   "source": [
    "## Ejercicio 3: \n",
    "\n",
    "Cree una función resumen_de_archivo_texto() que recibe el nombre de un archivo de texto e imprime cuatro lineas, conteniendo la siguiente información:\n",
    "- Cantidad de caracteres(incluyendo espacios en blanco)\n",
    "- Cantidad de palabras (separadas por espacios en blanco)\n",
    "- Cantidad de lineas \n",
    "- Cantidad de palabras distintas (difenrenciando mayúsculas, o sea 'No' es diferente de 'no')"
   ]
  },
  {
   "cell_type": "code",
   "execution_count": null,
   "metadata": {},
   "outputs": [],
   "source": [
    "# Solución\n",
    "\n",
    "def resumen_de_archivo_texto(archivo):\n",
    "    contador={'caracteres':0, 'palabras':0, 'lineas':0}\n",
    "    palabras_diferentes = set()\n",
    "    for linea in open(archivo):\n",
    "        contador['caracteres'] += len(linea)\n",
    "        contador['palabras'] += len(linea.split())\n",
    "        contador['lineas'] += 1\n",
    "        palabras_diferentes.update(linea.split())\n",
    "    contador['nro_palabras_dif']=len(palabras_diferentes)\n",
    "    for key, value in contador.items():\n",
    "        print(f'{key}: {value}')\n",
    "\n",
    "resumen_de_archivo_texto('Texto_de_prueba2.txt')"
   ]
  },
  {
   "cell_type": "markdown",
   "metadata": {},
   "source": [
    "## Ejercicio 4: \n",
    "\n",
    "Escriba dos funciones. La primera función *find_longest_word()* debe recibir como argumento el nombre de un archivo y retornar la palabra más larga del archivo. La segunda función *find_all_longest_words()* debe recibir el nombre de un directorio y retornar un dicionario, que tiene como claves los nombres de los archivos y como valores la palabras más larga del archivo."
   ]
  },
  {
   "cell_type": "code",
   "execution_count": 3,
   "metadata": {},
   "outputs": [
    {
     "data": {
      "text/plain": [
       "'restringido.'"
      ]
     },
     "execution_count": 3,
     "metadata": {},
     "output_type": "execute_result"
    }
   ],
   "source": [
    "import os\n",
    "\n",
    "def find_longest_word(nombre_del_archivo):\n",
    "    mas_larga=''\n",
    "    for una_linea in open(nombre_del_archivo):\n",
    "        for una_palabra in una_linea.split():\n",
    "            if len(una_palabra)>len(mas_larga):\n",
    "                mas_larga=una_palabra\n",
    "    return mas_larga\n",
    "\n",
    "find_longest_word('Datos_Clase_Ejercicios_04\\Comentarios\\Comentario_1.txt')"
   ]
  },
  {
   "cell_type": "code",
   "execution_count": 4,
   "metadata": {},
   "outputs": [
    {
     "name": "stdout",
     "output_type": "stream",
     "text": [
      "Datos_Clase_Ejercicios_04\\Comentarios\\Comentario_1.txt es un archivo.\n",
      "Datos_Clase_Ejercicios_04\\Comentarios\\Comentario_2.txt es un archivo.\n",
      "Datos_Clase_Ejercicios_04\\Comentarios\\Comentario_3.txt es un archivo.\n",
      "Datos_Clase_Ejercicios_04\\Comentarios\\Comentario_4.txt es un archivo.\n",
      "Datos_Clase_Ejercicios_04\\Comentarios\\Comentario_5.txt es un archivo.\n",
      "Datos_Clase_Ejercicios_04\\Comentarios\\Comentario_6.txt es un archivo.\n",
      "Datos_Clase_Ejercicios_04\\Comentarios\\Subdirectorio no es un archivo.\n"
     ]
    }
   ],
   "source": [
    "import os\n",
    "\n",
    "for file in os.listdir('Datos_Clase_Ejercicios_04\\Comentarios'):\n",
    "    str1= os.path.join('Datos_Clase_Ejercicios_04\\Comentarios', file)\n",
    "    str2= ' es un archivo.' if os.path.isfile(str1) else ' no es un archivo.'\n",
    "    print(str1+str2)"
   ]
  },
  {
   "cell_type": "code",
   "execution_count": 9,
   "metadata": {},
   "outputs": [
    {
     "data": {
      "text/plain": [
       "{'Comentario_1.txt': 'restringido.',\n",
       " 'Comentario_2.txt': 'restaurante',\n",
       " 'Comentario_3.txt': 'expectativas.',\n",
       " 'Comentario_4.txt': 'recomendable.',\n",
       " 'Comentario_5.txt': 'estacionamiento',\n",
       " 'Comentario_6.txt': 'acompañamientos'}"
      ]
     },
     "execution_count": 9,
     "metadata": {},
     "output_type": "execute_result"
    }
   ],
   "source": [
    "def find_all_longest_words(nombre_del_directorio):\n",
    "\n",
    "    return {nombre_del_archivo: find_longest_word(\n",
    "        os.path.join(nombre_del_directorio, nombre_del_archivo)) \\\n",
    "        for nombre_del_archivo in os.listdir(nombre_del_directorio) \\\n",
    "        if os.path.isfile(os.path.join(nombre_del_directorio, nombre_del_archivo))}\n",
    "\n",
    "find_all_longest_words('Datos_Clase_Ejercicios_04\\Comentarios')"
   ]
  },
  {
   "cell_type": "markdown",
   "metadata": {},
   "source": [
    "## Ejercicio 5: \n",
    "\n",
    "Crear una función *passwd_2_csv()* que recibe dos no,bres de archivos como argumentos. El primer archivo es de estilo passwords (para leer) y el segundo es el archivo para escribir la salida. El archivo de salida debe contener en cada linea el nombre del usuario (índice 0) y el ID (índice 2) separados por tab."
   ]
  },
  {
   "cell_type": "code",
   "execution_count": 22,
   "metadata": {},
   "outputs": [],
   "source": [
    "# Escribir en un csv\n",
    "\n",
    "import csv \n",
    "\n",
    "with open('archivo.csv','w',newline='') as f:\n",
    "    o=csv.writer(f, delimiter='*')\n",
    "    o.writerow(range(5))\n",
    "    o.writerow(['a','b','c','d','e'])\n",
    "    "
   ]
  },
  {
   "cell_type": "code",
   "execution_count": 18,
   "metadata": {},
   "outputs": [],
   "source": [
    "# Solución\n",
    "\n",
    "import csv \n",
    "\n",
    "def passwd_2_csv(archivo_passwd, archivo_csv):\n",
    "    with open(archivo_passwd) as passwd:\n",
    "        with open(archivo_csv,'w',newline='') as salida:\n",
    "            linea_in=csv.reader(passwd,delimiter=':')\n",
    "            linea_out=csv.writer(salida, delimiter='\\t')\n",
    "            for registro in linea_in:\n",
    "                if len(registro) > 1:\n",
    "                    linea_out.writerow((registro[0],registro[2]))\n",
    "\n",
    "passwd_2_csv('Datos_Clase_Ejercicios_04\\passwd_file.txt','Datos_Clase_Ejercicios_04\\passwd_file_output.csv')"
   ]
  },
  {
   "cell_type": "markdown",
   "metadata": {},
   "source": [
    "## Ejercicio 6: \n",
    "\n",
    "En un directorio llamado 'Datos_notas' se encuentran las notas de varios cursos en en algunas materias. Para cada curso hay un archivo en formato json con las notas. Cree una función *imprime_resumen_notas()* que recibe el nombre del directorio e imprime un resumen de las notas de todos los cursos. Para cada curso se debe imprimir una primera linea con el nombre del archivo del curso, después para cada materia se debe imprimir una linea aparte que contenga los siguientes datos separados por tab: nota minima, nota máxima y promedio. (Hint: Utilizas las librerias glob y json)\n",
    "\n",
    "    Por ejemplo: \n",
    "\n",
    "        Datos_notas/8C.json\n",
    "            Matemática  min: 560    max: 973    prom: 780.5\n",
    "            Ciencias    min: 400    max: 753    prom: 543.8\n",
    "        Datos_notas/8E.json\n",
    "            Matemática  min: 610    max: 883    prom: 804.2\n",
    "            Ciencias    min: 502    max: 940    prom: 672.6"
   ]
  },
  {
   "cell_type": "code",
   "execution_count": 9,
   "metadata": {},
   "outputs": [
    {
     "name": "stdout",
     "output_type": "stream",
     "text": [
      "{'campo1': 80, 'campo2': 52, 'campo3': 84}\n",
      "campo1: 80\n",
      "campo2: 52\n",
      "campo3: 84\n",
      "{'campo1': 71, 'campo2': 70, 'campo3': 33}\n",
      "campo1: 71\n",
      "campo2: 70\n",
      "campo3: 33\n",
      "{'campo1': 88, 'campo2': 64, 'campo3': 35}\n",
      "campo1: 88\n",
      "campo2: 64\n",
      "campo3: 35\n",
      "{'campo1': 39, 'campo2': 64, 'campo3': 56}\n",
      "campo1: 39\n",
      "campo2: 64\n",
      "campo3: 56\n",
      "{'campo1': 39, 'campo2': 68, 'campo3': 71}\n",
      "campo1: 39\n",
      "campo2: 68\n",
      "campo3: 71\n",
      "{'campo1': 77, 'campo2': 89, 'campo3': 96}\n",
      "campo1: 77\n",
      "campo2: 89\n",
      "campo3: 96\n",
      "{'campo1': 64, 'campo2': 69, 'campo3': 29}\n",
      "campo1: 64\n",
      "campo2: 69\n",
      "campo3: 29\n",
      "{'campo1': 100, 'campo2': 81, 'campo3': 66}\n",
      "campo1: 100\n",
      "campo2: 81\n",
      "campo3: 66\n",
      "{'campo1': 25, 'campo2': 97, 'campo3': 54}\n",
      "campo1: 25\n",
      "campo2: 97\n",
      "campo3: 54\n",
      "{'campo1': 18, 'campo2': 56, 'campo3': 6}\n",
      "campo1: 18\n",
      "campo2: 56\n",
      "campo3: 6\n"
     ]
    }
   ],
   "source": [
    "# leer un archivo en formato json\n",
    "\n",
    "import json\n",
    "\n",
    "with open('Datos_Clase_Ejercicios_04/archivo_json_de_prueba.json') as archivo_json:\n",
    "            for linea in json.load(archivo_json):\n",
    "                print(linea)\n",
    "                for campo, valor in linea.items():\n",
    "                    print(f'{campo}: {valor}')\n"
   ]
  },
  {
   "cell_type": "code",
   "execution_count": 10,
   "metadata": {},
   "outputs": [
    {
     "name": "stdout",
     "output_type": "stream",
     "text": [
      "campo1\n",
      "campo2\n",
      "campo3\n"
     ]
    }
   ],
   "source": [
    "dict={'campo1': 80, 'campo2': 52, 'campo3': 84}\n",
    "for iii in dict:\n",
    "    print(iii)"
   ]
  },
  {
   "cell_type": "code",
   "execution_count": 24,
   "metadata": {},
   "outputs": [
    {
     "data": {
      "text/plain": [
       "['Datos_Clase_Ejercicios_04\\\\Comentarios\\\\Comentario_1.txt']"
      ]
     },
     "execution_count": 24,
     "metadata": {},
     "output_type": "execute_result"
    }
   ],
   "source": [
    "\n",
    "import glob\n",
    "\n",
    "list(glob.glob('Datos_Clase_Ejercicios_04\\Comentarios\\*1*'))\n"
   ]
  },
  {
   "cell_type": "code",
   "execution_count": 11,
   "metadata": {},
   "outputs": [],
   "source": [
    "# Solución \n",
    "\n",
    "import json\n",
    "import glob\n",
    " \n",
    "def imprime_resumen_notas(nombre_directorio):\n",
    "    resumen_notas={}\n",
    "    for nombre_archivo in glob.glob(f'{nombre_directorio}/*.json'):\n",
    "        resumen_notas[nombre_archivo]={}\n",
    "\n",
    "        with open(nombre_archivo) as archivo_in:\n",
    "            for resultados in json.load(archivo_in):\n",
    "                for materia, nota in resultados.items():\n",
    "                    resumen_notas[nombre_archivo].setdefault(materia,[])\n",
    "                    resumen_notas[nombre_archivo][materia].append(nota)\n",
    "                    \n",
    "    for una_clase in resumen_notas:\n",
    "        print(una_clase)\n",
    "        for materia, notas_materia in resumen_notas[una_clase].items():\n",
    "            min_nota=min(notas_materia)\n",
    "            max_nota=max(notas_materia)\n",
    "            prom_nota=round((sum(notas_materia))/ len(notas_materia),1)\n",
    "            #print(materia)\n",
    "            print(f'\\t{materia}\\tmin: {min_nota}\\tmax: {max_nota}\\tprom: {prom_nota}')\n",
    "\n"
   ]
  },
  {
   "cell_type": "code",
   "execution_count": 12,
   "metadata": {},
   "outputs": [
    {
     "name": "stdout",
     "output_type": "stream",
     "text": [
      "Datos_Clase_Ejercicios_04\\Datos_notas\\4A.json\n",
      "\tMatematica\tmin: 135\tmax: 996\tprom: 545.5\n",
      "\tLenguaje\tmin: 114\tmax: 935\tprom: 476.4\n",
      "\tCiencias\tmin: 106\tmax: 939\tprom: 465.2\n",
      "Datos_Clase_Ejercicios_04\\Datos_notas\\4B.json\n",
      "\tMatematica\tmin: 110\tmax: 980\tprom: 526.9\n",
      "\tLenguaje\tmin: 109\tmax: 967\tprom: 578.2\n",
      "\tCiencias\tmin: 102\tmax: 992\tprom: 697.7\n",
      "Datos_Clase_Ejercicios_04\\Datos_notas\\4C.json\n",
      "\tMatematica\tmin: 149\tmax: 1000\tprom: 569.7\n",
      "\tLenguaje\tmin: 115\tmax: 974\tprom: 509.4\n",
      "\tCiencias\tmin: 138\tmax: 988\tprom: 614.7\n",
      "Datos_Clase_Ejercicios_04\\Datos_notas\\4D.json\n",
      "\tMatematica\tmin: 105\tmax: 986\tprom: 548.5\n",
      "\tLenguaje\tmin: 102\tmax: 992\tprom: 498.8\n",
      "\tCiencias\tmin: 137\tmax: 988\tprom: 559.3\n"
     ]
    }
   ],
   "source": [
    "imprime_resumen_notas('Datos_Clase_Ejercicios_04\\Datos_notas')\n"
   ]
  },
  {
   "cell_type": "markdown",
   "metadata": {},
   "source": [
    "## Ejercicio 7: \n",
    "\n",
    "Escriba una función que reciba el nombre de un archivo de entrada y de un archivo de salida. La función debe escribir en el archivo de salida cada linea del archivo de entrada invirtiendo el orden de las palabras y de las letras de cada palabra. Por ejemplo:\n",
    "\n",
    "Archivo de entrada:\n",
    "\n",
    "Me gusta el cine  \n",
    "Pero odio la tele\n",
    "\n",
    "Archivo de salida\n",
    "\n",
    "enic le atsug eM   \n",
    "elet al oido oreP\n",
    "\n"
   ]
  },
  {
   "cell_type": "code",
   "execution_count": null,
   "metadata": {},
   "outputs": [],
   "source": [
    "lineas=[]\n",
    "with open('Datos_Clase_15/archivo_de_prueba.txt') as archivo_in:\n",
    "    for linea in archivo_in:\n",
    "        print(linea.rstrip())\n",
    "        #print(linea())\n",
    "        lineas.append(linea.rstrip())\n",
    "\n",
    "lineas"
   ]
  },
  {
   "cell_type": "code",
   "execution_count": null,
   "metadata": {},
   "outputs": [],
   "source": [
    "with open('archivo_de_prueba_nuevo.txt', 'w') as archivo_out:\n",
    "    for linea in lineas:\n",
    "        archivo_out.write(linea)\n",
    "        #archivo_out.write(linea+'\\n')\n"
   ]
  },
  {
   "cell_type": "code",
   "execution_count": null,
   "metadata": {},
   "outputs": [],
   "source": [
    "# Solución\n",
    " \n",
    "def invierte_lineas(archivo_entrada, archivo_salida):\n",
    "    with open(archivo_entrada) as entrada, open(archivo_salida,'w') as salida:\n",
    "        for una_linea in entrada:\n",
    "            salida.write(una_linea.rstrip()[::-1]+'\\n')\n",
    "\n",
    "invierte_lineas('Datos_Clase_Ejercicios_04/archivo_de_prueba.txt','Datos_Clase_Ejercicios_04/archivo_de_prueba_2.txt')"
   ]
  }
 ],
 "metadata": {
  "kernelspec": {
   "display_name": "Python 3",
   "language": "python",
   "name": "python3"
  },
  "language_info": {
   "codemirror_mode": {
    "name": "ipython",
    "version": 3
   },
   "file_extension": ".py",
   "mimetype": "text/x-python",
   "name": "python",
   "nbconvert_exporter": "python",
   "pygments_lexer": "ipython3",
   "version": "3.10.12"
  }
 },
 "nbformat": 4,
 "nbformat_minor": 4
}
