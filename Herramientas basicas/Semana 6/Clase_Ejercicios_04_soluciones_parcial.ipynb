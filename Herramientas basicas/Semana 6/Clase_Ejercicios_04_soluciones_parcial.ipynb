{
 "cells": [
  {
   "cell_type": "markdown",
   "metadata": {},
   "source": [
    "# Herramientas básicas para el Análisis de Datos (IMA602)\n",
    "\n",
    "## Ejercicios sobre trabajo con archivos.\n"
   ]
  },
  {
   "cell_type": "markdown",
   "metadata": {},
   "source": [
    "## Ejercicio 1: \n",
    "\n",
    "Cree una función que extrae la última línea de un archivo. La función recibe el nombre del archivo como argumento y entrega la última linea en pantalla."
   ]
  },
  {
   "cell_type": "code",
   "execution_count": null,
   "metadata": {},
   "outputs": [],
   "source": [
    "# Solución\n",
    " \n",
    "\n",
    "def extrae_ultima_linea(archivo):\n",
    "    linea_final=''\n",
    "    for lineal_actual in open(archivo):\n",
    "        linea_final=lineal_actual\n",
    "    return linea_final\n",
    "\n",
    "#print(extrae_ultima_linea('archivo_de_prueba.txt'))\n"
   ]
  },
  {
   "cell_type": "markdown",
   "metadata": {},
   "source": [
    "## Ejercicio 2: \n",
    "\n",
    "Crear una función que reciba un archivo de password de tipo unix (/etc/passwd) y entregue un diccionario cuyas claves sean los nombres de usuario y los valores los ID de los usuarios. La función debe crear el diccionario utilizando compresión. (Obs: En los archivos /etc/passwd los nombres de usuarios ocupan el primer campo, con índice 0 y el ID el tercer campo, con índice 2)."
   ]
  },
  {
   "cell_type": "code",
   "execution_count": null,
   "metadata": {},
   "outputs": [],
   "source": [
    "# Solución\n",
    " \n",
    "def passwd_2_dict(nombre_archivo):\n",
    "    usuarios={}\n",
    "    with open(nombre_archivo) as passwd:\n",
    "        for linea in passwd:\n",
    "            if not linea.startswith(('#', '\\n')):\n",
    "                inf_usuario = linea.split(':')\n",
    "                usuarios[inf_usuario[0]] = int(inf_usuario[2])\n",
    "    return usuarios\n",
    "\n",
    "def passwd_2_dict_full_compresion(nombre_archivo):\n",
    "    with open(nombre_archivo) as passwd:\n",
    "        return {linea.split(':')[0] : int(linea.split(':')[2]) for linea in passwd if not linea.startswith(('#', '\\n'))}\n",
    "\n",
    "\n",
    "\"\"\" dict_resultado=passwd_2_dict('Datos_Clase_Ejercicios_04/passwd_file.txt')\n",
    "dict_resultado_compresion=passwd_2_dict_full_compresion('Datos_Clase_Ejercicios_04/passwd_file.txt')\n",
    "print(dict_resultado)\n",
    "print(dict_resultado_compresion)\n",
    "print(dict_resultado_compresion==dict_resultado) \"\"\"\n"
   ]
  },
  {
   "cell_type": "markdown",
   "metadata": {},
   "source": [
    "## Ejercicio 3: \n",
    "\n",
    "Cree una función resumen_de_archivo_texto() que recibe el nombre de un archivo de texto e imprime cuatro lineas, conteniendo la siguiente información:\n",
    "- Cantidad de caracteres(incluyendo espacios en blanco)\n",
    "- Cantidad de palabras (separadas por espacios en blanco)\n",
    "- Cantidad de lineas \n",
    "- Cantidad de palabras distintas (difenrenciando mayúsculas, o sea 'No' es diferente de 'no')"
   ]
  },
  {
   "cell_type": "code",
   "execution_count": null,
   "metadata": {},
   "outputs": [],
   "source": [
    "# Solución\n",
    "\n",
    "def resumen_de_archivo_texto(archivo):\n",
    "    contador={'caracteres':0, 'palabras':0, 'lineas':0}\n",
    "    palabras_diferentes = set()\n",
    "    for linea in open(archivo):\n",
    "        contador['caracteres'] += len(linea)\n",
    "        contador['palabras'] += len(linea.split())\n",
    "        contador['lineas'] += 1\n",
    "        palabras_diferentes.update(linea.split())\n",
    "    contador['nro_palabras_dif']=len(palabras_diferentes)\n",
    "    for key, value in contador.items():\n",
    "        print(f'{key}: {value}')\n",
    "\n",
    "#resumen_de_archivo_texto('Texto_de_prueba2.txt')"
   ]
  },
  {
   "cell_type": "markdown",
   "metadata": {},
   "source": [
    "## Ejercicio 4: \n",
    "\n",
    "Escriba dos funciones. La primera función *find_longest_word()* debe recibir como argumento el nombre de un archivo y retornar la palabra más larga del archivo. La segunda función *find_all_longest_words()* debe recibir el nombre de un directorio y retornar un dicionario, que tiene como claves los nombres de los archivos y como valores la palabras más larga del archivo."
   ]
  },
  {
   "cell_type": "code",
   "execution_count": null,
   "metadata": {},
   "outputs": [],
   "source": [
    "import os\n",
    "\n",
    "def find_longest_word(nombre_del_archivo):\n",
    "    mas_larga=''\n",
    "    for una_linea in open(nombre_del_archivo):\n",
    "        for una_palabra in una_linea.split():\n",
    "            if len(una_palabra)>len(mas_larga):\n",
    "                mas_larga=una_palabra\n",
    "    return mas_larga\n",
    "\n",
    "find_longest_word('Datos_Clase_Ejercicios_04\\Comentarios\\Comentario_1.txt')"
   ]
  },
  {
   "cell_type": "code",
   "execution_count": null,
   "metadata": {},
   "outputs": [],
   "source": [
    "import os\n",
    "\n",
    "for file in os.listdir('Datos_Clase_Ejercicios_04\\Comentarios'):\n",
    "    str1= os.path.join('Datos_Clase_Ejercicios_04\\Comentarios', file)\n",
    "    str2= ' es un archivo.' if os.path.isfile(str1) else ' no es un archivo.'\n",
    "    print(str1+str2)"
   ]
  },
  {
   "cell_type": "code",
   "execution_count": null,
   "metadata": {},
   "outputs": [],
   "source": [
    "def find_all_longest_words(nombre_del_directorio):\n",
    "\n",
    "    return {nombre_del_archivo: find_longest_word(\n",
    "        os.path.join(nombre_del_directorio, nombre_del_archivo)) \\\n",
    "        for nombre_del_archivo in os.listdir(nombre_del_directorio) \\\n",
    "        if os.path.isfile(os.path.join(nombre_del_directorio, nombre_del_archivo))}\n",
    "\n",
    "find_all_longest_words('Datos_Clase_Ejercicios_04\\Comentarios')"
   ]
  },
  {
   "cell_type": "markdown",
   "metadata": {},
   "source": [
    "## Ejercicio 5: \n",
    "\n",
    "Crear una función *passwd_2_csv()* que recibe dos no,bres de archivos como argumentos. El primer archivo es de estilo passwords (para leer) y el segundo es el archivo para escribir la salida. El archivo de salida debe contener en cada linea el nombre del usuario (índice 0) y el ID (índice 2) separados por tab."
   ]
  },
  {
   "cell_type": "code",
   "execution_count": null,
   "metadata": {},
   "outputs": [],
   "source": [
    "# Escribir en un csv\n",
    "\n",
    "import csv \n",
    "\n",
    "with open('archivo.csv','w',newline='') as f:\n",
    "    o=csv.writer(f, delimiter='*')\n",
    "    o.writerow(range(5))\n",
    "    o.writerow(['a','b','c','d','e'])\n",
    "    "
   ]
  },
  {
   "cell_type": "code",
   "execution_count": null,
   "metadata": {},
   "outputs": [],
   "source": [
    "# Solución\n",
    "\n",
    "import csv \n",
    "\n",
    "def passwd_2_csv(archivo_passwd, archivo_csv):\n",
    "    with open(archivo_passwd) as passwd:\n",
    "        with open(archivo_csv,'w',newline='') as salida:\n",
    "            linea_in=csv.reader(passwd,delimiter=':')\n",
    "            linea_out=csv.writer(salida, delimiter='\\t')\n",
    "            for registro in linea_in:\n",
    "                if len(registro) > 1:\n",
    "                    linea_out.writerow((registro[0],registro[2]))\n",
    "\n",
    "passwd_2_csv('Datos_Clase_Ejercicios_04\\passwd_file.txt','Datos_Clase_Ejercicios_04\\passwd_file_output.csv')"
   ]
  },
  {
   "cell_type": "markdown",
   "metadata": {},
   "source": [
    "## Ejercicio 6: \n",
    "\n",
    "En un directorio llamado 'Datos_notas' se encuentran las notas de varios cursos en en algunas materias. Para cada curso hay un archivo en formato json con las notas. Cree una función *imprime_resumen_notas()* que recibe el nombre del directorio e imprime un resumen de las notas de todos los cursos. Para cada curso se debe imprimir una primera linea con el nombre del archivo del curso, después para cada materia se debe imprimir una linea aparte que contenga los siguientes datos separados por tab: nota minima, nota máxima y promedio. (Hint: Utilizas las librerias glob y json)\n",
    "\n",
    "    Por ejemplo: \n",
    "\n",
    "        Datos_notas/8C.json\n",
    "            Matemática  min: 560    max: 973    prom: 780.5\n",
    "            Ciencias    min: 400    max: 753    prom: 543.8\n",
    "        Datos_notas/8E.json\n",
    "            Matemática  min: 610    max: 883    prom: 804.2\n",
    "            Ciencias    min: 502    max: 940    prom: 672.6"
   ]
  },
  {
   "cell_type": "code",
   "execution_count": null,
   "metadata": {},
   "outputs": [],
   "source": [
    "# leer un archivo en formato json\n",
    "\n",
    "import json\n",
    "\n",
    "with open('Datos_Clase_Ejercicios_04/archivo_json_de_prueba.json') as archivo_json:\n",
    "            for linea in json.load(archivo_json):\n",
    "                print(linea)\n",
    "                for campo, valor in linea.items():\n",
    "                    print(f'{campo}: {valor}')\n"
   ]
  },
  {
   "cell_type": "code",
   "execution_count": null,
   "metadata": {},
   "outputs": [],
   "source": [
    "\n",
    "import glob\n",
    "\n",
    "list(glob.glob('Datos_Clase_Ejercicios_04\\Comentarios\\*1*'))\n"
   ]
  },
  {
   "cell_type": "code",
   "execution_count": null,
   "metadata": {},
   "outputs": [],
   "source": [
    "# Solución \n",
    "\n"
   ]
  },
  {
   "cell_type": "markdown",
   "metadata": {},
   "source": [
    "## Ejercicio 7: \n",
    "\n",
    "Escriba una función que reciba el nombre de un archivo de entrada y de un archivo de salida. La función debe escribir en el archivo de salida cada linea del archivo de entrada invirtiendo el orden de las palabras y de las letras de cada palabra. Por ejemplo:\n",
    "\n",
    "Archivo de entrada:\n",
    "\n",
    "Me gusta el cine  \n",
    "Pero odio la tele\n",
    "\n",
    "Archivo de salida\n",
    "\n",
    "enic le atsug eM   \n",
    "elet al oido oreP\n",
    "\n"
   ]
  },
  {
   "cell_type": "code",
   "execution_count": null,
   "metadata": {},
   "outputs": [],
   "source": [
    "lineas=[]\n",
    "with open('Datos_Clase_15/archivo_de_prueba.txt') as archivo_in:\n",
    "    for linea in archivo_in:\n",
    "        print(linea.rstrip())\n",
    "        #print(linea())\n",
    "        lineas.append(linea.rstrip())\n",
    "\n",
    "lineas"
   ]
  },
  {
   "cell_type": "code",
   "execution_count": null,
   "metadata": {},
   "outputs": [],
   "source": [
    "with open('archivo_de_prueba_nuevo.txt', 'w') as archivo_out:\n",
    "    for linea in lineas:\n",
    "        archivo_out.write(linea)\n",
    "        #archivo_out.write(linea+'\\n')\n"
   ]
  },
  {
   "cell_type": "code",
   "execution_count": null,
   "metadata": {},
   "outputs": [],
   "source": [
    "# Solución\n",
    " \n",
    "def invierte_lineas(archivo_entrada, archivo_salida):\n",
    "    with open(archivo_entrada) as entrada, open(archivo_salida,'w') as salida:\n",
    "        for una_linea in entrada:\n",
    "            salida.write(una_linea.rstrip()[::-1]+'\\n')\n",
    "\n",
    "invierte_lineas('Datos_Clase_Ejercicios_04/archivo_de_prueba.txt','Datos_Clase_Ejercicios_04/archivo_de_prueba_2.txt')"
   ]
  }
 ],
 "metadata": {
  "kernelspec": {
   "display_name": "Python 3",
   "language": "python",
   "name": "python3"
  },
  "language_info": {
   "codemirror_mode": {
    "name": "ipython",
    "version": 3
   },
   "file_extension": ".py",
   "mimetype": "text/x-python",
   "name": "python",
   "nbconvert_exporter": "python",
   "pygments_lexer": "ipython3",
   "version": "3.9.19"
  }
 },
 "nbformat": 4,
 "nbformat_minor": 4
}
