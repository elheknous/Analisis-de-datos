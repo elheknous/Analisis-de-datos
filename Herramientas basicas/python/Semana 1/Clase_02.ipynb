{
 "cells": [
  {
   "cell_type": "markdown",
   "id": "dbc76ea6",
   "metadata": {},
   "source": [
    "# Clase 2 IMA602\n",
    "\n",
    "* **Walter Gómez Bofill**\n",
    "\n",
    "\n",
    "* **Minor Análisis de Datos**\n",
    "\n",
    "\n",
    "* **Primer semestre de 2024**\n",
    "\n",
    "En particular, cubriremos los siguientes temas:\n",
    "* String\n",
    "* Listas\n",
    "* Tuplas\n",
    "* Diccionarios\n",
    "* Conjuntos\n",
    "\n",
    "## Strings"
   ]
  },
  {
   "cell_type": "code",
   "execution_count": null,
   "id": "98154658",
   "metadata": {},
   "outputs": [],
   "source": [
    "carrera = 'Ingeniería Civil Matemática'\n",
    "facultad = \"Ingeniería y Ciencias\"\n",
    "\n",
    "print(carrera)\n",
    "print(facultad)"
   ]
  },
  {
   "cell_type": "code",
   "execution_count": null,
   "id": "c309d9ae",
   "metadata": {},
   "outputs": [],
   "source": [
    "universidad = \"\"\"Universidad de \n",
    "La Frontera\"\"\"\n",
    "\n",
    "print(universidad)"
   ]
  },
  {
   "cell_type": "code",
   "execution_count": null,
   "id": "82da0842",
   "metadata": {},
   "outputs": [],
   "source": [
    "print('Temperatura:\\t20\\tC\\nPresión:\\t5\\tPa')"
   ]
  },
  {
   "cell_type": "code",
   "execution_count": null,
   "id": "aa3e384b",
   "metadata": {},
   "outputs": [],
   "source": [
    "print(carrera[0])\n",
    "print(carrera[1])\n",
    "print(carrera[2])"
   ]
  },
  {
   "cell_type": "code",
   "execution_count": null,
   "id": "08222387",
   "metadata": {},
   "outputs": [],
   "source": [
    "print(carrera[-1])\n",
    "print(carrera[-2])"
   ]
  },
  {
   "cell_type": "code",
   "execution_count": null,
   "id": "db9e2d9f",
   "metadata": {},
   "outputs": [],
   "source": [
    "print(carrera[-10:])"
   ]
  },
  {
   "cell_type": "code",
   "execution_count": null,
   "id": "430c7f46",
   "metadata": {},
   "outputs": [],
   "source": [
    "carrera[1] = 'N'"
   ]
  },
  {
   "cell_type": "markdown",
   "id": "cdd92f22",
   "metadata": {},
   "source": [
    "### Operaciones y métodos más importantes de los Strings"
   ]
  },
  {
   "cell_type": "code",
   "execution_count": null,
   "id": "02fa05e4",
   "metadata": {},
   "outputs": [],
   "source": [
    "last_name = 'Cantor'\n",
    "first_name = 'Georg'\n",
    "full_name = first_name + ' ' + last_name\n",
    "full_name"
   ]
  },
  {
   "cell_type": "code",
   "execution_count": null,
   "id": "4a1bf91b",
   "metadata": {},
   "outputs": [],
   "source": [
    "5 * 'Yo'"
   ]
  },
  {
   "cell_type": "code",
   "execution_count": null,
   "id": "8e5d0e33",
   "metadata": {},
   "outputs": [],
   "source": [
    "'ANNA' == 'anna'"
   ]
  },
  {
   "cell_type": "code",
   "execution_count": null,
   "id": "8480e2f1",
   "metadata": {},
   "outputs": [],
   "source": [
    "'ANNA' < 'anna'"
   ]
  },
  {
   "cell_type": "code",
   "execution_count": null,
   "id": "091bf91d",
   "metadata": {},
   "outputs": [],
   "source": [
    "'ANNA' <= 'anna'"
   ]
  },
  {
   "cell_type": "markdown",
   "id": "7f08f3a9",
   "metadata": {},
   "source": [
    "**Tarea: Revisar las operaciones de comparación con Strings**"
   ]
  },
  {
   "cell_type": "code",
   "execution_count": null,
   "id": "a0bcf4d0",
   "metadata": {},
   "outputs": [],
   "source": [
    "text = 'quod erat demonstrandum'\n",
    "text.split()"
   ]
  },
  {
   "cell_type": "code",
   "execution_count": null,
   "id": "acb09dd2",
   "metadata": {},
   "outputs": [],
   "source": [
    "table = 'Alan;Turing;23 de junio de 1912'\n",
    "table.split(';')"
   ]
  },
  {
   "cell_type": "code",
   "execution_count": null,
   "id": "194ac361",
   "metadata": {},
   "outputs": [],
   "source": [
    "date = '23 de junio de 1912'\n",
    "date.split('de')"
   ]
  },
  {
   "cell_type": "code",
   "execution_count": null,
   "id": "075c0c4d",
   "metadata": {},
   "outputs": [],
   "source": [
    "sep = ';'\n",
    "sep.join(['Alan','Turing','23 de junio de 1912'])"
   ]
  },
  {
   "cell_type": "code",
   "execution_count": 1,
   "id": "11b6b8ff",
   "metadata": {},
   "outputs": [
    {
     "name": "stdout",
     "output_type": "stream",
     "text": [
      "El código del curso es IMA602\n",
      "El código del curso es IMA602\n"
     ]
    }
   ],
   "source": [
    "course_code = \"IMA602\"\n",
    "print(\"El código del curso es {}\".format(course_code))\n",
    "print(f'El código del curso es {course_code}')"
   ]
  },
  {
   "cell_type": "markdown",
   "id": "f9ca490b",
   "metadata": {},
   "source": [
    "\n",
    "## Listas\n",
    "\n",
    "En esta sección presentamos las listas, el tipo de datos contenedor más utilizado en Python. Con las listas, podemos referirnos a varios objetos de Python, incluso totalmente diferentes, juntos.\n",
    "\n",
    "Una lista es, como su nombre indica, una lista de objetos de cualquier tipo:"
   ]
  },
  {
   "cell_type": "code",
   "execution_count": null,
   "id": "ac5c28a3",
   "metadata": {},
   "outputs": [],
   "source": [
    "L = ['a', 20.0, 5]\n",
    "print(L)\n"
   ]
  },
  {
   "cell_type": "code",
   "execution_count": null,
   "id": "0657872e",
   "metadata": {},
   "outputs": [],
   "source": [
    "M = [3,['a', -3.0, 5],2.0,L]\n",
    "print(M)"
   ]
  },
  {
   "cell_type": "markdown",
   "id": "96c96157",
   "metadata": {},
   "source": [
    "La primera lista de este ejemplo contiene una cadena, un float y un objeto entero. La segunda lista de este ejemplo, M, contiene otra lista como segundo elemento. \n",
    "\n",
    "Los objetos individuales se enumeran asignando a cada elemento un índice. El primer elemento de la lista recibe el índice 0. \n",
    "\n",
    "El índice nos permite acceder a los siguientes objetos de las dos listas definidas en el ejemplo anterior:"
   ]
  },
  {
   "cell_type": "code",
   "execution_count": null,
   "id": "b2e7d669",
   "metadata": {},
   "outputs": [],
   "source": [
    "L[1] # returns 20.0"
   ]
  },
  {
   "cell_type": "code",
   "execution_count": null,
   "id": "cdb30a5d",
   "metadata": {},
   "outputs": [],
   "source": [
    "L[0] # returns 'a'"
   ]
  },
  {
   "cell_type": "code",
   "execution_count": null,
   "id": "69152384",
   "metadata": {},
   "outputs": [],
   "source": [
    "M[1] # returns ['a',-3.0,5]"
   ]
  },
  {
   "cell_type": "code",
   "execution_count": null,
   "id": "e7808f55",
   "metadata": {},
   "outputs": [],
   "source": [
    "M[1][2] # returns 5\n"
   ]
  },
  {
   "cell_type": "markdown",
   "id": "60082d94",
   "metadata": {},
   "source": [
    "La notación de corchetes corresponde aquí al uso de subíndices en las fórmulas matemáticas. L es una lista simple, mientras que M contiene a su vez una lista, de modo que se necesitan dos índices para acceder a un elemento de la lista interior.\n",
    "\n",
    "Una lista que contenga números enteros subsiguientes puede generarse fácilmente mediante el comando rango:"
   ]
  },
  {
   "cell_type": "code",
   "execution_count": null,
   "id": "406bddb1",
   "metadata": {},
   "outputs": [],
   "source": [
    "L=list(range(4)) \n",
    "# generates a list with four elements: [0, 1, 2 ,3]\n",
    "L"
   ]
  },
  {
   "cell_type": "markdown",
   "id": "10999147",
   "metadata": {},
   "source": [
    "Un uso más general es proporcionar este comando con parámetros de inicio, parada y paso:"
   ]
  },
  {
   "cell_type": "code",
   "execution_count": null,
   "id": "277889f7",
   "metadata": {},
   "outputs": [],
   "source": [
    "L=list(range(17,29,4))  \n",
    "# generates [17, 21, 25]\n",
    "L"
   ]
  },
  {
   "cell_type": "markdown",
   "id": "6cc0dd28",
   "metadata": {},
   "source": [
    "El comando **len** devuelve la longitud de la lista:"
   ]
  },
  {
   "cell_type": "code",
   "execution_count": null,
   "id": "e53edf7b",
   "metadata": {},
   "outputs": [],
   "source": [
    "len(L)"
   ]
  },
  {
   "cell_type": "code",
   "execution_count": null,
   "id": "d4af1aff",
   "metadata": {},
   "outputs": [],
   "source": [
    "len(M)"
   ]
  },
  {
   "cell_type": "markdown",
   "id": "6aac1769",
   "metadata": {},
   "source": [
    "## Slicing\n",
    "\n",
    "Al cortar una lista entre **i** y **j** se crea una nueva lista que contiene los elementos que empiezan en el índice **i** y terminan justo antes de **j**.\n",
    "\n",
    "Para cortar en rodajas, hay que dar un rango de índices. $L[i:j]$ significa crear una lista tomando todos los elementos de L empezando por $L[i]$ hasta $L[j-1]$. En otras palabras, la nueva lista se obtiene eliminando los primeros elementos **i** de L y tomando los siguientes elementos **j-i** (para $0\\leq i <j$) .\n",
    "\n",
    "Aquí, $L[i:]$ significa eliminar los primeros elementos y $L[:i$] significa tomar sólo los primeros **i** elementos:"
   ]
  },
  {
   "cell_type": "code",
   "execution_count": null,
   "id": "13ceff97",
   "metadata": {},
   "outputs": [],
   "source": [
    "L = ['C', 'l', 'o', 'u', 'd', 's']\n",
    "L[1:5] # remove one element and take four from there:\n",
    "# returns ['l', 'o', 'u', 'd']"
   ]
  },
  {
   "cell_type": "markdown",
   "id": "e616a119",
   "metadata": {},
   "source": [
    "Puede omitir el primer o el último tramo del corte:"
   ]
  },
  {
   "cell_type": "code",
   "execution_count": null,
   "id": "f658d610",
   "metadata": {},
   "outputs": [],
   "source": [
    "L[1:] # ['l', 'o', 'u', 'd', 's']"
   ]
  },
  {
   "cell_type": "code",
   "execution_count": null,
   "id": "63ae6c15",
   "metadata": {},
   "outputs": [],
   "source": [
    "L[:5] # ['C', 'l', 'o', 'u', 'd']"
   ]
  },
  {
   "cell_type": "code",
   "execution_count": null,
   "id": "b5d433ce",
   "metadata": {},
   "outputs": [],
   "source": [
    "L[:] # the entire list"
   ]
  },
  {
   "cell_type": "markdown",
   "id": "cdbd618c",
   "metadata": {},
   "source": [
    "Python permite el uso de índices negativos para contar desde la derecha. En particular, el elemento $L[-1]$ es el último elemento de la lista L. Del mismo modo, $L[:-i]$ significa eliminar los últimos **i** elementos, y $L[-i:]$ significa tomar sólo los últimos **i** elementos. Esto puede combinarse en $L[i:-j]$ para eliminar los primeros **i** y los últimos **j** elementos. \n",
    "\n",
    "He aquí un ejemplo:"
   ]
  },
  {
   "cell_type": "code",
   "execution_count": null,
   "id": "750c2998",
   "metadata": {},
   "outputs": [],
   "source": [
    "L = ['C', 'l', 'o', 'u', 'd', 's']"
   ]
  },
  {
   "cell_type": "code",
   "execution_count": null,
   "id": "8208dbbe",
   "metadata": {},
   "outputs": [],
   "source": [
    "L[-2:] # ['d', 's']"
   ]
  },
  {
   "cell_type": "code",
   "execution_count": null,
   "id": "54b9fd24",
   "metadata": {},
   "outputs": [],
   "source": [
    "L[:-2] # ['C', 'l', 'o', 'u']"
   ]
  },
  {
   "cell_type": "markdown",
   "id": "1f1fd411",
   "metadata": {},
   "source": [
    "La omisión de un índice en el rango corresponde a intervalos semiabiertos en $\\mathbb{R}$. El intervalo semiabierto $(-\\infty,\\ a)$ significa tomar todos los números estrictamente menores que a; esto es similar a la sintaxis $L[:j]$; véase la Figura 3.1 para más ejemplos:"
   ]
  },
  {
   "cell_type": "code",
   "execution_count": 2,
   "id": "dfb2975e",
   "metadata": {},
   "outputs": [
    {
     "data": {
      "image/png": "[encoded data removed]",
      "text/plain": [
       "<IPython.core.display.Image object>"
      ]
     },
     "execution_count": 2,
     "metadata": {
      "image/png": {
       "width": 300
      }
     },
     "output_type": "execute_result"
    }
   ],
   "source": [
    "from IPython.display import Image\n",
    "Image(filename=r'Imagenes_Clase_02/03_01.png', width=300)"
   ]
  },
  {
   "cell_type": "markdown",
   "id": "ffbc763e",
   "metadata": {},
   "source": [
    "Observe que nunca se obtienen errores de índice con rodajas fuera de la zona. Posiblemente, puede obtener listas vacías:"
   ]
  },
  {
   "cell_type": "code",
   "execution_count": null,
   "id": "82338772",
   "metadata": {},
   "outputs": [],
   "source": [
    "L = list(range(4)) # [0, 1, 2, 3]\n",
    "L[4] # IndexError: list index out of range "
   ]
  },
  {
   "cell_type": "code",
   "execution_count": null,
   "id": "f4d3076e",
   "metadata": {},
   "outputs": [],
   "source": [
    "print(L)\n",
    "L[1:100] # same as L[1:]\n"
   ]
  },
  {
   "cell_type": "code",
   "execution_count": null,
   "id": "1a507a8c",
   "metadata": {},
   "outputs": [],
   "source": [
    "L[-100:-1] # same as L[:-1]"
   ]
  },
  {
   "cell_type": "code",
   "execution_count": null,
   "id": "d412cbee",
   "metadata": {},
   "outputs": [],
   "source": [
    "L[-100:100] # same as L[:]"
   ]
  },
  {
   "cell_type": "code",
   "execution_count": null,
   "id": "fbefcf46",
   "metadata": {},
   "outputs": [],
   "source": [
    "L[5:0] # empty list []\n"
   ]
  },
  {
   "cell_type": "code",
   "execution_count": null,
   "id": "5a0db84f",
   "metadata": {},
   "outputs": [],
   "source": [
    "L[-2:2] # empty list []"
   ]
  },
  {
   "cell_type": "markdown",
   "id": "0cdcc995",
   "metadata": {},
   "source": [
    "Resumamos el uso del Slicing:\n",
    "* $L[i:]$ equivale a tomar todos los elementos excepto los primeros i.\n",
    "* $L[:i]$ equivale a tomar los primeros i elementos.\n",
    "* $L[-i:]$ equivale a tomar los últimos i elementos.\n",
    "* $L[:-i]$ equivale a tomar todos los elementos excepto los últimos i.\n",
    "\n",
    "**Tarea: Revisar las operaciones con listas $(+,-,*, comparaciones)$**\n"
   ]
  },
  {
   "cell_type": "markdown",
   "id": "4bb42043",
   "metadata": {},
   "source": [
    "## Strides\n",
    "\n",
    "Cuando se calculan los cortes (slices), también se puede especificar un stride, que es la longitud del paso de un índice a otro. El paso por defecto es 1. \n",
    "\n",
    "He aquí un ejemplo:"
   ]
  },
  {
   "cell_type": "code",
   "execution_count": null,
   "id": "af10f4d3",
   "metadata": {},
   "outputs": [],
   "source": [
    "L = list(range(100))\n",
    "L"
   ]
  },
  {
   "cell_type": "code",
   "execution_count": null,
   "id": "150ccf42",
   "metadata": {},
   "outputs": [],
   "source": [
    "L[:10:2] # [0, 2, 4, 6, 8]"
   ]
  },
  {
   "cell_type": "code",
   "execution_count": null,
   "id": "e1d8aa6c",
   "metadata": {},
   "outputs": [],
   "source": [
    "L[::20] # [0, 20, 40, 60, 80]"
   ]
  },
  {
   "cell_type": "code",
   "execution_count": null,
   "id": "b00a9f9b",
   "metadata": {},
   "outputs": [],
   "source": [
    "L[10:20:3] # [10, 13, 16, 19]\n"
   ]
  },
  {
   "cell_type": "markdown",
   "id": "eb78f122",
   "metadata": {},
   "source": [
    "Tenga en cuenta que la zancada también puede ser negativa:"
   ]
  },
  {
   "cell_type": "code",
   "execution_count": null,
   "id": "f9dccc93",
   "metadata": {},
   "outputs": [],
   "source": [
    "L[20:10:-3] # [20, 17, 14, 11]"
   ]
  },
  {
   "cell_type": "markdown",
   "id": "033cdf45",
   "metadata": {},
   "source": [
    "También es posible crear una nueva lista invertida, utilizando una zancada negativa:"
   ]
  },
  {
   "cell_type": "code",
   "execution_count": null,
   "id": "079870fa",
   "metadata": {},
   "outputs": [],
   "source": [
    "L = [1, 2, 3]\n",
    "R = L[::-1] # L is not modified\n",
    "R"
   ]
  },
  {
   "cell_type": "markdown",
   "id": "45cc9110",
   "metadata": {},
   "source": [
    "## Métodos de lista\n",
    "\n",
    "En la siguiente tabla se recogen algunos métodos útiles de tipo lista:"
   ]
  },
  {
   "cell_type": "code",
   "execution_count": 3,
   "id": "dee8627f",
   "metadata": {},
   "outputs": [
    {
     "data": {
      "image/png": "[encoded data removed]",
      "text/plain": [
       "<IPython.core.display.Image object>"
      ]
     },
     "execution_count": 3,
     "metadata": {
      "image/png": {
       "width": 700
      }
     },
     "output_type": "execute_result"
    }
   ],
   "source": [
    "Image(filename=r'Imagenes_Clase_02/03_02.png', width=700)"
   ]
  },
  {
   "cell_type": "markdown",
   "id": "7f3e7311",
   "metadata": {},
   "source": [
    "Estos métodos son operaciones in-place, es decir, modifican la lista directamente.\n",
    "\n",
    "Otros métodos, como los indicados en la tabla, no modifican la lista, sino que devuelven alguna información o crean un nuevo objeto de lista:"
   ]
  },
  {
   "cell_type": "code",
   "execution_count": 4,
   "id": "4939a421",
   "metadata": {},
   "outputs": [
    {
     "data": {
      "image/png": "[encoded data removed]",
      "text/plain": [
       "<IPython.core.display.Image object>"
      ]
     },
     "execution_count": 4,
     "metadata": {
      "image/png": {
       "width": 700
      }
     },
     "output_type": "execute_result"
    }
   ],
   "source": [
    "Image(filename=r'Imagenes_Clase_02/03_03.png', width=700)"
   ]
  },
  {
   "cell_type": "markdown",
   "id": "b346caeb",
   "metadata": {},
   "source": [
    "### Operaciones In-place\n",
    "\n",
    "La mayoría de los métodos que dan lugar a una lista son operaciones in-place. Son operaciones que cambian un objeto de Python directamente sin crear un nuevo objeto del mismo tipo. La mejor manera de explicarlas es viendo el siguiente ejemplo, a la inversa:"
   ]
  },
  {
   "cell_type": "code",
   "execution_count": null,
   "id": "74925b2c",
   "metadata": {},
   "outputs": [],
   "source": [
    "L = [1, 2, 3]\n",
    "L.reverse() # the list L is now reversed\n",
    "L # [3, 2, 1]"
   ]
  },
  {
   "cell_type": "markdown",
   "id": "a862c9a1",
   "metadata": {},
   "source": [
    "Tenga en cuenta las operaciones in-place. Podrías tener la tentación de escribir:"
   ]
  },
  {
   "cell_type": "code",
   "execution_count": null,
   "id": "d25d111b",
   "metadata": {},
   "outputs": [],
   "source": [
    "L=[3, 4, 4, 5]\n",
    "newL = L.sort()"
   ]
  },
  {
   "cell_type": "markdown",
   "id": "0deac705",
   "metadata": {},
   "source": [
    "Esto es correcto en Python. Pero las operaciones in-place devuelven el valor **None** y alteran la lista. Por lo tanto, usar la variable newL como si fuera una lista (ordenada), por ejemplo, como"
   ]
  },
  {
   "cell_type": "code",
   "execution_count": null,
   "id": "2ea6530e",
   "metadata": {},
   "outputs": [],
   "source": [
    "print(newL[0])"
   ]
  },
  {
   "cell_type": "code",
   "execution_count": null,
   "id": "814e9afd",
   "metadata": {},
   "outputs": [],
   "source": [
    "print(newL)"
   ]
  },
  {
   "cell_type": "markdown",
   "id": "af8164d4",
   "metadata": {},
   "source": [
    "Aquí, demostramos las operaciones de lista en el lugar:"
   ]
  },
  {
   "cell_type": "code",
   "execution_count": null,
   "id": "a70138a3",
   "metadata": {},
   "outputs": [],
   "source": [
    "L = [0, 2, 8, 6 , 10]\n",
    "L.append(5) \n",
    "L"
   ]
  },
  {
   "cell_type": "code",
   "execution_count": null,
   "id": "b5065d92",
   "metadata": {},
   "outputs": [],
   "source": [
    "L.reverse() \n",
    "L"
   ]
  },
  {
   "cell_type": "code",
   "execution_count": null,
   "id": "0c8da279",
   "metadata": {},
   "outputs": [],
   "source": [
    "L.sort() \n",
    "L"
   ]
  },
  {
   "cell_type": "code",
   "execution_count": null,
   "id": "eea95ec3",
   "metadata": {},
   "outputs": [],
   "source": [
    "L.remove(10) \n",
    "L"
   ]
  },
  {
   "cell_type": "code",
   "execution_count": null,
   "id": "8c0a2d80",
   "metadata": {},
   "outputs": [],
   "source": [
    "L.pop() \n",
    "L"
   ]
  },
  {
   "cell_type": "code",
   "execution_count": null,
   "id": "b6c5b07e",
   "metadata": {},
   "outputs": [],
   "source": [
    "L.pop()\n",
    "L "
   ]
  },
  {
   "cell_type": "code",
   "execution_count": null,
   "id": "7dcccbc5",
   "metadata": {},
   "outputs": [],
   "source": [
    "L.extend(['a','b','c']) \n",
    "L"
   ]
  },
  {
   "cell_type": "code",
   "execution_count": null,
   "id": "2211615d",
   "metadata": {},
   "outputs": [],
   "source": [
    "L.insert(3,[1,2])\n",
    "L"
   ]
  },
  {
   "cell_type": "markdown",
   "id": "630b46a0",
   "metadata": {},
   "source": [
    "L se altera. El método count es un ejemplo de método que genera un nuevo objeto:"
   ]
  },
  {
   "cell_type": "code",
   "execution_count": null,
   "id": "e413bcf7",
   "metadata": {},
   "outputs": [],
   "source": [
    "L.count(2) # returns 1"
   ]
  },
  {
   "cell_type": "code",
   "execution_count": null,
   "id": "a967abd5",
   "metadata": {},
   "outputs": [],
   "source": [
    "Q=L\n",
    "Q[0]=33\n",
    "Q"
   ]
  },
  {
   "cell_type": "code",
   "execution_count": null,
   "id": "4cfaaf12",
   "metadata": {},
   "outputs": [],
   "source": [
    "L"
   ]
  },
  {
   "cell_type": "code",
   "execution_count": null,
   "id": "4c9586ea",
   "metadata": {},
   "outputs": [],
   "source": [
    "Q=L.copy()\n",
    "Q[0]=99\n",
    "print(L)\n",
    "print(Q)"
   ]
  },
  {
   "cell_type": "markdown",
   "id": "1e539a72",
   "metadata": {},
   "source": [
    "## Comprensión de listas\n",
    "\n",
    "Una forma conveniente de construir listas es utilizando la construcción de comprensión de lista, posiblemente con una condición dentro. La sintaxis de una comprensión de lista es:\n",
    "\n",
    "    [<expr> for <variable> in <list>]\n",
    "    \n",
    "o más generalmente:\n",
    "\n",
    "    [<expr> for <variable> in <list> if <condition>]\n",
    "    \n",
    "He aquí algunos ejemplos:"
   ]
  },
  {
   "cell_type": "code",
   "execution_count": null,
   "id": "56b92a74",
   "metadata": {},
   "outputs": [],
   "source": [
    "L = [2, 3, 10, 1, 5]\n",
    "#L = [2, 3, 10, 1, 5, [1,2]]\n",
    "L2 = [x*2 for x in L] # [4, 6, 20, 2, 10]\n",
    "# no es equivalente a L2=2*L\n",
    "L2"
   ]
  },
  {
   "cell_type": "code",
   "execution_count": null,
   "id": "a2625044",
   "metadata": {},
   "outputs": [],
   "source": [
    "L = [2, 3, 10, 1, 5]\n",
    "L3 = [x*2 for x in L if 4 < x <= 10] # [20, 10]\n",
    "L3"
   ]
  },
  {
   "cell_type": "markdown",
   "id": "e09fe8f6",
   "metadata": {},
   "source": [
    "\n",
    "\n",
    "# Tuples\n",
    "\n",
    "Una tupla es una lista inmutable. Inmutable significa que no puede ser modificada. Una tupla se escribe como una secuencia de objetos separados por comas (una lista sin paréntesis). Para aumentar la legibilidad, a menudo se encierra una tupla entre un par de paréntesis:"
   ]
  },
  {
   "cell_type": "code",
   "execution_count": null,
   "id": "3c756426",
   "metadata": {},
   "outputs": [],
   "source": [
    "my_tuple = 1, 2, 3     # our first tuple\n",
    "my_tuple = (1, 2, 3)   # the same\n",
    "my_tuple = 1, 2, 3,    # again the same\n",
    "my_tuple"
   ]
  },
  {
   "cell_type": "code",
   "execution_count": null,
   "id": "7a347a34",
   "metadata": {},
   "outputs": [],
   "source": [
    "len(my_tuple) # 3, same as for lists"
   ]
  },
  {
   "cell_type": "code",
   "execution_count": null,
   "id": "ff46b213",
   "metadata": {},
   "outputs": [],
   "source": [
    "my_tuple[0] = 'a'   # error! tuples are immutable"
   ]
  },
  {
   "cell_type": "markdown",
   "id": "c375da34",
   "metadata": {},
   "source": [
    "Omitir los paréntesis puede tener efectos secundarios; véase el siguiente ejemplo:"
   ]
  },
  {
   "cell_type": "code",
   "execution_count": null,
   "id": "91e8fb1b",
   "metadata": {},
   "outputs": [],
   "source": [
    "1, 2 == 3, 4 # returns (1, False, 4) "
   ]
  },
  {
   "cell_type": "code",
   "execution_count": null,
   "id": "7afcd1ca",
   "metadata": {},
   "outputs": [],
   "source": [
    "(1, 2) == (3, 4) # returns False"
   ]
  },
  {
   "cell_type": "markdown",
   "id": "39ecb8d9",
   "metadata": {},
   "source": [
    "Las tuplas son útiles cuando un grupo de valores van juntos; por ejemplo, se utilizan para devolver múltiples valores desde las funciones.\n"
   ]
  },
  {
   "cell_type": "markdown",
   "id": "e453263c",
   "metadata": {},
   "source": [
    "## Diccionarios\n",
    "\n",
    "Las listas, tuplas y arrays son conjuntos ordenados de objetos. Los objetos individuales se insertan, se acceden y se procesan según su lugar en la lista. En cambio, los diccionarios son conjuntos desordenados de pares. Se accede a los datos del diccionario por medio de claves.\n",
    "\n",
    "## Creación y modificación de diccionarios\n",
    "\n",
    "Por ejemplo, podemos crear un diccionario que contenga los datos de un cuerpo rígido en mecánica, de la siguiente manera"
   ]
  },
  {
   "cell_type": "code",
   "execution_count": null,
   "id": "6a3639f8",
   "metadata": {},
   "outputs": [],
   "source": [
    "truck_wheel = {'name':'wheel','mass':5.7,\n",
    "               'Ix':20.0,'Iy':1.,'Iz':17.,\n",
    "               'center of mass':[0.,0.,0.]}\n",
    "print(truck_wheel)\n",
    "print(type(truck_wheel))"
   ]
  },
  {
   "cell_type": "markdown",
   "id": "6a68a47e",
   "metadata": {},
   "source": [
    "Un par clave/datos se indica con dos puntos, :. Estos pares están separados por comas y listados dentro de un par de corchetes, {}. Se accede a los elementos individuales por sus claves:"
   ]
  },
  {
   "cell_type": "code",
   "execution_count": null,
   "id": "f149e52a",
   "metadata": {},
   "outputs": [],
   "source": [
    "truck_wheel['name']   # returns 'wheel'"
   ]
  },
  {
   "cell_type": "code",
   "execution_count": null,
   "id": "aa5dfd48",
   "metadata": {},
   "outputs": [],
   "source": [
    "truck_wheel['mass']   # returns 5.7"
   ]
  },
  {
   "cell_type": "markdown",
   "id": "5bad70e9",
   "metadata": {},
   "source": [
    "Los nuevos objetos se añaden al diccionario creando una nueva clave:"
   ]
  },
  {
   "cell_type": "code",
   "execution_count": null,
   "id": "ec5dc8e4",
   "metadata": {},
   "outputs": [],
   "source": [
    "truck_wheel['Ixy'] = 0.0\n",
    "truck_wheel"
   ]
  },
  {
   "cell_type": "markdown",
   "id": "88569958",
   "metadata": {},
   "source": [
    "Los diccionarios también se utilizan para proporcionar parámetros a una función. \n",
    "\n",
    "Las claves de un diccionario pueden ser, entre otras, cadenas, funciones, tuplas con elementos inmutables y clases. Las claves no pueden ser listas o arrays.\n",
    "\n",
    "El comando **dict** genera un diccionario a partir de una lista con pares clave/valor:"
   ]
  },
  {
   "cell_type": "code",
   "execution_count": null,
   "id": "6025cbc9",
   "metadata": {},
   "outputs": [],
   "source": [
    "truck_wheel = dict([('name','wheel'),('mass',5.7),       \n",
    "                    ('Ix',20.0), ('Iy',1.), ('Iz',17.), \n",
    "                    ('center of mass',[0.,0.,0.])])\n",
    "truck_wheel"
   ]
  },
  {
   "cell_type": "markdown",
   "id": "38553074",
   "metadata": {},
   "source": [
    "##  Bucle sobre diccionarios\n",
    "\n",
    "Existen principalmente tres formas de realizar un bucle sobre los diccionarios:\n",
    "* Por claves:"
   ]
  },
  {
   "cell_type": "code",
   "execution_count": null,
   "id": "af3d4f96",
   "metadata": {},
   "outputs": [],
   "source": [
    "for key in truck_wheel.keys():\n",
    "    print(key) # prints (in any order) 'Ix', 'Iy', 'name',..."
   ]
  },
  {
   "cell_type": "markdown",
   "id": "ba554b4c",
   "metadata": {},
   "source": [
    "o de forma equivalente:"
   ]
  },
  {
   "cell_type": "code",
   "execution_count": null,
   "id": "9f2e7e58",
   "metadata": {},
   "outputs": [],
   "source": [
    "for key in truck_wheel:\n",
    "    print(key) # prints (in any order) 'Ix', 'Iy', 'name',..."
   ]
  },
  {
   "cell_type": "markdown",
   "id": "08346542",
   "metadata": {},
   "source": [
    "* Por valor:"
   ]
  },
  {
   "cell_type": "code",
   "execution_count": null,
   "id": "c4d675f7",
   "metadata": {},
   "outputs": [],
   "source": [
    "for value in truck_wheel.values():\n",
    "    print(value) \n",
    "    # prints (in any order) 1.0, 20.0, 17.0, 'wheel', ..."
   ]
  },
  {
   "cell_type": "markdown",
   "id": "1c833843",
   "metadata": {},
   "source": [
    "* Por elemento, es decir, pares clave/valor:"
   ]
  },
  {
   "cell_type": "code",
   "execution_count": null,
   "id": "687c6799",
   "metadata": {},
   "outputs": [],
   "source": [
    "for item in truck_wheel.items():\n",
    "    print(item) "
   ]
  },
  {
   "cell_type": "markdown",
   "id": "a8d65981",
   "metadata": {},
   "source": [
    "# Conjuntos (Sets)\n",
    "\n",
    "El último objeto contenedor que introducimos en esta sección está definido por el tipo de datos **set**.\n",
    "\n",
    "Los conjuntos son contenedores que comparten propiedades y operaciones con los conjuntos en matemáticas. Un conjunto matemático es una colección de objetos distintos. Al igual que en matemáticas, en Python los elementos de un conjunto también se enumeran dentro de un par de llaves. \n",
    "\n",
    "Aquí hay algunas expresiones de conjuntos matemáticos:\n",
    "\n",
    "$$A=\\left\\{1,2,3,4 \\right\\},\\ B=\\left\\{5 \\right\\},\\ C=A\\cup B,\\ D=A\\cap C,\\ E=C\\setminus A,\\ 5\\in C $$"
   ]
  },
  {
   "cell_type": "markdown",
   "id": "97cbbc0d",
   "metadata": {},
   "source": [
    "Y aquí están sus homólogos en Python:"
   ]
  },
  {
   "cell_type": "code",
   "execution_count": null,
   "id": "0d1d6133",
   "metadata": {},
   "outputs": [],
   "source": [
    "A = {1,2,3,4}\n",
    "B = {5}\n",
    "print(B)\n",
    "print(type(A))"
   ]
  },
  {
   "cell_type": "code",
   "execution_count": null,
   "id": "0cef77c6",
   "metadata": {},
   "outputs": [],
   "source": [
    "C = A.union(B)   # returns {1, 2, 3, 4, 5}\n",
    "C"
   ]
  },
  {
   "cell_type": "code",
   "execution_count": null,
   "id": "51ab1436",
   "metadata": {},
   "outputs": [],
   "source": [
    "D = A.intersection(C)   # returns {1, 2, 3, 4}\n",
    "D"
   ]
  },
  {
   "cell_type": "code",
   "execution_count": null,
   "id": "2c0fa7bd",
   "metadata": {},
   "outputs": [],
   "source": [
    "E = C.difference(A)   # returns {5}\n",
    "E"
   ]
  },
  {
   "cell_type": "code",
   "execution_count": null,
   "id": "423d4afc",
   "metadata": {},
   "outputs": [],
   "source": [
    "5 in C   # returns True"
   ]
  },
  {
   "cell_type": "markdown",
   "id": "f96324a4",
   "metadata": {},
   "source": [
    "Los conjuntos contienen un elemento sólo una vez, lo que corresponde a la definición mencionada:"
   ]
  },
  {
   "cell_type": "code",
   "execution_count": null,
   "id": "a3d4ee7f",
   "metadata": {},
   "outputs": [],
   "source": [
    "A = {1,2,3,3,3}\n",
    "B = {1,2,3}\n",
    "A == B # returns True"
   ]
  },
  {
   "cell_type": "markdown",
   "id": "f9fad93b",
   "metadata": {},
   "source": [
    "Además, un conjunto es desordenado, es decir, el orden de los elementos del conjunto no está definido:"
   ]
  },
  {
   "cell_type": "code",
   "execution_count": null,
   "id": "75e6d03c",
   "metadata": {},
   "outputs": [],
   "source": [
    "A = {1,2,3}\n",
    "B = {1,3,2}\n",
    "A == B # returns True"
   ]
  },
  {
   "cell_type": "markdown",
   "id": "ef79c0a8",
   "metadata": {},
   "source": [
    "Los conjuntos en Python pueden contener todo tipo de objetos inmutables, es decir, objetos numéricos, cadenas y booleanos.\n",
    "\n",
    "Existen los métodos unión e intersección para las correspondientes operaciones matemáticas:"
   ]
  },
  {
   "cell_type": "code",
   "execution_count": null,
   "id": "9d9fc040",
   "metadata": {},
   "outputs": [],
   "source": [
    "A={1,2,3,4}\n",
    "A.union({5})"
   ]
  },
  {
   "cell_type": "code",
   "execution_count": null,
   "id": "90e273aa",
   "metadata": {},
   "outputs": [],
   "source": [
    "A.intersection({2,4,6}) # returns {2, 4}"
   ]
  },
  {
   "cell_type": "markdown",
   "id": "b8b3aaec",
   "metadata": {},
   "source": [
    "Además, los conjuntos pueden compararse mediante los métodos **issubset** e **issuperset**:"
   ]
  },
  {
   "cell_type": "code",
   "execution_count": null,
   "id": "068ac604",
   "metadata": {},
   "outputs": [],
   "source": [
    "{2,4}.issubset({1,2,3,4,5}) # returns True"
   ]
  },
  {
   "cell_type": "code",
   "execution_count": null,
   "id": "dc2cecec",
   "metadata": {},
   "outputs": [],
   "source": [
    "{1,2,3,4,5}.issuperset({2,4}) # returns True"
   ]
  },
  {
   "cell_type": "markdown",
   "id": "644c7cf9",
   "metadata": {},
   "source": [
    "Un conjunto vacío se define en Python por $empty\\_set=set([])$ y no por {}, ¡que definiría un diccionario vacío!"
   ]
  },
  {
   "cell_type": "code",
   "execution_count": null,
   "id": "7caeae2e",
   "metadata": {},
   "outputs": [],
   "source": [
    "empty_set=set([])\n",
    "print(empty_set)\n",
    "print(type(empty_set))"
   ]
  },
  {
   "cell_type": "markdown",
   "id": "b722063b",
   "metadata": {},
   "source": [
    "## Conversiones de contenedores\n",
    "\n",
    "Resumimos en la siguiente tabla las propiedades más importantes de los tipos de contenedores presentados hasta ahora."
   ]
  },
  {
   "cell_type": "code",
   "execution_count": 4,
   "id": "67baff11",
   "metadata": {},
   "outputs": [
    {
     "data": {
      "image/png": "[encoded data removed]",
      "text/plain": [
       "<IPython.core.display.Image object>"
      ]
     },
     "execution_count": 4,
     "metadata": {
      "image/png": {
       "width": 700
      }
     },
     "output_type": "execute_result"
    }
   ],
   "source": [
    "Image(filename=r'Imagenes_Clase_02/03_04.png', width=700)"
   ]
  },
  {
   "cell_type": "markdown",
   "id": "79b7633a",
   "metadata": {},
   "source": [
    "Como se puede ver en la tabla anterior, hay una diferencia en el acceso a los elementos contenedores, y los conjuntos y diccionarios no están ordenados.\n",
    "\n",
    "Debido a las diferentes propiedades de los distintos tipos de contenedores, a menudo convertimos un tipo en otro:"
   ]
  },
  {
   "cell_type": "code",
   "execution_count": 5,
   "id": "e08d68fa",
   "metadata": {},
   "outputs": [
    {
     "data": {
      "image/png": "[encoded data removed]",
      "text/plain": [
       "<IPython.core.display.Image object>"
      ]
     },
     "execution_count": 5,
     "metadata": {
      "image/png": {
       "width": 700
      }
     },
     "output_type": "execute_result"
    }
   ],
   "source": [
    "Image(filename=r'Imagenes_Clase_02/03_05.png', width=700)"
   ]
  }
 ],
 "metadata": {
  "kernelspec": {
   "display_name": "Python 3 (ipykernel)",
   "language": "python",
   "name": "python3"
  },
  "language_info": {
   "codemirror_mode": {
    "name": "ipython",
    "version": 3
   },
   "file_extension": ".py",
   "mimetype": "text/x-python",
   "name": "python",
   "nbconvert_exporter": "python",
   "pygments_lexer": "ipython3",
   "version": "3.9.7"
  },
  "vscode": {
   "interpreter": {
    "hash": "c6a962e358f30f7f1bc6d5cb3ea5a33a533944a3d6235bbbc933c007ef06dc8e"
   }
  }
 },
 "nbformat": 4,
 "nbformat_minor": 5
}
