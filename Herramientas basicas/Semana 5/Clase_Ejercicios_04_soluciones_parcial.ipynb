{
 "cells": [
  {
   "cell_type": "markdown",
   "metadata": {},
   "source": [
    "# Herramientas básicas para el Análisis de Datos (IMA602)\n",
    "\n",
    "## Ejercicios sobre trabajo con archivos.\n"
   ]
  },
  {
   "cell_type": "markdown",
   "metadata": {},
   "source": [
    "## Ejercicio 1: \n",
    "\n",
    "Cree una función que extrae la última línea de un archivo. La función recibe el nombre del archivo como argumento y entrega la última linea en pantalla."
   ]
  },
  {
   "cell_type": "code",
   "execution_count": null,
   "metadata": {},
   "outputs": [],
   "source": [
    "# Solución\n",
    " \n",
    "\n",
    "def extrae_ultima_linea(archivo):\n",
    "    linea_final=''\n",
    "    for lineal_actual in open(archivo):\n",
    "        linea_final=lineal_actual\n",
    "    return linea_final\n",
    "\n",
    "#print(extrae_ultima_linea('archivo_de_prueba.txt'))\n"
   ]
  },
  {
   "cell_type": "markdown",
   "metadata": {},
   "source": [
    "## Ejercicio 2: \n",
    "\n",
    "Crear una función que reciba un archivo de password de tipo unix (/etc/passwd) y entregue un diccionario cuyas claves sean los nombres de usuario y los valores los ID de los usuarios. La función debe crear el diccionario utilizando compresión. (Obs: En los archivos /etc/passwd los nombres de usuarios ocupan el primer campo, con índice 0 y el ID el tercer campo, con índice 2)."
   ]
  },
  {
   "cell_type": "code",
   "execution_count": null,
   "metadata": {},
   "outputs": [],
   "source": [
    "# Solución\n",
    " \n",
    "def passwd_2_dict(nombre_archivo):\n",
    "    usuarios={}\n",
    "    with open(nombre_archivo) as passwd:\n",
    "        for linea in passwd:\n",
    "            if not linea.startswith(('#', '\\n')):\n",
    "                inf_usuario = linea.split(':')\n",
    "                usuarios[inf_usuario[0]] = int(inf_usuario[2])\n",
    "    return usuarios\n",
    "\n",
    "def passwd_2_dict_full_compresion(nombre_archivo):\n",
    "    with open(nombre_archivo) as passwd:\n",
    "        return {linea.split(':')[0] : int(linea.split(':')[2]) for linea in passwd if not linea.startswith(('#', '\\n'))}\n",
    "\n",
    "\n",
    "\"\"\" dict_resultado=passwd_2_dict('Datos_Clase_Ejercicios_04/passwd_file.txt')\n",
    "dict_resultado_compresion=passwd_2_dict_full_compresion('Datos_Clase_Ejercicios_04/passwd_file.txt')\n",
    "print(dict_resultado)\n",
    "print(dict_resultado_compresion)\n",
    "print(dict_resultado_compresion==dict_resultado) \"\"\"\n"
   ]
  },
  {
   "cell_type": "markdown",
   "metadata": {},
   "source": [
    "## Ejercicio 3: \n",
    "\n",
    "Cree una función resumen_de_archivo_texto() que recibe el nombre de un archivo de texto e imprime cuatro lineas, conteniendo la siguiente información:\n",
    "- Cantidad de caracteres(incluyendo espacios en blanco)\n",
    "- Cantidad de palabras (separadas por espacios en blanco)\n",
    "- Cantidad de lineas \n",
    "- Cantidad de palabras distintas (difenrenciando mayúsculas, o sea 'No' es diferente de 'no')"
   ]
  },
  {
   "cell_type": "code",
   "execution_count": null,
   "metadata": {},
   "outputs": [],
   "source": [
    "# Solución\n",
    "\n",
    "def resumen_de_archivo_texto(archivo):\n",
    "    contador={'caracteres':0, 'palabras':0, 'lineas':0}\n",
    "    palabras_diferentes = set()\n",
    "    for linea in open(archivo):\n",
    "        contador['caracteres'] += len(linea)\n",
    "        contador['palabras'] += len(linea.split())\n",
    "        contador['lineas'] += 1\n",
    "        palabras_diferentes.update(linea.split())\n",
    "    contador['nro_palabras_dif']=len(palabras_diferentes)\n",
    "    for key, value in contador.items():\n",
    "        print(f'{key}: {value}')\n",
    "\n",
    "#resumen_de_archivo_texto('Texto_de_prueba2.txt')"
   ]
  }
 ],
 "metadata": {
  "kernelspec": {
   "display_name": "Python 3",
   "language": "python",
   "name": "python3"
  },
  "language_info": {
   "codemirror_mode": {
    "name": "ipython",
    "version": 3
   },
   "file_extension": ".py",
   "mimetype": "text/x-python",
   "name": "python",
   "nbconvert_exporter": "python",
   "pygments_lexer": "ipython3",
   "version": "3.10.0"
  }
 },
 "nbformat": 4,
 "nbformat_minor": 4
}
