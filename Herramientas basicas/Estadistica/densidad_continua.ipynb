{
 "cells": [
  {
   "cell_type": "code",
   "execution_count": 6,
   "metadata": {},
   "outputs": [
    {
     "data": {
      "text/plain": [
       "(array([[0.  , 0.01, 0.02, ..., 0.98, 0.99, 1.  ],\n",
       "        [0.  , 0.01, 0.02, ..., 0.98, 0.99, 1.  ],\n",
       "        [0.  , 0.01, 0.02, ..., 0.98, 0.99, 1.  ],\n",
       "        ...,\n",
       "        [0.  , 0.01, 0.02, ..., 0.98, 0.99, 1.  ],\n",
       "        [0.  , 0.01, 0.02, ..., 0.98, 0.99, 1.  ],\n",
       "        [0.  , 0.01, 0.02, ..., 0.98, 0.99, 1.  ]]),\n",
       " array([[0.  , 0.  , 0.  , ..., 0.  , 0.  , 0.  ],\n",
       "        [0.01, 0.01, 0.01, ..., 0.01, 0.01, 0.01],\n",
       "        [0.02, 0.02, 0.02, ..., 0.02, 0.02, 0.02],\n",
       "        ...,\n",
       "        [0.98, 0.98, 0.98, ..., 0.98, 0.98, 0.98],\n",
       "        [0.99, 0.99, 0.99, ..., 0.99, 0.99, 0.99],\n",
       "        [1.  , 1.  , 1.  , ..., 1.  , 1.  , 1.  ]]))"
      ]
     },
     "execution_count": 6,
     "metadata": {},
     "output_type": "execute_result"
    }
   ],
   "source": [
    "import numpy as np\n",
    "import matplotlib as plt\n",
    "\n",
    "X = np.linspace(start=0,stop=1,num=101)\n",
    "Y = np.linspace(0,1,101)\n",
    "\n",
    "X,Y = np.meshgrid(X,Y)\n",
    "\n",
    "Z = "
   ]
  }
 ],
 "metadata": {
  "kernelspec": {
   "display_name": "Python 3",
   "language": "python",
   "name": "python3"
  },
  "language_info": {
   "codemirror_mode": {
    "name": "ipython",
    "version": 3
   },
   "file_extension": ".py",
   "mimetype": "text/x-python",
   "name": "python",
   "nbconvert_exporter": "python",
   "pygments_lexer": "ipython3",
   "version": "3.12.3"
  }
 },
 "nbformat": 4,
 "nbformat_minor": 2
}
