{
 "cells": [
  {
   "cell_type": "markdown",
   "metadata": {},
   "source": [
    "# Clase 3 IMA602\n",
    "\n",
    "* **Walter Gómez Bofill**\n",
    "\n",
    "\n",
    "* **Minor Análisis de Datos**\n",
    "\n",
    "\n",
    "* **Primer semestre de 2024**\n",
    "\n",
    "## Funciones de Python"
   ]
  },
  {
   "cell_type": "code",
   "execution_count": 1,
   "metadata": {},
   "outputs": [],
   "source": [
    "def subtract(x1, x2):\n",
    "    z = x1 - x2\n",
    "    x2 = 50.\n",
    "    return z"
   ]
  },
  {
   "cell_type": "code",
   "execution_count": 3,
   "metadata": {},
   "outputs": [
    {
     "name": "stdout",
     "output_type": "stream",
     "text": [
      "-10.0\n",
      "20.0\n"
     ]
    }
   ],
   "source": [
    "a = 20.\n",
    "b = subtract(10, a)\n",
    "print(b)\n",
    "print(a)"
   ]
  },
  {
   "cell_type": "code",
   "execution_count": 4,
   "metadata": {},
   "outputs": [],
   "source": [
    "def sum_elems(args):\n",
    "    s = 0\n",
    "    for a in args:\n",
    "        s = s + a\n",
    "    return s"
   ]
  },
  {
   "cell_type": "code",
   "execution_count": 5,
   "metadata": {},
   "outputs": [
    {
     "data": {
      "text/plain": [
       "6"
      ]
     },
     "execution_count": 5,
     "metadata": {},
     "output_type": "execute_result"
    }
   ],
   "source": [
    "L = [0,0,1,5]\n",
    "sum_elems(L)"
   ]
  },
  {
   "cell_type": "markdown",
   "metadata": {},
   "source": [
    "**Ejemplo 1** (Función Recursiva). Los polinomios de Chebyshev se definen mediante la siguiente recursividad:\n",
    "\n",
    "$$T_{n}(x) = 2xT_{n-1}(x) - T_{n-2}(x)$$\n",
    "\n",
    "$$T_0(x) = 1$$\n",
    "\n",
    "$$T_1(x) = x$$"
   ]
  },
  {
   "cell_type": "code",
   "execution_count": null,
   "metadata": {},
   "outputs": [],
   "source": [
    "def chebyshev(n, x):\n",
    "    if n == 0:\n",
    "        return 1.\n",
    "    elif n == 1:\n",
    "        return x\n",
    "    else:\n",
    "        return 2. * x * chebyshev(n-1,x) - chebyshev(n-2,x)"
   ]
  },
  {
   "cell_type": "markdown",
   "metadata": {},
   "source": [
    "En general, se pueden definir funciones usando la sintaxis:\n",
    "\n",
    "```python\n",
    "def example(arg_1, arg_2, *args, kw_1=val_1,..., kw_2=val_2,**kwargs):\n",
    "    ...\n",
    "    return res\n",
    "```\n",
    "\n",
    "Es decir, los parámetros con posición \"formales\" son los primeros"
   ]
  },
  {
   "cell_type": "code",
   "execution_count": 4,
   "metadata": {},
   "outputs": [
    {
     "name": "stdout",
     "output_type": "stream",
     "text": [
      "['cambiado', 2, 3]\n"
     ]
    }
   ],
   "source": [
    "# Si se pasan argumentos mutables de entrada a una función y se cambian dentro de la función, también pueden cambiar\n",
    "# fuera de la función:\n",
    "\n",
    "def cambia_0(x):\n",
    "    ''' Cambia el primer indice de una lista. '''\n",
    "    x[0] = 'cambiado'\n",
    "\n",
    "lista = ['no_cambiar', 2, 3]\n",
    "\n",
    "cambia_0(lista)\n",
    "\n",
    "print(lista)"
   ]
  },
  {
   "cell_type": "code",
   "execution_count": 6,
   "metadata": {},
   "outputs": [
    {
     "name": "stdout",
     "output_type": "stream",
     "text": [
      "8\n",
      "1\n"
     ]
    }
   ],
   "source": [
    "n = 1\n",
    "def suma_7(x):\n",
    "    ''' Toma un entero y le suma 7.'''\n",
    "    x += 7\n",
    "    return x\n",
    "\n",
    "print(suma_7(n))\n",
    "print(n)\n"
   ]
  },
  {
   "cell_type": "code",
   "execution_count": 12,
   "metadata": {},
   "outputs": [
    {
     "data": {
      "text/plain": [
       "[1, 2, 3]"
      ]
     },
     "execution_count": 12,
     "metadata": {},
     "output_type": "execute_result"
    }
   ],
   "source": [
    "def my_list(x1, x2 = []):\n",
    "    x2.append(x1)\n",
    "    return x2\n",
    "my_list(1)\n",
    "my_list(2,)\n",
    "p=my_list(3)\n",
    "p\n"
   ]
  },
  {
   "cell_type": "code",
   "execution_count": 13,
   "metadata": {},
   "outputs": [
    {
     "data": {
      "text/plain": [
       "42"
      ]
     },
     "execution_count": 13,
     "metadata": {},
     "output_type": "execute_result"
    }
   ],
   "source": [
    "def func(*args):\n",
    "    s=0\n",
    "    for a in args:\n",
    "        s+=a\n",
    "    return s\n",
    "\n",
    "func(3,4,5,6,7,8,9)"
   ]
  },
  {
   "cell_type": "code",
   "execution_count": 34,
   "metadata": {},
   "outputs": [
    {
     "name": "stdout",
     "output_type": "stream",
     "text": [
      "1\n",
      "2\n",
      "0.5\n",
      "clave1\n",
      "clave2\n",
      "10\n",
      "20\n",
      "-----------------\n",
      "1\n",
      "2\n",
      "3\n",
      "4\n",
      "5\n",
      "0.5\n",
      "clave1\n",
      "clave2\n",
      "10\n",
      "20\n"
     ]
    }
   ],
   "source": [
    "def func2(var1, var2, *args, clave0=0, **kargs):\n",
    "    print(var1)\n",
    "    print(var2)\n",
    "    for v in args:\n",
    "        print(v)\n",
    "    print(clave0)\n",
    "    for clave in kargs.keys():\n",
    "        print(clave)\n",
    "    for valor in kargs.values():\n",
    "        print(valor)\n",
    "    return \n",
    "\n",
    "test_var=(3,4,5)\n",
    "test_dic={'clave1' : 10, 'clave2' : 20}\n",
    "\n",
    "test_dic.values()\n",
    "func2(1,2,clave0=0.5,clave1=10, clave2=20)\n",
    "\n",
    "print('-----------------')\n",
    "func2(1,2,*test_var,clave0=0.5,**test_dic)\n"
   ]
  },
  {
   "cell_type": "markdown",
   "metadata": {},
   "source": [
    "**Ejemplo 2** (Función Lambda). Construcción de una función Lambda para definir una Parábola con la forma:\n",
    "\n",
    "$$f(x) = ax^2 + bx + c$$"
   ]
  },
  {
   "cell_type": "code",
   "execution_count": null,
   "metadata": {},
   "outputs": [],
   "source": [
    "parabola = lambda x, a, b, c: a*x**2 + b*x + c"
   ]
  },
  {
   "cell_type": "code",
   "execution_count": null,
   "metadata": {},
   "outputs": [],
   "source": [
    "def parabola(x, a, b, c):\n",
    "    \"\"\"\n",
    "    Esta función o método calcula una función cuadrática general,\n",
    "    de la forma: f(x) = ax^2 + bx + c\n",
    "    Argumentos de entrada:\n",
    "    x = ...\n",
    "    a = ...\n",
    "    b = ...\n",
    "    c = ...\n",
    "    \"\"\"\n",
    "    return a*x**2 + b*x + c"
   ]
  },
  {
   "cell_type": "code",
   "execution_count": null,
   "metadata": {},
   "outputs": [],
   "source": [
    "help(parabola)"
   ]
  },
  {
   "cell_type": "markdown",
   "metadata": {},
   "source": [
    "## Las funciones son objetos"
   ]
  },
  {
   "cell_type": "code",
   "execution_count": 41,
   "metadata": {},
   "outputs": [],
   "source": [
    "def square(x):\n",
    "    \"\"\"\n",
    "    Retorna el cuadradado de x\n",
    "    \"\"\"\n",
    "    return x ** 2"
   ]
  },
  {
   "cell_type": "code",
   "execution_count": 42,
   "metadata": {},
   "outputs": [
    {
     "data": {
      "text/plain": [
       "16"
      ]
     },
     "execution_count": 42,
     "metadata": {},
     "output_type": "execute_result"
    }
   ],
   "source": [
    "square(4)"
   ]
  },
  {
   "cell_type": "code",
   "execution_count": 43,
   "metadata": {},
   "outputs": [
    {
     "data": {
      "text/plain": [
       "16"
      ]
     },
     "execution_count": 43,
     "metadata": {},
     "output_type": "execute_result"
    }
   ],
   "source": [
    "sq = square\n",
    "sq(4)"
   ]
  },
  {
   "cell_type": "code",
   "execution_count": 44,
   "metadata": {},
   "outputs": [
    {
     "ename": "NameError",
     "evalue": "name 'square' is not defined",
     "output_type": "error",
     "traceback": [
      "\u001b[1;31m---------------------------------------------------------------------------\u001b[0m",
      "\u001b[1;31mNameError\u001b[0m                                 Traceback (most recent call last)",
      "Cell \u001b[1;32mIn[44], line 2\u001b[0m\n\u001b[0;32m      1\u001b[0m \u001b[38;5;28;01mdel\u001b[39;00m square\n\u001b[1;32m----> 2\u001b[0m help(\u001b[43msquare\u001b[49m)\n",
      "\u001b[1;31mNameError\u001b[0m: name 'square' is not defined"
     ]
    }
   ],
   "source": [
    "del square\n",
    "help(square)"
   ]
  },
  {
   "cell_type": "code",
   "execution_count": 45,
   "metadata": {},
   "outputs": [
    {
     "data": {
      "text/plain": [
       "16"
      ]
     },
     "execution_count": 45,
     "metadata": {},
     "output_type": "execute_result"
    }
   ],
   "source": [
    "sq(4)"
   ]
  },
  {
   "cell_type": "markdown",
   "metadata": {},
   "source": [
    "## POO- Clases de Python\n",
    "\n",
    "**Ejemplo 3**. Construcción de una clase para Números Racionales."
   ]
  },
  {
   "cell_type": "code",
   "execution_count": 35,
   "metadata": {},
   "outputs": [],
   "source": [
    "class RationalNumber:\n",
    "    def __init__(self, numerator, denominator):\n",
    "        self.numerator = numerator\n",
    "        self.denominator = denominator\n",
    "        \n",
    "    def convert2float(self):\n",
    "        return float(self.numerator) / float(self.denominator)\n",
    "    \n",
    "    def __repr__(self):\n",
    "        return '{} / {}'.format(self.numerator,self.denominator)\n",
    "    \n",
    "    def __add__(self, other):\n",
    "        p1, q1 = self.numerator, self.denominator\n",
    "        if isinstance(other, int):\n",
    "            p2, q2 = other, 1\n",
    "        else:\n",
    "            p2, q2 = other.numerator, other.denominator\n",
    "        return RationalNumber(p1 * q2 + p2 * q1, q1 * q2)\n",
    "    \n",
    "    def __eq__(self, other):\n",
    "        return self.denominator * other.numerator == self.numerator * other.denominator"
   ]
  },
  {
   "cell_type": "code",
   "execution_count": 40,
   "metadata": {},
   "outputs": [
    {
     "name": "stdout",
     "output_type": "stream",
     "text": [
      "2 / 3\n",
      "4 / 3\n",
      "18 / 9\n"
     ]
    },
    {
     "data": {
      "text/plain": [
       "True"
      ]
     },
     "execution_count": 40,
     "metadata": {},
     "output_type": "execute_result"
    }
   ],
   "source": [
    "r1=RationalNumber(2,3)\n",
    "r2=RationalNumber(4,3)\n",
    "\n",
    "print(r1)\n",
    "print(r2)\n",
    "\n",
    "print(r1+r2)\n",
    "r3=RationalNumber(2,1)\n",
    "(r1+r2)==r3"
   ]
  },
  {
   "cell_type": "markdown",
   "metadata": {},
   "source": [
    "**Ejemplo 4 (Generador)**. La secuencia de Fibonacci se define mediante la fórmula de recurrencia: \n",
    "\n",
    "$$u_n = u_{n-1} + u_{n-2}$$"
   ]
  },
  {
   "cell_type": "code",
   "execution_count": null,
   "metadata": {},
   "outputs": [],
   "source": [
    "def fibonacci(u0, u1):\n",
    "    \"\"\"\n",
    "    Generador infinito de la secuencia de Fibonacci.\n",
    "    \"\"\"\n",
    "    yield u0\n",
    "    yield u1\n",
    "    while True:\n",
    "        u0, u1 = u1, u0+u1\n",
    "        yield u1"
   ]
  },
  {
   "cell_type": "code",
   "execution_count": null,
   "metadata": {},
   "outputs": [],
   "source": [
    "import itertools\n",
    "\n",
    "x = list(itertools.islice(fibonacci(0, 1), 20))\n",
    "print(x)"
   ]
  },
  {
   "cell_type": "code",
   "execution_count": null,
   "metadata": {},
   "outputs": [],
   "source": []
  }
 ],
 "metadata": {
  "kernelspec": {
   "display_name": "Python 3",
   "language": "python",
   "name": "python3"
  },
  "language_info": {
   "codemirror_mode": {
    "name": "ipython",
    "version": 3
   },
   "file_extension": ".py",
   "mimetype": "text/x-python",
   "name": "python",
   "nbconvert_exporter": "python",
   "pygments_lexer": "ipython3",
   "version": "3.10.0"
  }
 },
 "nbformat": 4,
 "nbformat_minor": 4
}
